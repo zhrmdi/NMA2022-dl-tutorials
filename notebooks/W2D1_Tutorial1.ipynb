{
  "cells": [
    {
      "cell_type": "markdown",
      "metadata": {
        "id": "view-in-github",
        "colab_type": "text"
      },
      "source": [
        "<a href=\"https://colab.research.google.com/github/zahramor/NMA2022-dl-tutorials/blob/main/notebooks/W2D1_Tutorial1.ipynb\" target=\"_parent\"><img src=\"https://colab.research.google.com/assets/colab-badge.svg\" alt=\"Open In Colab\"/></a>"
      ]
    },
    {
      "cell_type": "markdown",
      "metadata": {
        "execution": {},
        "id": "MQWRRH0LCbf_"
      },
      "source": [
        "# Tutorial 1: Regularization techniques part 1\n",
        "\n",
        "**Week 2, Day 1: Regularization**\n",
        "\n",
        "**By Neuromatch Academy**\n",
        "\n",
        "__Content creators:__ Ravi Teja Konkimalla, Mohitrajhu Lingan Kumaraian, Kevin Machado Gamboa, Kelson Shilling-Scrivo, Lyle Ungar\n",
        "\n",
        "__Content reviewers:__ Piyush Chauhan, Siwei Bai, Kelson Shilling-Scrivo\n",
        "\n",
        "__Content editors:__ Roberto Guidotti, Spiros Chavlis\n",
        "\n",
        "__Production editors:__ Saeed Salehi, Gagana B, Spiros Chavlis"
      ]
    },
    {
      "cell_type": "markdown",
      "metadata": {
        "execution": {},
        "id": "8bZ6MrbkCbgD"
      },
      "source": [
        "<p align='center'><img src='https://github.com/NeuromatchAcademy/widgets/blob/master/sponsors.png?raw=True'/></p>"
      ]
    },
    {
      "cell_type": "markdown",
      "metadata": {
        "execution": {},
        "id": "0ZQMYekjCbgE"
      },
      "source": [
        "---\n",
        "# Tutorial Objectives\n",
        "\n",
        "1. Big Artificial Neural Networks (ANNs) are efficient universal approximators due to their adaptive basis functions\n",
        "2. ANNs memorize some but generalize well\n",
        "3. Regularization as shrinkage of overparameterized models: early stopping "
      ]
    },
    {
      "cell_type": "code",
      "execution_count": null,
      "metadata": {
        "cellView": "form",
        "execution": {},
        "id": "yB8x1_bECbgH"
      },
      "outputs": [],
      "source": [
        "# @title Tutorial slides\n",
        "\n",
        "from IPython.display import IFrame\n",
        "IFrame(src=f\"https://mfr.ca-1.osf.io/render?url=https://osf.io/mf79a/?direct%26mode=render%26action=download%26mode=render\", width=854, height=480)"
      ]
    },
    {
      "cell_type": "markdown",
      "metadata": {
        "execution": {},
        "id": "KJ-Hr3VACbgJ"
      },
      "source": [
        "These are the slides for all videos in this tutorial. If you want to locally download the slides, click [here](https://osf.io/mf79a/download)."
      ]
    },
    {
      "cell_type": "markdown",
      "metadata": {
        "execution": {},
        "id": "Hy7k9hdICbgK"
      },
      "source": [
        "---\n",
        "# Setup\n",
        "Note that some of the code for today can take up to an hour to run. We have therefore \"hidden\" the code and shown the resulting outputs.\n"
      ]
    },
    {
      "cell_type": "code",
      "execution_count": 1,
      "metadata": {
        "cellView": "form",
        "execution": {},
        "id": "Sm0NwWrICbgL",
        "outputId": "f3087e1e-3b66-44d7-c83a-89b0a998148d",
        "colab": {
          "base_uri": "https://localhost:8080/"
        }
      },
      "outputs": [
        {
          "output_type": "stream",
          "name": "stdout",
          "text": [
            "\u001b[K     |████████████████████████████████| 26.9 MB 1.7 MB/s \n",
            "\u001b[?25h  Building wheel for evaltools (setup.py) ... \u001b[?25l\u001b[?25hdone\n"
          ]
        }
      ],
      "source": [
        "# @title Install dependencies\n",
        "\n",
        "# @markdown **WARNING**: There may be *errors* and/or *warnings* reported during the installation. However, they should be ignored.\n",
        "\n",
        "!pip install imageio --quiet\n",
        "!pip install imageio-ffmpeg --quiet\n",
        "!pip install git+https://github.com/NeuromatchAcademy/evaltools --quiet\n",
        "\n",
        "from evaltools.airtable import AirtableForm\n",
        "atform = AirtableForm('appn7VdPRseSoMXEG', 'W2D1_T1','https://portal.neuromatchacademy.org/api/redirect/to/9c55f6cb-cdf9-4429-ac1c-ec44fe64c303')"
      ]
    },
    {
      "cell_type": "code",
      "execution_count": 2,
      "metadata": {
        "execution": {},
        "id": "1MmKYAggCbgN"
      },
      "outputs": [],
      "source": [
        "# Imports\n",
        "import time\n",
        "import copy\n",
        "import torch\n",
        "import pathlib\n",
        "\n",
        "import numpy as np\n",
        "import torch.nn as nn\n",
        "import torch.optim as optim\n",
        "import torch.nn.functional as F\n",
        "import matplotlib.pyplot as plt\n",
        "import matplotlib.animation as animation\n",
        "\n",
        "from tqdm.auto import tqdm\n",
        "from IPython.display import HTML\n",
        "from torchvision import transforms\n",
        "from torchvision.datasets import ImageFolder"
      ]
    },
    {
      "cell_type": "code",
      "execution_count": 3,
      "metadata": {
        "cellView": "form",
        "execution": {},
        "id": "bIryr3gaCbgO"
      },
      "outputs": [],
      "source": [
        "# @title Figure Settings\n",
        "import ipywidgets as widgets\n",
        "%matplotlib inline\n",
        "%config InlineBackend.figure_format = 'retina'\n",
        "plt.style.use(\"https://raw.githubusercontent.com/NeuromatchAcademy/content-creation/main/nma.mplstyle\")"
      ]
    },
    {
      "cell_type": "code",
      "execution_count": 4,
      "metadata": {
        "cellView": "form",
        "execution": {},
        "id": "8powRXJsCbgR",
        "outputId": "812b7357-9212-47e5-8f75-4c49a57bfe98",
        "colab": {
          "base_uri": "https://localhost:8080/"
        }
      },
      "outputs": [
        {
          "output_type": "stream",
          "name": "stdout",
          "text": [
            "Start downloading and unzipping `AnimalFaces` dataset...\n",
            "Download completed.\n"
          ]
        }
      ],
      "source": [
        "# @title Loading Animal Faces data\n",
        "import requests, os\n",
        "from zipfile import ZipFile\n",
        "\n",
        "print(\"Start downloading and unzipping `AnimalFaces` dataset...\")\n",
        "name = 'afhq'\n",
        "fname = f\"{name}.zip\"\n",
        "url = f\"https://osf.io/kgfvj/download\"\n",
        "\n",
        "if not os.path.exists(fname):\n",
        "  r = requests.get(url, allow_redirects=True)\n",
        "  with open(fname, 'wb') as fh:\n",
        "    fh.write(r.content)\n",
        "\n",
        "  if os.path.exists(fname):\n",
        "    with ZipFile(fname, 'r') as zfile:\n",
        "      zfile.extractall(f\".\")\n",
        "      os.remove(fname)\n",
        "\n",
        "print(\"Download completed.\")"
      ]
    },
    {
      "cell_type": "code",
      "execution_count": 5,
      "metadata": {
        "cellView": "form",
        "execution": {},
        "id": "1kWYX8UNCbgS",
        "outputId": "d34dff9c-8981-442a-97cb-e8572ff47953",
        "colab": {
          "base_uri": "https://localhost:8080/"
        }
      },
      "outputs": [
        {
          "output_type": "stream",
          "name": "stdout",
          "text": [
            "Start downloading and unzipping `Randomized AnimalFaces` dataset...\n",
            "Download completed.\n"
          ]
        }
      ],
      "source": [
        "# @title Loading Animal Faces Randomized data\n",
        "\n",
        "print(\"Start downloading and unzipping `Randomized AnimalFaces` dataset...\")\n",
        "\n",
        "names = ['afhq_random_32x32', 'afhq_10_32x32']\n",
        "urls = [\"https://osf.io/9sj7p/download\",\n",
        "        \"https://osf.io/wvgkq/download\"]\n",
        "\n",
        "\n",
        "for i, name in enumerate(names):\n",
        "  url = urls[i]\n",
        "  fname = f\"{name}.zip\"\n",
        "\n",
        "  if not os.path.exists(fname):\n",
        "    r = requests.get(url, allow_redirects=True)\n",
        "    with open(fname, 'wb') as fh:\n",
        "      fh.write(r.content)\n",
        "\n",
        "    if os.path.exists(fname):\n",
        "      with ZipFile(fname, 'r') as zfile:\n",
        "        zfile.extractall(f\".\")\n",
        "        os.remove(fname)\n",
        "\n",
        "print(\"Download completed.\")"
      ]
    },
    {
      "cell_type": "code",
      "execution_count": 6,
      "metadata": {
        "cellView": "form",
        "execution": {},
        "id": "ubU4KFGmCbgU"
      },
      "outputs": [],
      "source": [
        "# @title Plotting functions\n",
        "def imshow(img):\n",
        "  \"\"\"\n",
        "  Display unnormalized image\n",
        "\n",
        "  Args:\n",
        "    img: np.ndarray\n",
        "      Datapoint to visualize\n",
        "\n",
        "  Returns:\n",
        "    Nothing\n",
        "  \"\"\"\n",
        "  img = img / 2 + 0.5     # Unnormalize\n",
        "  npimg = img.numpy()\n",
        "  plt.imshow(np.transpose(npimg, (1, 2, 0)))\n",
        "  plt.axis(False)\n",
        "  plt.show()\n",
        "\n",
        "\n",
        "def plot_weights(norm, labels, ws,\n",
        "                 title='Weight Size Measurement'):\n",
        "  \"\"\"\n",
        "  Plot of weight size measurement [norm value vs layer]\n",
        "\n",
        "  Args:\n",
        "    norm: float\n",
        "      Norm values\n",
        "    labels: list\n",
        "      Targets\n",
        "    ws: list\n",
        "      Weights\n",
        "    title: string\n",
        "      Title of plot\n",
        "\n",
        "  Returns:\n",
        "    Nothing\n",
        "  \"\"\"\n",
        "  plt.figure(figsize=[8, 6])\n",
        "  plt.title(title)\n",
        "  plt.ylabel('Frobenius Norm Value')\n",
        "  plt.xlabel('Model Layers')\n",
        "  plt.bar(labels, ws)\n",
        "  plt.axhline(y=norm,\n",
        "              linewidth=1,\n",
        "              color='r',\n",
        "              ls='--',\n",
        "              label='Total Model F-Norm')\n",
        "  plt.legend()\n",
        "  plt.show()\n",
        "\n",
        "\n",
        "def early_stop_plot(train_acc_earlystop,\n",
        "                    val_acc_earlystop, best_epoch):\n",
        "  \"\"\"\n",
        "  Plot of early stopping\n",
        "\n",
        "  Args:\n",
        "    train_acc_earlystop: np.ndarray\n",
        "      Training accuracy log until early stop point\n",
        "    val_acc_earlystop: np.ndarray\n",
        "      Val accuracy log until early stop point\n",
        "    best_epoch: int\n",
        "      Epoch at which early stopping occurs\n",
        "\n",
        "  Returns:\n",
        "    Nothing\n",
        "  \"\"\"\n",
        "  plt.figure(figsize=(8, 6))\n",
        "  plt.plot(val_acc_earlystop,label='Val - Early',c='red',ls = 'dashed')\n",
        "  plt.plot(train_acc_earlystop,label='Train - Early',c='red',ls = 'solid')\n",
        "  plt.axvline(x=best_epoch, c='green', ls='dashed',\n",
        "              label='Epoch for Max Val Accuracy')\n",
        "  plt.title('Early Stopping')\n",
        "  plt.ylabel('Accuracy (%)')\n",
        "  plt.xlabel('Epoch')\n",
        "  plt.legend()\n",
        "  plt.show()"
      ]
    },
    {
      "cell_type": "code",
      "execution_count": 7,
      "metadata": {
        "cellView": "form",
        "execution": {},
        "id": "RxVh8zLKCbgW"
      },
      "outputs": [],
      "source": [
        "# @title Set random seed\n",
        "\n",
        "# @markdown Executing `set_seed(seed=seed)` you are setting the seed\n",
        "\n",
        "# For DL its critical to set the random seed so that students can have a\n",
        "# baseline to compare their results to expected results.\n",
        "# Read more here: https://pytorch.org/docs/stable/notes/randomness.html\n",
        "\n",
        "# Call `set_seed` function in the exercises to ensure reproducibility.\n",
        "import random\n",
        "import torch\n",
        "\n",
        "def set_seed(seed=None, seed_torch=True):\n",
        "  \"\"\"\n",
        "  Function that controls randomness. NumPy and random modules must be imported.\n",
        "\n",
        "  Args:\n",
        "    seed : Integer\n",
        "      A non-negative integer that defines the random state. Default is `None`.\n",
        "    seed_torch : Boolean\n",
        "      If `True` sets the random seed for pytorch tensors, so pytorch module\n",
        "      must be imported. Default is `True`.\n",
        "\n",
        "  Returns:\n",
        "    Nothing.\n",
        "  \"\"\"\n",
        "  if seed is None:\n",
        "    seed = np.random.choice(2 ** 32)\n",
        "  random.seed(seed)\n",
        "  np.random.seed(seed)\n",
        "  if seed_torch:\n",
        "    torch.manual_seed(seed)\n",
        "    torch.cuda.manual_seed_all(seed)\n",
        "    torch.cuda.manual_seed(seed)\n",
        "    torch.backends.cudnn.benchmark = False\n",
        "    torch.backends.cudnn.deterministic = True\n",
        "\n",
        "  print(f'Random seed {seed} has been set.')\n",
        "\n",
        "\n",
        "# In case that `DataLoader` is used\n",
        "def seed_worker(worker_id):\n",
        "  \"\"\"\n",
        "  DataLoader will reseed workers following randomness in\n",
        "  multi-process data loading algorithm.\n",
        "\n",
        "  Args:\n",
        "    worker_id: integer\n",
        "      ID of subprocess to seed. 0 means that\n",
        "      the data will be loaded in the main process\n",
        "      Refer: https://pytorch.org/docs/stable/data.html#data-loading-randomness for more details\n",
        "\n",
        "  Returns:\n",
        "    Nothing\n",
        "  \"\"\"\n",
        "  worker_seed = torch.initial_seed() % 2**32\n",
        "  np.random.seed(worker_seed)\n",
        "  random.seed(worker_seed)"
      ]
    },
    {
      "cell_type": "code",
      "execution_count": 8,
      "metadata": {
        "cellView": "form",
        "execution": {},
        "id": "18jyXc7-CbgX"
      },
      "outputs": [],
      "source": [
        "# @title Set device (GPU or CPU). Execute `set_device()`\n",
        "# especially if torch modules used.\n",
        "\n",
        "# Inform the user if the notebook uses GPU or CPU.\n",
        "\n",
        "def set_device():\n",
        "  \"\"\"\n",
        "  Set the device. CUDA if available, CPU otherwise\n",
        "\n",
        "  Args:\n",
        "    None\n",
        "\n",
        "  Returns:\n",
        "    Nothing\n",
        "  \"\"\"\n",
        "  device = \"cuda\" if torch.cuda.is_available() else \"cpu\"\n",
        "  if device != \"cuda\":\n",
        "    print(\"WARNING: For this notebook to perform best, \"\n",
        "        \"if possible, in the menu under `Runtime` -> \"\n",
        "        \"`Change runtime type.`  select `GPU` \")\n",
        "  else:\n",
        "    print(\"GPU is enabled in this notebook.\")\n",
        "\n",
        "  return device"
      ]
    },
    {
      "cell_type": "code",
      "execution_count": 9,
      "metadata": {
        "execution": {},
        "id": "WyPUFP3vCbgY",
        "outputId": "a2f16b33-084f-4d7f-9b94-6690ce28439a",
        "colab": {
          "base_uri": "https://localhost:8080/"
        }
      },
      "outputs": [
        {
          "output_type": "stream",
          "name": "stdout",
          "text": [
            "Random seed 2021 has been set.\n",
            "WARNING: For this notebook to perform best, if possible, in the menu under `Runtime` -> `Change runtime type.`  select `GPU` \n"
          ]
        }
      ],
      "source": [
        "SEED = 2021\n",
        "set_seed(seed=SEED)\n",
        "DEVICE = set_device()"
      ]
    },
    {
      "cell_type": "markdown",
      "metadata": {
        "execution": {},
        "id": "-uEC5rGVCbgZ"
      },
      "source": [
        "---\n",
        "# Section 0: Defining useful functions\n",
        "Let's start the tutorial by defining some functions which we will use frequently today, such as: `AnimalNet`, `train`, `test` and `main`."
      ]
    },
    {
      "cell_type": "code",
      "execution_count": 10,
      "metadata": {
        "execution": {},
        "id": "8iI9TtYXCbgZ"
      },
      "outputs": [],
      "source": [
        "class AnimalNet(nn.Module):\n",
        "  \"\"\"\n",
        "  Network Class - Animal Faces\n",
        "  \"\"\"\n",
        "\n",
        "  def __init__(self):\n",
        "    \"\"\"\n",
        "    Initialize parameters of AnimalNet\n",
        "\n",
        "    Args:\n",
        "      None\n",
        "\n",
        "    Returns:\n",
        "      Nothing\n",
        "    \"\"\"\n",
        "    super(AnimalNet, self).__init__()\n",
        "    self.fc1 = nn.Linear(3 * 32 * 32, 128)\n",
        "    self.fc2 = nn.Linear(128, 32)\n",
        "    self.fc3 = nn.Linear(32, 3)\n",
        "\n",
        "  def forward(self, x):\n",
        "    \"\"\"\n",
        "    Forward Pass of AnimalNet\n",
        "\n",
        "    Args:\n",
        "      x: torch.tensor\n",
        "        Input features\n",
        "\n",
        "    Returns:\n",
        "      output: torch.tensor\n",
        "        Outputs/Predictions\n",
        "    \"\"\"\n",
        "    x = x.view(x.shape[0],-1)\n",
        "    x = F.relu(self.fc1(x))\n",
        "    x = F.relu(self.fc2(x))\n",
        "    x = self.fc3(x)\n",
        "    output = F.log_softmax(x, dim=1)\n",
        "    return output"
      ]
    },
    {
      "cell_type": "markdown",
      "metadata": {
        "execution": {},
        "id": "MugZdPOCCbgb"
      },
      "source": [
        "The train function takes in the current model, along with the train_loader and loss function, and updates the parameters for a single pass of the entire dataset. The test function takes in the current model after every epoch and calculates the accuracy on the test dataset."
      ]
    },
    {
      "cell_type": "code",
      "execution_count": 11,
      "metadata": {
        "execution": {},
        "id": "mSGGZa02Cbgc"
      },
      "outputs": [],
      "source": [
        "def train(args, model, train_loader, optimizer,\n",
        "          reg_function1=None, reg_function2=None, criterion=F.nll_loss):\n",
        "  \"\"\"\n",
        "  Trains the current input model using the data\n",
        "  from Train_loader and Updates parameters for a single pass\n",
        "\n",
        "  Args:\n",
        "    args: dictionary\n",
        "      Dictionary with epochs: 200, lr: 5e-3, momentum: 0.9, device: DEVICE\n",
        "    model: nn.module\n",
        "      Neural network instance\n",
        "    train_loader: torch.loader\n",
        "      Input dataset\n",
        "    optimizer: function\n",
        "      Optimizer\n",
        "    reg_function1: function\n",
        "      Regularisation function [default: None]\n",
        "    reg_function2: function\n",
        "      Regularisation function [default: None]\n",
        "    criterion: function\n",
        "      Specifies loss function [default: nll_loss]\n",
        "\n",
        "  Returns:\n",
        "    model: nn.module\n",
        "      Neural network instance post training\n",
        "  \"\"\"\n",
        "  device = args['device']\n",
        "  model.train()\n",
        "  for batch_idx, (data, target) in enumerate(train_loader):\n",
        "    data, target = data.to(device), target.to(device)\n",
        "    optimizer.zero_grad()\n",
        "    output = model(data)\n",
        "    if reg_function1 is None:\n",
        "      loss = criterion(output, target)\n",
        "    elif reg_function2 is None:\n",
        "      loss = criterion(output, target)+args['lambda']*reg_function1(model)\n",
        "    else:\n",
        "      loss = criterion(output, target) + args['lambda1']*reg_function1(model) + args['lambda2']*reg_function2(model)\n",
        "    loss.backward()\n",
        "    optimizer.step()\n",
        "\n",
        "  return model\n",
        "\n",
        "\n",
        "def test(model, test_loader, criterion=F.nll_loss, device='cpu'):\n",
        "  \"\"\"\n",
        "  Tests the current model\n",
        "\n",
        "  Args:\n",
        "    model: nn.module\n",
        "      Neural network instance\n",
        "    device: string\n",
        "      GPU/CUDA if available, CPU otherwise\n",
        "    test_loader: torch.loader\n",
        "      Test dataset\n",
        "    criterion: function\n",
        "      Specifies loss function [default: nll_loss]\n",
        "\n",
        "  Returns:\n",
        "    test_loss: float\n",
        "      Test loss\n",
        "  \"\"\"\n",
        "  model.eval()\n",
        "  test_loss = 0\n",
        "  correct = 0\n",
        "  with torch.no_grad():\n",
        "    for data, target in test_loader:\n",
        "      data, target = data.to(device), target.to(device)\n",
        "      output = model(data)\n",
        "      test_loss += criterion(output, target, reduction='sum').item()  # Sum up batch loss\n",
        "      pred = output.argmax(dim=1, keepdim=True)  # Get the index of the max log-probability\n",
        "      correct += pred.eq(target.view_as(pred)).sum().item()\n",
        "\n",
        "  test_loss /= len(test_loader.dataset)\n",
        "  return 100. * correct / len(test_loader.dataset)\n",
        "\n",
        "\n",
        "def main(args, model, train_loader, val_loader,\n",
        "         reg_function1=None, reg_function2=None):\n",
        "  \"\"\"\n",
        "  Trains the model with train_loader and\n",
        "  tests the learned model using val_loader\n",
        "\n",
        "  Args:\n",
        "    args: dictionary\n",
        "      Dictionary with epochs: 200, lr: 5e-3, momentum: 0.9, device: DEVICE\n",
        "    model: nn.module\n",
        "      Neural network instance\n",
        "    train_loader: torch.loader\n",
        "      Train dataset\n",
        "    val_loader: torch.loader\n",
        "      Validation set\n",
        "    reg_function1: function\n",
        "      Regularisation function [default: None]\n",
        "    reg_function2: function\n",
        "      Regularisation function [default: None]\n",
        "\n",
        "  Returns:\n",
        "    val_acc_list: list\n",
        "      Log of validation accuracy\n",
        "    train_acc_list: list\n",
        "      Log of training accuracy\n",
        "    param_norm_list: list\n",
        "      Log of frobenius norm\n",
        "    trained_model: nn.module\n",
        "      Trained model/model post training\n",
        "  \"\"\"\n",
        "\n",
        "  device = args['device']\n",
        "\n",
        "  model = model.to(device)\n",
        "  optimizer = optim.SGD(model.parameters(), lr=args['lr'],\n",
        "                        momentum=args['momentum'])\n",
        "\n",
        "  val_acc_list, train_acc_list,param_norm_list = [], [], []\n",
        "  for epoch in tqdm(range(args['epochs'])):\n",
        "    trained_model = train(args, model, train_loader, optimizer,\n",
        "                          reg_function1=reg_function1,\n",
        "                          reg_function2=reg_function2)\n",
        "    train_acc = test(trained_model, train_loader, device=device)\n",
        "    val_acc = test(trained_model, val_loader, device=device)\n",
        "    param_norm = calculate_frobenius_norm(trained_model)\n",
        "    train_acc_list.append(train_acc)\n",
        "    val_acc_list.append(val_acc)\n",
        "    param_norm_list.append(param_norm)\n",
        "\n",
        "  return val_acc_list, train_acc_list, param_norm_list, trained_model"
      ]
    },
    {
      "cell_type": "markdown",
      "metadata": {
        "execution": {},
        "id": "_GRwnXNwCbge"
      },
      "source": [
        "---\n",
        "# Section 1: Regularization is Shrinkage\n",
        "\n",
        "*Time estimate: ~20 mins*"
      ]
    },
    {
      "cell_type": "code",
      "execution_count": 12,
      "metadata": {
        "cellView": "form",
        "execution": {},
        "id": "j5kS0YAzCbge",
        "outputId": "72267546-5cd0-49ad-fc32-edc9ce7d0523",
        "colab": {
          "base_uri": "https://localhost:8080/",
          "height": 583,
          "referenced_widgets": [
            "0f442f1d30e64a6c9fb95ddb14b9f5ef",
            "45045c3da9e54a2faecfbed33adde9ea",
            "9c9b0fec4a7a4f9499b443865a11c8cf",
            "2b2c737ba9e34590ad3998eafd31a628",
            "3ca1768e5585409b8e848ce92a92973e",
            "4c6ca76ffd1a4a6e9e5f0c66cb89af0c"
          ]
        }
      },
      "outputs": [
        {
          "output_type": "display_data",
          "data": {
            "text/plain": [
              "Tab(children=(Output(), Output()), _titles={'0': 'Youtube', '1': 'Bilibili'})"
            ],
            "application/vnd.jupyter.widget-view+json": {
              "version_major": 2,
              "version_minor": 0,
              "model_id": "0f442f1d30e64a6c9fb95ddb14b9f5ef"
            }
          },
          "metadata": {}
        }
      ],
      "source": [
        "# @title Video 1: Introduction to Regularization\n",
        "from ipywidgets import widgets\n",
        "\n",
        "out2 = widgets.Output()\n",
        "with out2:\n",
        "  from IPython.display import IFrame\n",
        "  class BiliVideo(IFrame):\n",
        "      def __init__(self, id, page=1, width=400, height=300, **kwargs):\n",
        "          self.id=id\n",
        "          src = \"https://player.bilibili.com/player.html?bvid={0}&page={1}\".format(id, page)\n",
        "          super(BiliVideo, self).__init__(src, width, height, **kwargs)\n",
        "\n",
        "  video = BiliVideo(id=f\"BV1mo4y1X76E\", width=854, height=480, fs=1)\n",
        "  print(\"Video available at https://www.bilibili.com/video/{0}\".format(video.id))\n",
        "  display(video)\n",
        "\n",
        "out1 = widgets.Output()\n",
        "with out1:\n",
        "  from IPython.display import YouTubeVideo\n",
        "  video = YouTubeVideo(id=f\"jhQAnIHTR6A\", width=854, height=480, fs=1, rel=0)\n",
        "  print(\"Video available at https://youtube.com/watch?v=\" + video.id)\n",
        "  display(video)\n",
        "\n",
        "out = widgets.Tab([out1, out2])\n",
        "out.set_title(0, 'Youtube')\n",
        "out.set_title(1, 'Bilibili')\n",
        "\n",
        "# Add event to airtable\n",
        "atform.add_event('Video 1: Introduction to Regularization')\n",
        "\n",
        "display(out)"
      ]
    },
    {
      "cell_type": "markdown",
      "metadata": {
        "execution": {},
        "id": "5o3ucv2ACbgf"
      },
      "source": [
        "A key idea of neural nets is that they use models that are \"too complex\" - complex enough to fit all the noise in the data. One then needs to \"regularize\" them to make the models fit complex enough, but not too complex. The more complex the model, the better it fits the training data, but if it is too complex, it generalizes less well; it memorizes the training data but is less accurate on future test data."
      ]
    },
    {
      "cell_type": "code",
      "execution_count": 13,
      "metadata": {
        "cellView": "form",
        "execution": {},
        "id": "jv15qwjMCbgg",
        "outputId": "22c10142-2ee6-4e1b-f51f-d292fb0901f8",
        "colab": {
          "base_uri": "https://localhost:8080/",
          "height": 583,
          "referenced_widgets": [
            "4368d6e2789c4a57923656bc7d9a98d9",
            "03e5fe202f6644a1a96f6413a7e40bec",
            "8f707fe9e3e647c08553dbe73d3b254f",
            "8054f2305b9844879dbbef92a222cb53",
            "619db400710043c8997e0168e591e02d",
            "079b19b0e8164783960e22cb8a85e7d2"
          ]
        }
      },
      "outputs": [
        {
          "output_type": "display_data",
          "data": {
            "text/plain": [
              "Tab(children=(Output(), Output()), _titles={'0': 'Youtube', '1': 'Bilibili'})"
            ],
            "application/vnd.jupyter.widget-view+json": {
              "version_major": 2,
              "version_minor": 0,
              "model_id": "4368d6e2789c4a57923656bc7d9a98d9"
            }
          },
          "metadata": {}
        }
      ],
      "source": [
        "# @title Video 2: Regularization as Shrinkage\n",
        "from ipywidgets import widgets\n",
        "\n",
        "out2 = widgets.Output()\n",
        "with out2:\n",
        "  from IPython.display import IFrame\n",
        "  class BiliVideo(IFrame):\n",
        "      def __init__(self, id, page=1, width=400, height=300, **kwargs):\n",
        "          self.id=id\n",
        "          src = \"https://player.bilibili.com/player.html?bvid={0}&page={1}\".format(id, page)\n",
        "          super(BiliVideo, self).__init__(src, width, height, **kwargs)\n",
        "\n",
        "  video = BiliVideo(id=f\"BV1YL411H7Dv\", width=854, height=480, fs=1)\n",
        "  print(\"Video available at https://www.bilibili.com/video/{0}\".format(video.id))\n",
        "  display(video)\n",
        "\n",
        "out1 = widgets.Output()\n",
        "with out1:\n",
        "  from IPython.display import YouTubeVideo\n",
        "  video = YouTubeVideo(id=f\"mhVbJ74upnQ\", width=854, height=480, fs=1, rel=0)\n",
        "  print(\"Video available at https://youtube.com/watch?v=\" + video.id)\n",
        "  display(video)\n",
        "\n",
        "out = widgets.Tab([out1, out2])\n",
        "out.set_title(0, 'Youtube')\n",
        "out.set_title(1, 'Bilibili')\n",
        "\n",
        "# Add event to airtable\n",
        "atform.add_event('Video 2: Regularization as Shrinkage')\n",
        "\n",
        "display(out)"
      ]
    },
    {
      "cell_type": "markdown",
      "metadata": {
        "execution": {},
        "id": "HHUaHZeGCbgh"
      },
      "source": [
        "One way to think about Regularization is to think in terms of the magnitude of the overall weights of the model. A model with big weights can fit more data perfectly, whereas a model with smaller weights tends to underperform on the train set but can surprisingly do very well on the test set. Having the weights too small can also be an issue as it can then underfit the model.\n",
        "\n",
        "In these tutorials, we use the sum of the Frobenius norm of all the tensors in the model as a measure of the \"size of the model\"."
      ]
    },
    {
      "cell_type": "markdown",
      "metadata": {
        "execution": {},
        "id": "fZ4cToR7Cbgh"
      },
      "source": [
        "## Coding Exercise 1: Frobenius Norm\n",
        "\n",
        "Before we start, let's define the Frobenius norm, sometimes also called the Euclidean norm of an $m×n$ matrix $A$  as the square root of the sum of the absolute squares of its elements.\n",
        "\n",
        "<br>\n",
        "\n",
        "\\begin{equation}\n",
        "  ||A||_F= \\sqrt{\\sum_{i=1}^m\\sum_{j=1}^n|a_{ij}|^2}\n",
        "\\end{equation} \n",
        "\n",
        "<br>\n",
        "\n",
        "This is just a measure of how big the matrix is, analogous to how big a vector is."
      ]
    },
    {
      "cell_type": "markdown",
      "metadata": {
        "execution": {},
        "id": "WzgeZv_ECbgi"
      },
      "source": [
        "**Hint:** Use the functions `model.parameters()` or `model.named_parameters()`"
      ]
    },
    {
      "cell_type": "code",
      "execution_count": 14,
      "metadata": {
        "execution": {},
        "id": "nO50H6ZkCbgj",
        "outputId": "84b02c33-c887-4a89-9ee7-a3c58e30c118",
        "colab": {
          "base_uri": "https://localhost:8080/"
        }
      },
      "outputs": [
        {
          "output_type": "stream",
          "name": "stdout",
          "text": [
            "Random seed 2021 has been set.\n",
            "Frobenius norm of Single Linear Layer: 0.6572162508964539\n"
          ]
        }
      ],
      "source": [
        "def calculate_frobenius_norm(model):\n",
        "  \"\"\"\n",
        "  Function to calculate frobenius norm\n",
        "\n",
        "  Args:\n",
        "    model: nn.module\n",
        "      Neural network instance\n",
        "\n",
        "  Returns:\n",
        "    norm: float\n",
        "      Frobenius norm\n",
        "  \"\"\"\n",
        "  ####################################################################\n",
        "  # Fill in all missing code below (...),\n",
        "  # then remove or comment the line below to test your function\n",
        "  # raise NotImplementedError(\"Define `calculate_frobenius_norm` function\")\n",
        "  ####################################################################\n",
        "  norm = 0.0\n",
        "  # Sum the square of all parameters\n",
        "  for param in model.parameters():\n",
        "    norm += torch.sum(param ** 2)\n",
        "\n",
        "  # Take a square root of the sum of squares of all the parameters\n",
        "  norm = norm ** 0.5\n",
        "  return norm\n",
        "\n",
        "\n",
        "# Add event to airtable\n",
        "atform.add_event('Coding Exercise 1: Frobenius Norm')\n",
        "\n",
        "# Seed added for reproducibility\n",
        "set_seed(seed=SEED)\n",
        "\n",
        "# uncomment below to test your code\n",
        "net = nn.Linear(10, 1)\n",
        "print(f'Frobenius norm of Single Linear Layer: {calculate_frobenius_norm(net)}')"
      ]
    },
    {
      "cell_type": "markdown",
      "metadata": {
        "execution": {},
        "id": "ytQjBp2uCbgj"
      },
      "source": [
        "[*Click for solution*](https://github.com/NeuromatchAcademy/course-content-dl/tree/main//tutorials/W2D1_Regularization/solutions/W2D1_Tutorial1_Solution_464cdd08.py)\n",
        "\n"
      ]
    },
    {
      "cell_type": "markdown",
      "metadata": {
        "execution": {},
        "id": "qkf5Yii8Cbgk"
      },
      "source": [
        "```\n",
        "Random seed 2021 has been set.\n",
        "Frobenius Norm of Single Linear Layer: 0.6572162508964539\n",
        "```"
      ]
    },
    {
      "cell_type": "markdown",
      "metadata": {
        "execution": {},
        "id": "BxOu2c7GCbgk"
      },
      "source": [
        "Apart from calculating the weight size for an entire model, we could also determine the weight size in every layer. For this, we can modify our `calculate_frobenius_norm` function as shown below. \n",
        "\n",
        "**Have a look how it works!!**"
      ]
    },
    {
      "cell_type": "code",
      "execution_count": 15,
      "metadata": {
        "execution": {},
        "id": "SW5-TeThCbgk",
        "outputId": "d6bbd773-5ff4-4bb0-d88c-4852f827837c",
        "colab": {
          "base_uri": "https://localhost:8080/",
          "height": 467
        }
      },
      "outputs": [
        {
          "output_type": "stream",
          "name": "stdout",
          "text": [
            "Random seed 2021 has been set.\n",
            "Frobenius norm of Single Linear Layer: 0.6572\n"
          ]
        },
        {
          "output_type": "display_data",
          "data": {
            "text/plain": [
              "<Figure size 576x432 with 1 Axes>"
            ],
            "image/png": "[encoded data removed]"
          },
          "metadata": {
            "image/png": {
              "width": 558,
              "height": 413
            },
            "needs_background": "light"
          }
        }
      ],
      "source": [
        "def calculate_frobenius_norm(model):\n",
        "  \"\"\"\n",
        "  Calculate Frobenius Norm per Layer\n",
        "\n",
        "  Args:\n",
        "    model: nn.module\n",
        "      Neural network instance\n",
        "\n",
        "  Returns:\n",
        "    norm: float\n",
        "      Norm value\n",
        "    labels: list\n",
        "      Targets\n",
        "    ws: list\n",
        "      Weights\n",
        "  \"\"\"\n",
        "\n",
        "  # Initialization of variables\n",
        "  norm, ws, labels = 0.0, [], []\n",
        "\n",
        "  # Sum all the parameters\n",
        "  for name, parameters in model.named_parameters():\n",
        "    p = torch.sum(parameters**2)\n",
        "    norm += p\n",
        "\n",
        "    ws.append((p**0.5).cpu().detach().numpy())\n",
        "    labels.append(name)\n",
        "\n",
        "  # Take a square root of the sum of squares of all the parameters\n",
        "  norm = (norm**0.5).cpu().detach().numpy()\n",
        "\n",
        "  return norm, ws, labels\n",
        "\n",
        "\n",
        "set_seed(SEED)\n",
        "net = nn.Linear(10,1)\n",
        "norm, ws, labels = calculate_frobenius_norm(net)\n",
        "print(f'Frobenius norm of Single Linear Layer: {norm:.4f}')\n",
        "# Plots the weights\n",
        "plot_weights(norm, labels, ws)"
      ]
    },
    {
      "cell_type": "markdown",
      "metadata": {
        "execution": {},
        "id": "pEws9fOSCbgl"
      },
      "source": [
        "Using the last function, `calculate_frobenius_norm`, we can also obtain the Frobenius norm per layer for a whole ANN model and use the `plot_weigts` function to visualize them."
      ]
    },
    {
      "cell_type": "code",
      "execution_count": 16,
      "metadata": {
        "execution": {},
        "id": "erkXhyyHCbgm",
        "outputId": "fdd0a0fd-6a6d-4c4c-b627-eaaa9ccee3c2",
        "colab": {
          "base_uri": "https://localhost:8080/",
          "height": 467
        }
      },
      "outputs": [
        {
          "output_type": "stream",
          "name": "stdout",
          "text": [
            "Random seed 2021 has been set.\n",
            "Frobenius norm of Models weights: 7.3810\n"
          ]
        },
        {
          "output_type": "display_data",
          "data": {
            "text/plain": [
              "<Figure size 576x432 with 1 Axes>"
            ],
            "image/png": "[encoded data removed]"
          },
          "metadata": {
            "image/png": {
              "width": 558,
              "height": 413
            },
            "needs_background": "light"
          }
        }
      ],
      "source": [
        "set_seed(seed=SEED)\n",
        "\n",
        "# Creates a new model\n",
        "model = AnimalNet()\n",
        "\n",
        "# Calculates the forbenius norm per layer\n",
        "norm, ws, labels = calculate_frobenius_norm(model)\n",
        "print(f'Frobenius norm of Models weights: {norm:.4f}')\n",
        "\n",
        "# Plots the weights\n",
        "plot_weights(norm, labels, ws)"
      ]
    },
    {
      "cell_type": "markdown",
      "metadata": {
        "execution": {},
        "id": "G5TkKmOzCbgn"
      },
      "source": [
        "---\n",
        "# Section 2: Overfitting\n",
        "\n",
        "*Time estimate: ~15 mins*\n"
      ]
    },
    {
      "cell_type": "code",
      "execution_count": 17,
      "metadata": {
        "cellView": "form",
        "execution": {},
        "id": "2PEncO5-Cbgo",
        "outputId": "1e2b9cf9-e112-44c6-b04a-9d647fb35377",
        "colab": {
          "base_uri": "https://localhost:8080/",
          "height": 583,
          "referenced_widgets": [
            "0f55fe20cc7747e5ae0feb11221c0e31",
            "fc989b7456b648d8a31880515a838128",
            "112f312265be45419a51d0627444a92b",
            "0ebd1ba3814644eeb4588d940f6cc4a5",
            "b71a49beebc64da69cff57935fa1d2fb",
            "44e07c48e3fb475a8b8a324fae4a85c7"
          ]
        }
      },
      "outputs": [
        {
          "output_type": "display_data",
          "data": {
            "text/plain": [
              "Tab(children=(Output(), Output()), _titles={'0': 'Youtube', '1': 'Bilibili'})"
            ],
            "application/vnd.jupyter.widget-view+json": {
              "version_major": 2,
              "version_minor": 0,
              "model_id": "0f55fe20cc7747e5ae0feb11221c0e31"
            }
          },
          "metadata": {}
        }
      ],
      "source": [
        "# @title Video 3: Overparameterization and Overfitting\n",
        "from ipywidgets import widgets\n",
        "\n",
        "out2 = widgets.Output()\n",
        "with out2:\n",
        "  from IPython.display import IFrame\n",
        "  class BiliVideo(IFrame):\n",
        "      def __init__(self, id, page=1, width=400, height=300, **kwargs):\n",
        "          self.id=id\n",
        "          src = \"https://player.bilibili.com/player.html?bvid={0}&page={1}\".format(id, page)\n",
        "          super(BiliVideo, self).__init__(src, width, height, **kwargs)\n",
        "\n",
        "  video = BiliVideo(id=f\"BV1NX4y1A73i\", width=854, height=480, fs=1)\n",
        "  print(\"Video available at https://www.bilibili.com/video/{0}\".format(video.id))\n",
        "  display(video)\n",
        "\n",
        "out1 = widgets.Output()\n",
        "with out1:\n",
        "  from IPython.display import YouTubeVideo\n",
        "  video = YouTubeVideo(id=f\"-HJ_9HxY38g\", width=854, height=480, fs=1, rel=0)\n",
        "  print(\"Video available at https://youtube.com/watch?v=\" + video.id)\n",
        "  display(video)\n",
        "\n",
        "out = widgets.Tab([out1, out2])\n",
        "out.set_title(0, 'Youtube')\n",
        "out.set_title(1, 'Bilibili')\n",
        "\n",
        "# Add event to airtable\n",
        "atform.add_event('Video 3: Overparameterization and Overfitting')\n",
        "\n",
        "display(out)"
      ]
    },
    {
      "cell_type": "markdown",
      "metadata": {
        "execution": {},
        "id": "ppm_pwFGCbgp"
      },
      "source": [
        "## Section 2.1: Visualizing Overfitting"
      ]
    },
    {
      "cell_type": "markdown",
      "metadata": {
        "execution": {},
        "id": "Z4jHoswECbgp"
      },
      "source": [
        "Let's create some synthetic dataset that we will use to illustrate overfitting in neural networks."
      ]
    },
    {
      "cell_type": "code",
      "execution_count": 18,
      "metadata": {
        "execution": {},
        "id": "Bim7R4LCCbgq",
        "outputId": "196a29b2-1af8-47f8-d2bf-75417b9dbe4d",
        "colab": {
          "base_uri": "https://localhost:8080/",
          "height": 448
        }
      },
      "outputs": [
        {
          "output_type": "stream",
          "name": "stdout",
          "text": [
            "Random seed 2021 has been set.\n"
          ]
        },
        {
          "output_type": "display_data",
          "data": {
            "text/plain": [
              "<Figure size 576x432 with 1 Axes>"
            ],
            "image/png": "[encoded data removed]"
          },
          "metadata": {
            "image/png": {
              "width": 557,
              "height": 413
            },
            "needs_background": "light"
          }
        }
      ],
      "source": [
        "set_seed(seed=SEED)\n",
        "\n",
        "# Creating train data\n",
        "# Input\n",
        "X = torch.rand((10, 1))\n",
        "# Output\n",
        "Y = 2*X + 2*torch.empty((X.shape[0], 1)).normal_(mean=0, std=1)  # Adding small error in the data\n",
        "\n",
        "# Visualizing train data\n",
        "plt.figure(figsize=(8, 6))\n",
        "plt.scatter(X.numpy(),Y.numpy())\n",
        "plt.xlabel('input (x)')\n",
        "plt.ylabel('output(y)')\n",
        "plt.title('toy dataset')\n",
        "plt.show()\n",
        "\n",
        "# Creating test dataset\n",
        "X_test = torch.linspace(0, 1, 40)\n",
        "X_test = X_test.reshape((40, 1, 1))"
      ]
    },
    {
      "cell_type": "markdown",
      "metadata": {
        "execution": {},
        "id": "BdWqYkxxCbgq"
      },
      "source": [
        "Let's create an overparametrized Neural Network that can fit on the dataset that we just created and train it. \n",
        "\n",
        "First, let's build the model architecture:"
      ]
    },
    {
      "cell_type": "code",
      "execution_count": 19,
      "metadata": {
        "execution": {},
        "id": "D5rvvXKCCbgr"
      },
      "outputs": [],
      "source": [
        "class Net(nn.Module):\n",
        "  \"\"\"\n",
        "  Network Class - 2D with following structure\n",
        "  nn.Linear(1, 300) + leaky_relu(self.fc1(x)) # First fully connected layer\n",
        "  nn.Linear(300, 500) + leaky_relu(self.fc2(x)) # Second fully connected layer\n",
        "  nn.Linear(500, 1) # Final fully connected layer\n",
        "  \"\"\"\n",
        "\n",
        "  def __init__(self):\n",
        "    \"\"\"\n",
        "    Initialize parameters of Net\n",
        "\n",
        "    Args:\n",
        "      None\n",
        "\n",
        "    Returns:\n",
        "      Nothing\n",
        "    \"\"\"\n",
        "    super(Net, self).__init__()\n",
        "\n",
        "    self.fc1 = nn.Linear(1, 300)\n",
        "    self.fc2 = nn.Linear(300, 500)\n",
        "    self.fc3 = nn.Linear(500, 1)\n",
        "\n",
        "  def forward(self, x):\n",
        "    \"\"\"\n",
        "    Forward pass of Net\n",
        "\n",
        "    Args:\n",
        "      x: torch.tensor\n",
        "        Input features\n",
        "\n",
        "    Returns:\n",
        "      x: torch.tensor\n",
        "        Output/Predictions\n",
        "    \"\"\"\n",
        "    x = F.leaky_relu(self.fc1(x))\n",
        "    x = F.leaky_relu(self.fc2(x))\n",
        "    output = self.fc3(x)\n",
        "    return output"
      ]
    },
    {
      "cell_type": "markdown",
      "metadata": {
        "execution": {},
        "id": "xqJdVBHVCbgs"
      },
      "source": [
        "Next, let's define the different parameters for training our model:\n"
      ]
    },
    {
      "cell_type": "code",
      "execution_count": 20,
      "metadata": {
        "execution": {},
        "id": "op6TonlqCbgt",
        "outputId": "2b90ea8a-0132-49b1-baee-9e3ea11fc90e",
        "colab": {
          "base_uri": "https://localhost:8080/"
        }
      },
      "outputs": [
        {
          "output_type": "stream",
          "name": "stdout",
          "text": [
            "Random seed 2021 has been set.\n"
          ]
        }
      ],
      "source": [
        "set_seed(seed=SEED)\n",
        "\n",
        "# Train the network on toy dataset\n",
        "model = Net()\n",
        "\n",
        "criterion = nn.MSELoss()\n",
        "optimizer = optim.Adam(model.parameters(), lr=1e-4)\n",
        "\n",
        "iters = 0\n",
        "# Calculates frobenius before training\n",
        "normi, wsi, label = calculate_frobenius_norm(model)"
      ]
    },
    {
      "cell_type": "markdown",
      "metadata": {
        "execution": {},
        "id": "-TeC40wACbgt"
      },
      "source": [
        "At this point, we can now train our model."
      ]
    },
    {
      "cell_type": "code",
      "execution_count": 21,
      "metadata": {
        "execution": {},
        "id": "7HndLZEHCbgu",
        "outputId": "71fdddf3-299f-4ebb-f758-736124dc5d31",
        "colab": {
          "base_uri": "https://localhost:8080/",
          "height": 67,
          "referenced_widgets": [
            "683e39526abd45c2a96d18cd9cd2d9f4",
            "c3a5b4168fcc4019877a4a51aee18594",
            "a32f664257764ae3a32801d75e355cab",
            "2d1b7185c1464afba0a67caba45103bf",
            "6ad44cc7ddeb450889832cc5ebacf6b1",
            "bdb595538c37467f9ffad4c47c1e5fb1",
            "2cc773a8f8d64284bd80dcf7f4e2133f",
            "2d218dd7c5d3417bb9e301bd7dac1e11",
            "0e40cad112ec49a7bd19fa68d2472b26",
            "2542e19775c44226b462bde780f472a6",
            "e0fa9061972f48ae931a5c44328b4784"
          ]
        }
      },
      "outputs": [
        {
          "output_type": "stream",
          "name": "stdout",
          "text": [
            "Random seed 2021 has been set.\n"
          ]
        },
        {
          "output_type": "display_data",
          "data": {
            "text/plain": [
              "  0%|          | 0/10000 [00:00<?, ?it/s]"
            ],
            "application/vnd.jupyter.widget-view+json": {
              "version_major": 2,
              "version_minor": 0,
              "model_id": "683e39526abd45c2a96d18cd9cd2d9f4"
            }
          },
          "metadata": {}
        }
      ],
      "source": [
        "set_seed(seed=SEED)\n",
        "\n",
        "# Initializing variables\n",
        "# Losses\n",
        "train_loss = []\n",
        "test_loss = []\n",
        "\n",
        "# Model norm\n",
        "model_norm = []\n",
        "\n",
        "# Initializing variables to store weights\n",
        "norm_per_layer = []\n",
        "\n",
        "max_epochs = 10000\n",
        "\n",
        "running_predictions = np.empty((40, int(max_epochs / 500 + 1)))\n",
        "\n",
        "for epoch in tqdm(range(max_epochs)):\n",
        "  # Frobenius norm per epoch\n",
        "  norm, pl, layer_names = calculate_frobenius_norm(model)\n",
        "\n",
        "  # Training\n",
        "  model_norm.append(norm)\n",
        "  norm_per_layer.append(pl)\n",
        "  model.train()\n",
        "  optimizer.zero_grad()\n",
        "  predictions = model(X)\n",
        "  loss = criterion(predictions, Y)\n",
        "  loss.backward()\n",
        "  optimizer.step()\n",
        "\n",
        "  train_loss.append(loss.data)\n",
        "  model.eval()\n",
        "  Y_test = model(X_test)\n",
        "  loss = criterion(Y_test, 2*X_test)\n",
        "  test_loss.append(loss.data)\n",
        "\n",
        "  if (epoch % 500 == 0 or epoch == max_epochs - 1):\n",
        "    running_predictions[:, iters] = Y_test[:, 0, 0].detach().numpy()\n",
        "    iters += 1"
      ]
    },
    {
      "cell_type": "markdown",
      "metadata": {
        "execution": {},
        "id": "Cc4CqqX7Cbgv"
      },
      "source": [
        "Now that we have finished training, let's see how the model has evolved over the training process."
      ]
    },
    {
      "cell_type": "code",
      "execution_count": 22,
      "metadata": {
        "cellView": "form",
        "execution": {},
        "id": "ztJznBo4Cbgv",
        "outputId": "4a5bd42d-9f6a-4a08-d19e-bafdcd7ffe71",
        "colab": {
          "base_uri": "https://localhost:8080/",
          "height": 401
        }
      },
      "outputs": [
        {
          "output_type": "stream",
          "name": "stdout",
          "text": [
            "Random seed 2021 has been set.\n"
          ]
        },
        {
          "output_type": "display_data",
          "data": {
            "text/plain": [
              "<IPython.core.display.HTML object>"
            ],
            "text/html": [
              "<video width=\"1008\" height=\"360\" controls autoplay>\n",
              "  <source type=\"video/mp4\" src=\"data:video/mp4;base64,AAAAHGZ0eXBNNFYgAAACAGlzb21pc28yYXZjMQAAAAhmcmVlAACqF21kYXQAAAKtBgX//6ncRem9\n",
              "5tlIt5Ys2CDZI+7veDI2NCAtIGNvcmUgMTUyIHIyODU0IGU5YTU5MDMgLSBILjI2NC9NUEVHLTQg\n",
              "QVZDIGNvZGVjIC0gQ29weWxlZnQgMjAwMy0yMDE3IC0gaHR0cDovL3d3dy52aWRlb2xhbi5vcmcv\n",
              "eDI2NC5odG1sIC0gb3B0aW9uczogY2FiYWM9MSByZWY9MyBkZWJsb2NrPTE6MDowIGFuYWx5c2U9\n",
              "MHgzOjB4MTEzIG1lPWhleCBzdWJtZT03IHBzeT0xIHBzeV9yZD0xLjAwOjAuMDAgbWl4ZWRfcmVm\n",
              "PTEgbWVfcmFuZ2U9MTYgY2hyb21hX21lPTEgdHJlbGxpcz0xIDh4OGRjdD0xIGNxbT0wIGRlYWR6\n",
              "b25lPTIxLDExIGZhc3RfcHNraXA9MSBjaHJvbWFfcXBfb2Zmc2V0PS0yIHRocmVhZHM9MyBsb29r\n",
              "YWhlYWRfdGhyZWFkcz0xIHNsaWNlZF90aHJlYWRzPTAgbnI9MCBkZWNpbWF0ZT0xIGludGVybGFj\n",
              "ZWQ9MCBibHVyYXlfY29tcGF0PTAgY29uc3RyYWluZWRfaW50cmE9MCBiZnJhbWVzPTMgYl9weXJh\n",
              "bWlkPTIgYl9hZGFwdD0xIGJfYmlhcz0wIGRpcmVjdD0xIHdlaWdodGI9MSBvcGVuX2dvcD0wIHdl\n",
              "aWdodHA9MiBrZXlpbnQ9MjUwIGtleWludF9taW49NSBzY2VuZWN1dD00MCBpbnRyYV9yZWZyZXNo\n",
              "PTAgcmNfbG9va2FoZWFkPTQwIHJjPWNyZiBtYnRyZWU9MSBjcmY9MjMuMCBxY29tcD0wLjYwIHFw\n",
              "bWluPTAgcXBtYXg9NjkgcXBzdGVwPTQgaXBfcmF0aW89MS40MCBhcT0xOjEuMDAAgAAARU1liIQA\n",
              "E//+97GPgU3IAA2XOop6H+EVsfSQUXqx2aBk6gAAAwAAAwAAAwAAAwK4GjP/3gxJIGv2TfY5Nd0v\n",
              "AaA6NIaXhGk9nP2q4AfSfA8bT2mUjdSeUnTuqhlTp5i6CfyPP4TnC/IIc2TfwOX3wez6/oUZN7Bf\n",
              "YNl7TzsgfftFJFVE3iRlNSwgnI1xM1ObyQkQ6eM5i5/vrm9gqHCzrZ/ykcg16t4AexcvLEMi3D3P\n",
              "d1A9hpornllD8zPkFjcGXb0A75Njru3UfT3yugRL8mFmzQhkReWkZlAzOER62hYeUPvQNy+G9seL\n",
              "W8e2bf0L1CYsv6r3RGZVD6+me2AmVyIOzeQutiU1EZMKmioZ5FdfCnNU+HuLEkcg6BDIYfvFCyPR\n",
              "C1wPByhyTUAxzrtHCSlgMLLn/BSDiz0+nXcPt0B0RVon/Dc7dJYTsmydRopSYIxKpgiACcqn0Knv\n",
              "uzjZQcPMJH1BPjzhiElMCRFeJa7bvxgA/EgXefTRcJISNPldqzavcH1X2cqE3J/mxBcSawPdsCJU\n",
              "I3q3q+MCrNPPB4t/fTl0xXYzkWS/5xMr0srCLXz0LsNrQ+xQdfn7wXQbp1lQIn5DybC7knrJ+M+9\n",
              "5oVsxxfqaiy/7ZbeiXrEVHQcNAYQdB5s/anvLT2QOtPzF73Pclu2yQAy6UW+ATP+viFggM5akROx\n",
              "H86xLh2av2arXxUUTFiMGlfZUiDVw8SJf8jaN1T4wCR9uYEKpCRMwk+Dab7ITavX7axyOcVow3/b\n",
              "9MzQj9TWQeb4VuR7/pNwbYe0d6EZjURJwxfD47cA0dXR3w0jEJIQeltqojt5hqFOufJXVR0HiIBZ\n",
              "iEdOTrXdKUkEVV+wwpdt90sRrE5CWQPGV5iLoQXBk8DBm6QOL/flzdkpgiIJEb/u2H6fxMq69V5i\n",
              "pV/Ze5MskG+5Nn+NeMLPC1rCztkAAAMBDjdMcghDfdqW/X44fYDUVv6xKNhq+3EH+Yw93xEweVx0\n",
              "8+ccCahbHFhHl9S3CEonnewtn25qhTgfleKB8g4VNFfqY3/Ai30eYlYijhMzgEW7ZUJ8aJDgse3T\n",
              "VSRWfKLdBBDdcboEdy9Pa5UVZ0vr+BAafzx5kW2uCpJ+qqtn72j7ptk/BwrSFZ9NUFfbzqMRYFCT\n",
              "S9AmwT3ctH5ZmpChmb1361qp/wZMvuZP2UKvUDxIdyUX1kGX8jOKF8liUmRjPfNlV879KuAQjMCe\n",
              "teLKYVIFI9iQRn6E6AucH6NnFBrQAlXiQbWNoyLGBam6hKv0xDSO2+sblUf859YreFGHhdLyNtmC\n",
              "LSvSW8eJAx2uLFDfGots7okdVhxhZBone6BoGWGq18S6czJ1BhnXwHi3MaDnCzqszn4Prrr4Mtrh\n",
              "XoVPoDcgRiOBH6mfwtjvyKmLuYyPZN4qAymXWGUiyTCbAxa3cTjcwZOzkp0Um5CG81ukqLURd4wX\n",
              "RrKbOSyoS7UFXbsDOti7BMKtxoz08unyIpkLd6NLmzsApTKP89VzeljUuXaNc9euLiG1kWbIMKN0\n",
              "r4S1f+itbNQysvZrO8uY8r0W7TDvYLEVueBWz1BPKyszyl/YAOIDUbTTjBvX5u4jQQnFA4OQClH1\n",
              "ZRCjcUBJ1fv4ueCcRgKIU69GZ1zGAx9BXDbDbITTfrcQuuHlrLzvuwsVghh5NdR6brx9K+qlLZkS\n",
              "JShsC6yM38H5VkoSLdlJBgkVmLo0qTuXSdaJ8gh7CZJ3UW6r8wzjRkWmLOZhzeuX8ynXmwaaGBo4\n",
              "cccklldnO6mCDuQFAq4Yff+fv2p4k+1spO6xWQrzRJ66R8BV05KMrEgLvKqUBhRJASefrgj/hRde\n",
              "YWQckcm3ZfSjjP8ymBG2bwiIZ+8dyhLSJfybk1Mz1jnt9TXMKN/JKosR7WgykbVIodAAo08mgcIG\n",
              "SWV/fxUKhQ26KiwDDd/5wmsgMp1JsKFG+lruN2P/8yhZZq4QOUCZ8NadvjDCuRuu7FUHIHELz3oC\n",
              "YHDvPlEqPiJJ8no/3gBMlNVQHVVMkfH8U/rYFO/q7kpnGrl8mr+0J6yUByhcythvgcB7tVEoIB3R\n",
              "IJFRJBoc8ZbW8Jx9TrG7hM/kDnleHbYPrOTrmHE6ezyVVcaQr5giB10HUWqN2ImfEcHc38skU3vj\n",
              "Ai6+Y2Zm/yHVGOzSe7JULx/LdZO3LDm2n61luZujEQiNHEYUNn2JS7uEgVHjUJWL9559UVertmM6\n",
              "ugSG+T2AQRf1O4EVSOOrVkgMbxlJjEN5v7exQUKKvu0zAAD5Bbzai//u2zUrLU5z3CYyXKjHEq7p\n",
              "3YaQQfJtx8Xc7SPP0on+fqpqm3/enOgNxgd5P2hBrjqHowPLNXuYedn/s0mrE6C5l5KjVPcvEfYz\n",
              "WTfGn7iWlNTN53tDkRo7PGhx8Me8/LlK/JVSN8MOHtCHRQOOxiWnluusphE0vWNYlUAyCW8K7pnJ\n",
              "LyZhdLSR5hCZ272M6SP0ZR3B35vCSKZtcB5ILaJIJTZZHf/iDAaAY5zjrgHtSzT7HWFEF1WEWDF2\n",
              "qD8KxUomie6QZRiD2vz8bvHQaBPBNZha3blfhfcpCO19tjI/XoRVfSrSKGvGrtzR8nXz5ODwrvTA\n",
              "QppT9/+IABjX/ScN2Wk6A/a1AiFf/VLd8ZtkjhY+AxGQVsT4P44GpQkDAxPZ/DEr5gYeCbUvIvc4\n",
              "PaHlWdhqhkglm8Fl2UV76b4zzuc1c3+05L35I2TB+/I2pXz46yys2p+Oi+Uow0iyYf0wz+nnQU5/\n",
              "952aThNF0bMAlkD3VEOUPR1MGSRBt8Pk7V5cGU44xyRkjFU/X1VXsQ9Rn1Vda5yuMFEc4BNczSQ0\n",
              "Kzcd8PCTlLrRsf/WtO2IzkdVxgvgAmpSJ6n5aOwXRbVSgW+bgmvB3uk0bxopnVtgee2TTebA2DGd\n",
              "TcnsAYFSoZzQ6P0hbRYrrfIbffqBgLzLl8ndsMbcS4buRslP0X5oZYeS3n1czmaWbOB14kaPAPxL\n",
              "8ydJnM3c7hWR2Zmz+AeQc3/7ONC7Kx7qzXXTiRUKRQNn/o+GaCUMG+qEKe2UKujmC/IYarwQ4Irn\n",
              "sntFdl+odzaBV5RVBPTtTrjcV5Zn88tI+bYOdgwCDzuOVnc3+NLb18t/LtzswXPVuJb2dbfT9tnQ\n",
              "Y23cR+NeIEKtByI/cRBqYgntYUV0/lezKJ5Jn623QcKfC4LqERD3M6KZ5a6kUWW6aPs+kktICX51\n",
              "P7vL/JaN6aVLasvhdXtNXnz2/EQqQn9ZoHTUdqXH+8cYeUajz5mNs/zfyD7a9vI+mADNH1Is+q38\n",
              "1jQT3a2U/1imYOeSz/h0LQAA9ezdj5FEB+dpBOAIIttKyFB9Xd1WoXEToBse8pxXkZpgd3NoLAYk\n",
              "QPpD0VjzHNKUPoImduDASEtqnMYTVViAqV74nsuCxlO/6X+7louiAjr1UoASVdC/DBxKWiBypEbN\n",
              "7XNAX0b0/f6rYkTwEndRJH/6tce6/vM1a3h4/7HSvSNlD95htAxWUBEssDf8yYQxh8wzvVxrWcuD\n",
              "w+IXxBFuolL04PyZIQWk6TrBgU5ZZ7U0l2mexinlE5SOQSUq4YeeJ/wuLUyWVq71q+L9i9WDKAy2\n",
              "DCxvHAxgo3adgs0+McVSne2uX78HlLtHjcbXzZwSbRDi9zoaBlvTbRat6azbMqn4uCilYHkRm2NE\n",
              "Z2yIC5JNEwud7HmjfIQZ/OrRmZeal9GEqyKlbq11RbBDD2/2zFdQN9Gx10M5+TpEov/gKO1dqhQT\n",
              "ZwQuKLOWLov0djC6jkF+TmmgNPSlta0lWhH1wuy9CZqOpxCkisxY6v6eCUYb66qPaRFr1JorfqfO\n",
              "tobLDy9tDFHolgXGjWCOt5hx91ncJxk75l5FH437WKfR0AQsW9v2eDze079c1+NDxncXjsKcZiG3\n",
              "ZTCeR6oc6YJeLJ2v3W6+b7yhsmnL9MkHrqXpp9nYYjS++/CQEATXjyF1zQo/ks+Zs1p4143ki+rO\n",
              "NmK3McQejubs9yxQLZS4U3m8Op0scXvFDAMb87/b8jq/56Xnf2wozPwnZws3vg1LzBYbcxpEUKUy\n",
              "8Jb2WAfsDV9s5RzBJH5T6eKOG3WB2T3pjzKQcFgo5W6hXnx/Lz8Usrb2zsC/pZTJt3XUAgtATIrQ\n",
              "Pn17Xjba5vwV2on9sgApenfsPNgKg0wzhMDz1Iaz8na6iX3IJKxbQzHPv1vMAbhgHlu3f9TwnsE8\n",
              "3xMPekuhaikFg3SmvswtUzPGAIZTB9I2+rbFvamtBsAi5KfVfP92Qv7eVMezdY0nozl2vonfsT8I\n",
              "YFB0GQNFl7OQIUxbq3uVA3ZHDRHCP+suVjsFToCLRJZIds3A4vFwTx/6IHFpN2b9gINuXu9nNKNz\n",
              "WdNSu4hJDZr1yRb2ug5I8DuTomwWcQiyhKbnQEF0zzG+SCgKBtlzbK55Bl2fBTkVartuAmu62HD5\n",
              "vR4mXcm14WvkReFG8wcn85BMyvexgiKM4MRxnkcSc9zPbh5nW7ftXaMJymQsI6VUSqalVPNzX0WY\n",
              "T5RnKhXvv/KtVelcn7DlEWlzi1b4jChFVP7OIsrbflLyIdO1heqNC83qRsHfFZbw9QK7Jvf2h2+p\n",
              "ZrLDNprujce7AgSGTcW1wHZltQHct00+fRY5/FwqiWBTe4bw3eAlF0sRXwNgOApZ0EG7Av7/9dTL\n",
              "lNt4iBK5tpy1r/MaMarsVT4WhMZ9UYltX/P1u2TAVJRPl2Vn+e/AuT7NeIn/iEvKfs9Ge0kM+xrs\n",
              "54f9NecKyJB+Ehq/MN5TiuDfQvWdr/hXOzssXSt2+GKMWpiIXqwcVzTrmtRw0RyvD4/qT2m5m/8Y\n",
              "zu1MS2C35nkbP04CaTfvNGkH0Ck0akdW0lPsNBWSmq1AeYv2SxU2CJngGsfwmyFYfUOz3yzo/8+e\n",
              "33R47n5HCM535GaKtQNFvvzkhdDdysdG57pb6bDhb0v6yvFgUfy5fRcLVWTuNIgroFyEci3unQZ9\n",
              "ktUmXykDlrc1vFX+X7aCJNGBtuDHPNevX/xZLDPSMTiiGLLykxAxYZkDA+y9WPK/hOo/VatBVLQg\n",
              "ehO1HkJI/xMPq2954Qxnasry5XxhEE7gzuEjCcXgAAAP/Vz+soIim7UJyxHhwSXu8+0kaYlQ7B0W\n",
              "pdVIpMG7N7gIhsCu1fMa0/bAu3yIizcrDV22pVvoWvz3UiG5nSPq27XI0gvQaRMxDN5JP4fLAGib\n",
              "7n+k71To9dCFUcGQDrlSz5cqKbVzn0gD8pa7w+18MJWdpDlsKUWPHukOtZWpv0GQVX74MBHzCSa0\n",
              "Q8/x8JeqBMBKUliduMjGgTRs0UV+8snULfq/kFNx37tmIQfFJkxWqu6VJsbOjiff0qckIgaDLOuY\n",
              "pacDcY1fq51L+AjTDnf/W6NmyJj/khvqdH4yEKsuPNiBnHkp2MmcHUO1bFjkg1RZR0CNB4nuUe+g\n",
              "2lLp1m2fr0miUPbgYRXPedPj7Q5YcD3ke2EbtfSFQM0dRhKLuhJQiE0ypzkbJbC73U2vlYn1+rf3\n",
              "d/lSjrQGjFdzyNRqqE8pugx99jexysBI5JN6zI/OWQi1jLuYACXCGHHTQbomGHe63d6w5QM0UXjh\n",
              "4e4cMeT5Camlgo/rue7FCQ2MEZJxjqNkb6F8mxaGQTBGuCr1gEkApz/5Z9I25+z4Pg8ue0uT/drT\n",
              "plogl5hmgdtDfnO6kbr7SdJ+yMgNOq47ErVzMGEeILFAV6vMH8pEELYaeiuoS6jUfXcLNyiNZw/J\n",
              "AUwz1CVwV234UMOhF4Jof5/bPZFJ/RXmBYfObJTJJagHD6EMq4imr1IVGgJCkLQcZN8fH+E+yGfX\n",
              "E/Ju2LBGXiRdHuQ3jhizLsR5FO/naQ0KHJqd3ek9hdSOkNkNsV2qPautVAiBM65WKJ7Om62SfA1U\n",
              "PFL/CwF5wl5tNYSKRwcqN2OPnSIEEXYcc3PupmLK1Ur0pO1tP3MihhPx+BIAFgIXGjWSslKjc7pR\n",
              "Mw7gnGZbSQqkDd9CJWgk6rm7d8LCG9GtEvMp0VKJfyb2q9fPmJU0/NOKkpC4KyMTftXANZV3ykUx\n",
              "HZmeMFEhi8mqDBRw0iybh3tBGcxczVQ/Y/IyuU1iUFPuUXTLesgKTHpRwB8yRWDHTUNZu0a6Tvn4\n",
              "jvWyPMgwHUA8YmshXfeKGcehWr/plczcWRlG4mM0NxIpA3oueiQhBiQxX1gRer1owq9DMKPzfiK6\n",
              "C3d+MeZC9qwXLm3jlriPCv/eAe0xzHhoQZR3cyczToHqU8ftcJo9aySEJ3tpP3xzvoL0z+RSfRND\n",
              "tzV55MXQpQzQMTH3vMCLUGO6efDY1iAGlDJcz6wMr41MzhvacFZmP4cdyv5yNouU2t/1VbWuU7Im\n",
              "dRfH0SBKiBYV6atVj3e+PmBdntWreQIZBKgGHM/jfHI9u4+iRKWe/fW78hvCgT75dvky447eFdWl\n",
              "XpMekXhnwl7V9MZ28Vmq1/HHW/cjwX380IkYkcuDO5BuJ+07XTbeM7eczRbGSqF4czOZEhm9tFNe\n",
              "SfObJ+vF4ciBhOFTc02X0y6BIKlpD3Ze9VK7a7a8lqRquVTdjO8u0lwxDMHH+DPGILMCHaWScg8D\n",
              "hKb1+rMyXQQsJRY3026UzfeLthjLlTwQhocF/aRUR4gglBZgnTFs+X3dp8V+bZYDfoeNLv0ybXp1\n",
              "M0+yFcmx2NXFRWWDnUAfdGq1qYsdtk1YWVOztoZ8MNEa5GkV+iz2Bgw3nCWqMfQZxdutmuNWREMH\n",
              "nAAYhmEFaHrLroQM8Tek79YkFDCNlZDkme3rdsp0RBnTlVpB83H0BaUZ9JLLKCwyxZFDkKSDSjZd\n",
              "saJx3s7d5kONoQXhnrs8s4N/MGl+D7ImwV9rbvETmFLbxSd/T8qQo6nlOOFAKQx8/zpeYSZmmeow\n",
              "uetIeph7mphHRr/b/VRYi4NlXpYST5CUvcW/B3xdr7n2IE/jMUISa8Ry32GcBY/72gQNq/2LpZ/Z\n",
              "PwXHv1//kUXYUjFnn4Hlyx70TJ+nL3R3DcnkA3FbPtF9VJ6/bOfdLcQtd0IKVFcwlbfc0UxTQQns\n",
              "SvNnG7CFw8dgf+XhrlwsUOgcfJCp81+X337iIEwcPVFApW9g3z1ABRiHkIvzRtO8vXEVFhvy+oUw\n",
              "jnbaOgMhiJ4cK83z4WJLAicaQ4B8+a4w32XHrdJdQMx3g7G5M5Ht3RHYxtzd39Lk92DwCzrtyKo7\n",
              "XgzAQUSAvHnHw1T5VJmAE41wGO7u9CrZkAq1NDw88WHrGVhghBInFwOft93Sn7mnTlhqRwQZNOFb\n",
              "6tIQ0HaH08p5HKucz/88IwoeMlNsXjYP4wzI7NhSwEgi/d4TFEZar7Y7H4qTCw808Go32DEttHYb\n",
              "qvtuSTIy05dh6TT6kXT9ZQXfnMuH5RXaytg3g2Du/uemJZ3yLTifh5wIIjhegj6ZKwTmn0gVbfRI\n",
              "IaZgDEau7yeYvudbO2hAHaJJmcO8k2Ga7+izEdsCZssX1h9GMU/VOyob3LGHjzblgU7W7nTO6YJB\n",
              "Y9j//9IQO/GjZJ6r6qUedkQJaV/L+Kp4EC1JTT6DM4gT4N++NBEA+hvgJ5LIteuszX83oVUv0FeQ\n",
              "T/3UH/WgedCk1lLyUAAAx1xcXsAa16NASnUe3Iw2pivqmauDJIwazUDfUyAptnSmZx2uqmTn/+En\n",
              "r48ec1Zy2WH/hdXzFZb8uY3DJQBa2yKjyLqAaOkkylgsQz8NdDtBlKIPgCRvyIjB/2rDtsjS2wHB\n",
              "tT66qfdhHe5mZg3Qb4s8FNPYATO367T8Qx8DDUUC/GU5GjxaiaP7NgzZMEcLRO3p98Oh9T1NMOLE\n",
              "M2fEOJB/KxpEqUizlgu9nmzosPvYK22UMXNCqmp0psP3z+bqAEkL1QAAH8jO48rwuasjPWFqMCjy\n",
              "x45VKu1WHgpd6Gqt5mH4eQk4npbsSIYni0uajZZgk/OuLueYlW1eKI3FnQn67pRRMum5OMpZx8Vw\n",
              "rNVv/iJkiuCE9MEChEWYRXfZcqQGUWm+a/0jTRFAYFJn06A/v/zd0HVbKGF359KxD//BZISImx41\n",
              "2vvb8yVuyF2WoeYyqHqrBsgYNIzOdlqfPe9b/wAzf6m/fm7xqquqqAwcWUi9lYDifjMg6/50LQgL\n",
              "NJW04btC61UD2p8WNyaMiTIGyF5REsTASEj3BokACTDFAzVYXPCPyzPjegHc9XHT2DDRfF3Afw0b\n",
              "ZBTrGhXh7b/N0QNnnXQqJupKSUiDaLhiEYNdB/Y5xHd75McPg2TpqeMkBSuRKFJt7+BYDOleCOez\n",
              "P+VmOGk/6zwEHGd9yDF3i0ImtGMqAfhHLkmlkfvNpLEk4ceTLkLAxF9FRrSeSeQ5lsD4Y/0Jk+EY\n",
              "8FK6qion03yo/MIiT8BjoqEIAsGNerfygNzIhctOwlXavSHVj+YI+5mm9lxKLpPP6rWy1N16MtHL\n",
              "9UGC2h/IOiYJ7ff+TZ5xAABKRn97oxN/f/wBAeQf1LLWOloMYSxLUTUS68HclQ0ZOEg4jrQKvDUd\n",
              "ZyTJDuZj0x4MZOfmfqdCUs26KaJiuRa0hvFVPdLZ3JfDuC7+fj2Obb2bqAgSOnGQq0Wg6VlBROul\n",
              "AqTS41ZnE+KBZvpFxpnS3gJT2BTJY2rDDamu7caDEF7iNCmqUWN3xwcDhUINVlwGmwEvKnxYSncv\n",
              "cA7ZlhC6W7yBQCQSYBG7/MHXJ4xgtGdX90UzOVJmXj+3Wl3jFie4JtQNDdQH0h0ODczsVL8H/tnH\n",
              "rjDvpJAZ/4yl5Oy5cbMfBp+Ic9vAmFMYbbnnK9B6xkRB/v2T0pNDpl0lU/lHYHYKm2m621Yv8Tqc\n",
              "vW59ieCOZaoMXxTfAz7odEFOKDWteWG8AHe7EBAX3qXsKxyWLkWhY1/2L+ZN48TRGz1R7bww+NjJ\n",
              "iGOaj5TR55eNjSKgonxEgoQnW+8G5yw2ktyx2T6i8vzmBBiz25YD07Y9WCci7RecaPq9sDgvz3k1\n",
              "TSjRvqKd8oeEzvNNSUvk8GQNMx+wQypW/LnteL/tudslbiUTGCIaTarOosG5z3/839rD1R9VzBg/\n",
              "GRP+vOOD3NuNASD8fb/4aqlcXILN/ln5Z+Sq+DwbYuh/Hx3qyEbeoifqFkOf6iOAcgtqQaMNCQws\n",
              "SUrxoJ+ScyenOIW53i1yPQHHeb/y62GG7lXlLKbovzbKDSHdnnL1V/FdcSVCP8hAVNek6BuBaVqX\n",
              "QESb5N9UYNR/cU0y4MjicOb6w+jB7vE4OBe7nGVwpgWtot37ODi+E619mBJIOxmcqZ0vrI5koV4E\n",
              "e+ibiQBRwlMvJFaW4kTQZHXVD40tq1Kwv/hosZArHLzDG0cTrXgbBrQS94Jt9E1ljU3nji9jOIG1\n",
              "V8GmHfdwFLzdyxOoCCuaidSoyRy5yILLsWqnJDjjCi5BSHEuut3WKJ0NEL6aoYH1aiKDYGOE8csz\n",
              "b7VO//n6t0kKu8Yccd6rZRpYkkf1s8oOzN+AQ/AI6Ptl/lNxTt7xsG4WyviTIsDFv/IACkiWCWED\n",
              "BwDvnzrThDnbl36NNCDtdiDPMaHYCU7Y26cdVyehlpk+8NOFQBCcydPARYyte6pk5Do1qTsOPemx\n",
              "P45seRWIPasapYQ8o6BPQbBFEKCGQjEUHtOu0uSBTUuHaa1n7ljZtc8VqtcRo+sobS+q7+DVAK3w\n",
              "D2S8VGKN7xTL7RDV3ar7Y6TrKnuQu/l0Aa0BWJaPxIeo9VWVyDhF/Kp6qHLFv9pB5AsL6CmWlzU8\n",
              "08O6pP+zcm5vzb5o8mG5dzvGDLRiEN76Ws5adX2PFpFMNA1QltFiPz6gGbGRdtNjpa3FQehf+RWc\n",
              "u5/49grG+nn64e1G0GbM35LR8iF16LtTe+Uf0lsmq3VMDDvBJqUkKPDDdEDKvfi+4WibLQLMd0J1\n",
              "i7K35Tlj/n4HriWbSJBZu1kKrgkmQEOkcVDw5gM7eE79otaOKvVa14YVEJyo+erXGvr+NLVYO66g\n",
              "6ZoJgZjXBLRH7obpjqB7zWWFqVOmC6bQ6x4VnhWEBwpXr9TK0PsvmTicObW++pqmAgA36ckbVjHg\n",
              "Uv+ADuyj52LIg0Bh0SdWczehH4a6ORNWmB2X87mPtGl/MA2nX8+oduKaWg3bkQcshCSZZ9j1cFlT\n",
              "90Fv6CjVGweDEsft+ChiFF5nqfltO68awJCRINr+47Dlvn6UFi24TghxTTfGTV44mohSqeyLoHj0\n",
              "dWexR865KJsXk2ICKuR8DENC19dtfF4T4xWNvJK+bhtpowIrDcenjXJgsnFXDaxGLbwfJ8wqGHSK\n",
              "NZgHVgjB4FlOXZZjq49Jj7DlSgT1P8rXoqTPLmQPw50zbkXJf+QB3yf1GTOBqQmz7sgDtdxCqQ8Q\n",
              "wepJdRL/X5jglJo7GsoD3yYODw3lvJgZY/ywA9FWwz81WRWCrJtm6JJ3krRyXpbQ8o1gnQBbn0k1\n",
              "UU8PrdEDK9t0DlPeTztvnzCMaxdcAcT01uEBePw8NZbQsmJ6qWaeXEENqJeqx+S2rBvmI/FTCJyN\n",
              "7xqVpnrgtJFZhlwKvuiOxlHCTh9dawOep+lxNnI7l9j3Ji6oUEvoELfmsCRkRnBNUkyipojAgCYn\n",
              "935RXQOiMLFG6JZAqX5oR0RvUT6gzb6tzaPj+fKcj30ur1UEIRc2wk2hS8JYYeHNUD4FWeVq+6jq\n",
              "0s8f9ot7qsK3mqz6qGpu7zHV+KTlrOV11TYN0LoCIXvhznsdB7UflZDZ69pRF3x4qUeSF6v1mmFU\n",
              "eAjrGRTKXXG56pxOhX+kb2NgsAVxM3CBD4ySsC6zi7KLreE9G//8wjFOl3ydsN3GeUcGmhhU6fFh\n",
              "SC7hY7xcO41zyrz9HsKQv2QOjwrtQytJvlY8fyASiA2Z1LmfyEOaJTzMt1a0w42qrvuqBbmgIEW+\n",
              "1dUtwB8ncB0YnKsnZE2Qt3p84+t7oq2Ur5qF10di54gSvuD+XaMIm7XdHtpcVLfhI0CYDGcQiE9y\n",
              "T1rq4KC3R8eSkq5ZbtVi24FDixGg0a2u7q0/PwJWpAZ1M4o5Fju/o9t0LZ4OLkMEjfc4yeWjZUia\n",
              "s0ZMSlYC/RBm/Gul5SiC4HQhBKX8QdKNk1e7cwUcr7zVZiUbNfiuzJU9W0vN5niSTSC+iJi/qcaC\n",
              "wkHE0l3ay9KsORFmmpGG7aQNRz87DvqNg8kU8C4dIBYmGs9AykE8g6XLET+9OPbp7ko23mJPpepn\n",
              "EfvnD3d2mLbFZ+ctcN4ugevwfiqq7srHIspsK2Z251NGkspPt+jotQ52LvpO1iZ8FBFMhxvw353C\n",
              "UVlfk4W2iaWYAlVNzCMG8XOllb7JQokAXbGFp+dEgLP1d5zASGfV4DtTVeG/1cEf4fBmrSIhhCO0\n",
              "zl67Pa2Q/sxfwefQ8zFUUGGF3+QktD/qRMfhfl6LlFLPre0V2RiTM/6QeBuz6bW/egMFX0udQqL9\n",
              "Vd8yHnwh34WqZWgNJQg0UNk+Sjmm0KmwUBVzqYkTIh3xKVsDUWdYPxderT+PV98jhyhYxqXX4JTd\n",
              "IHMkvk4/b/LnKup1Osntf/TStR/HIdoe7Xs96ZoV/Vvk96kqsKMKkhzhr00B+A3qUlDPvOEGhpE2\n",
              "lrvqlwt49XmBkXX4QwjhTJu/8TlDs/e9uSGpenJuh6JX+zFft6BKfn7DfVyI6d/Eurq52gUUsQ30\n",
              "URz4nVhqONcBDlhHBf2VeEwIokZ4Y0rv6xj0v40n9eXTPPamr68tOQ9+2XoTeGnrnFx8ojUpDK0O\n",
              "5Dmx60C3iWyjH17Sa3ecYu/IpP8MGQd11mv+EyzGHtGeCYebJG5QPqhqggcU/3jPcsv3WO0DNGx0\n",
              "+WAzy4EXETnqz080Ro9EVGO0mVAIhP508btq3MuycVRCzu2WOmAFI3hPjn6HkVUVh9LatyR6ubnN\n",
              "Okjt1IxyOQ4E925wbwe6WqA6raUb4+jbtqANpKGSEAzHTDFE6fXh0DI4fSk8trnLTW9c+j2nL44h\n",
              "qPptw7+e2e8Pz28+LEogqCm6KoSIgd2NyqAwoBytn6h/DjCLIaYIdEO+LEvh0Xld1J1K5xEyCkA7\n",
              "+ZT6nqsmA9lcbI/bQBg+qBoTruC2XqUZ37lHwVOgLjwCxQVSBMUcmqrXf8qD6NdDMGsnaeLw+597\n",
              "a3ZpVkxeozvvZN5BcUxp3VyNJ2vGVO/UQ03OaH/iaRzRK6DSOOhn3p0D/4D+hAHfRSnMleDWUQaz\n",
              "dy1B+YElpA5/o4GUT1B8qHNNOQC6+PTyixT8vfP3+x00NGP26BZphn43RElKgPhGjJlnXPJ5F/OJ\n",
              "/Su2thoGCkb/f5E2j/1Ar6S85uYPebLbDTfF6SpYfyQgQEeP2Y0gfMFCYw0TQb7CjfudMxP/WMM8\n",
              "s6BtVo7D/qnvNNR1/X+yl+VtqZ9WXvhCrFzKcr+AToSsCgQpH/bVDW+RfOebVLX6/rKXCmaq0+tU\n",
              "BhQOcIxOwhQPqzTqKNy2Y4VTMTt0J53z+nCJd15rVFjVOHFo9qDzxXQyrHAwAxfI9aKE+NZDIp25\n",
              "ectf1OtNDiWAHR5zKJkVHTnpFgz8voIINks/6Ks0HHA/7xZ7gKyX3HTxHu7Hd13qnFgB9HaCwEkZ\n",
              "33885uZT2N5QLZBxHp/w536/OvAvyl/3ehvOnL+lfwlUsvER90fwbBfFwnRr1VdLRpwRiHpDxuDf\n",
              "nwJEAAZA64gQXOViuVwNa2GQ7op0tTYE/Jl9sQ3tnQAAd/AlH/jMCzAscsG2aO2KdaUSfKIswPe8\n",
              "RJbp08EaPYYsO4MhzeVSefcRObm3dVhGYJebsyYGcrQo0XRc4sZOasLs+3BMm5IOrYXEmAdJBwxs\n",
              "cBSiUYMdJ/qgzvqKhnAEVOghkzPdDKiO6BVw7Zg9YXe3hYPOEQ4wO1ngg6TQLqd3M1DtzqTStiXh\n",
              "ibdjGd9RkVkZIKmc48YjjRT0qx5OumzrKEh9EdJoRZQkn52xKNKNUr/LoRt2cdyu3fRCD9ZX32VX\n",
              "Jq0RrJx+jB8Iy8VMwgAhGy9Y9uAS31VpfES/LREL9xd32LIza8+PHyIhui6suQIhugHU4RBNDKWP\n",
              "s3trHY6sIhnl8eArCWcT20lT1f92dPHaChTj9shUAxqDrWTcUSANulbWfXlvtB+BK9iHY6geeKxI\n",
              "Ff5TUIN9O4ntqbXTMQnxSqDCqNkSzHWWssgMdNWkbvF0K79ZKDnME3Zi+YxwynhTqNWxZj8DKGzd\n",
              "PZzAn5H/MhBLfE397y2A9ZTibWl6usdBv2uFIBOpBERkT4JczdIr74hN/J8QwW0bnP2QlrUS6tq4\n",
              "wogRPT1gOogeNAA57uOFYrvX5x91nzctM4AY0NJ8Me6MA23Zf6nLR/fP/Bu2dJL+fv7+itft1Nk/\n",
              "higC6pzi11wFEgZI9RlteD9+M+bQl9Rm1V4DlNwTn5v+bVmhisII7eCMkBea6kz0zOwPimeQg3tf\n",
              "fPbmFVYl0wT8rmrHXiK04t2KUfCXqTI4RCsOIK/WWcNWvyZl0aCv2qi4OhERW8ZSHuX7BDSyZx81\n",
              "hpWrr657H5LNwzJeDhN44sTysN5ND+wzEroiRx2P1jWZvD6w3sDhm63BkYP4Sj2sykDR56sUm8y6\n",
              "8JhBius6MNYVGjZ+STXHTSRRgdxdkcpsdetO0nqHqKUHD8G6cEkVXOkmGelkQ9S0TwKAe+SZurVq\n",
              "Q5IRvSHVmF4tuXGdNHzjj1NzStUIDRFc6Vyfbj0boz1x1nW9dJJB5k3fztUOGfGUzG5bpz1pmI3N\n",
              "5uan0reZ4VkFMUy87dqJdqVm4vJUAszq6IFBnU9O8wgqWDN0HkDzI5frRjBf70DqUCHxkeGvWyTp\n",
              "QrOWJQpJVKAXqn2qxOW0ahQz0Kg+Y9kP1c8vjB+wdiGkj2d6cejRECJGTSvEUDUdkNHgNsDv7hK1\n",
              "n/gdY4a+49QACXiGmXkCeEzKd1uS1dNLz6eLudHjXvD+OiXSHJ7cjtPQpo3y4xoqSQfYX1u+wPP6\n",
              "FuaMqJMvDRnvyuk+4oADg6CQMV0q81UtNj/Z5SlxgUxQapUwdeGYFGeWFnxOvsFZj9LGT4adgVvP\n",
              "H3+USqp+9zqEZu6l3B8NtsNxM62XiTnxQJY5FQZ4E/IfMbbk4Dj8PGRN2tq0+11j0Ggg/CyItOkA\n",
              "ZcJ1+7HfdfW5J/4XSSRWFpnTOSwYXVAjYJ7R1+91RJwHQeAocKSPFJhcUuGlkySGBIbZUA8Aw34C\n",
              "9APJEyK+n6kE7f+vMtwg9ipMixxMPl+tvNtvyrzx9SPiit2qRgRK7ghLJah5HdMsMTyKfQnWlFAH\n",
              "4dMjSvyksdqC5HO3ECvy7Wfho0LCeJIUuXzS8ocxN3jIcheDU2tx/hh4QRKLm6QaIlMcaEuz0r6x\n",
              "t4oD2xXxi2FqtXl0uDH/0jVijG7W+Ql71E733qVgp4Lrtnrq7Aai+NsjmrPWvGTmOR4B8QFui5l/\n",
              "CaZn6/ZIQET/OZhGQtxZaNV3S5QkNY877YidbFPafYgaSFQbxmGgL3sMzwMC0roqnPEvEe+Llar4\n",
              "n2mv7LWmmeyYUqANNf7/0SHIqcz9SUxgBP5ogQkgefejwqxdajzw5kDSJtVOqwAm2d4JXSCc7AAM\n",
              "miaVx2feTNEyYNeGxlpqJ+KHDmuBn52CViroOLERe5I1efh0lQ6AILSQKxuH3JABk7GmSADS6qyG\n",
              "HDfoYIby2lfyPJm0ktE1asM2Op6qg0Wl5qcPmC4daFwRf3S0H9SQiZCOGaO+GL0tKDttS37teq/9\n",
              "Kb2EX0vy07/JZ4WeC4pF15APQkSP5q3CW7wK/kmgl4J7t3QStc6zcEACqCp6ElSX7eNuA826ZL8h\n",
              "PF29vPHY1zt9+cVaoE6P45OEQPo2GwXDqz2YvTzdN0FTieNAM6tFAykC6NCylJDBdT9RZMi3VfcL\n",
              "QhpnGtbCoGdOs94K9N104IVaydHv0YY1Ar0AKTejFqhfMSL6ZDpZUAtN0ooJPIy0IXOT+kVEi0/2\n",
              "WZefF62V+Hd4lIkhYOyY9hlfCkm+scKaBW/JC/FS7M1TtsxNtrTfnX6N/87wMKqDhdwGKnzMzgUf\n",
              "gzb1MSMS5OVowHQcdUoZtf7qJHwJPj5LtcimxQ+lOrZ7mP8zszn6gQQ6Iu3DWu7ZunIStjYkaBeu\n",
              "hlTqflHAR11080pIYLj0Scg7VAnh2LdNQS0JaDA9S1aVmYJnJkR4dBslf25J6uCS4ATg/YdJ+JI8\n",
              "BKIoWVo83FFg7uKIulOLisk0Fxhy7xYZyhLCoXlMYqjWLdK32+VfJIMqQNZVUee7uAnVPdnbtJBp\n",
              "eAe5rIbqE4Flr0gwTaaQiMFtd+yORlmfELR2p8p5EDfrSO9sorEcOCPNnIBC+jryeUVIH8s1rp/C\n",
              "HMHLPQCdEwWNv7xe5ieuv98kqxhgnYY9M+KtbLIQF7qkRNmVIdBPUAfOuL4Ndd/ZC5nUXLrn0wkd\n",
              "n0NczoKr6x4iibGZancY3mJRA5BNkEGZ7f/aN2VquMg29Qs4k7ZC6y0EGTQJxtl4scHky6ZFWt+H\n",
              "deou8Saizh+oAvfXmzq0lP2lclMXf4lKAqDOWZ0b6GVRpbwiRXPBN375KkkxODbkCunAVYxWq6+r\n",
              "q7z/TSX7zIspdh5OxOf3KXeDaOVAi2gmfmapS1YvZogog9JkPm3Tv8n1IVY6RbwOhGoLvw4Miew/\n",
              "6gQCKi2Vt/CYEjFJV9ecrkjpmhdGd13vsNyTO3dW24fqnMeqNIMlChDpq7PFSqUfn4332LQV0WBt\n",
              "ZwoyISItsKBxIIxMNA9p7Z+PBv9Gc5ASD8Aho/ch+slezUUTXazBg11Idtf5DIRJebQqyJAwBJ81\n",
              "FZa4kDBJtF2278ivylMo1OYV4mmuGE1vDRznGrHWDepocqbu71so5Azqb9VGHJQcrDm/zOOsvUex\n",
              "4UKvee2nEavbZLTbozI93bc0sl/1ZRyU+tQ/cENnpsNQCW4hSRMsrHlp3pZWJ2UpLBCQgfqjduYF\n",
              "48cnTa4fpOzo7DK00DY2vsGjhdF2S+0JPNrB0ovGkaXioGys3PEuTKghXKn1QR4QI8t3t1NBcbEv\n",
              "uIY+2GE2+19SiuBfB513T3wgLft/ot3l2QsmmDJ0BQfOFwuS5Qnse6M5i+d5OenH0og2MU4P+rdM\n",
              "1lAf7HxyCHSmn+DTosdhCdryxc4ghaSep9/O3qYIDALvSdLr7aDKZFeKbZbzAcbPnJVmpW634zZB\n",
              "VAMK0mrwQWGPJ3FQGzafVLNOplAkS+yFZcLuWTBJyXcIR73/EWOMEF2yUrN/TInEleyPmDUE2xx7\n",
              "LSqas1ruPupjElonHxib8m57F8HXy/5GkekEZQwFgug7NdtjFG1Br+mRv+fAyjU2WSv3s8JJsebO\n",
              "KOnzshJG+ErNSKoGTfnGEs6jl6abrOAxRrH9DZSdYzb5IWFjfCUkhf8dubo94DOgBZxfWvo1/UJH\n",
              "na6fItuorCczzVwktfPJj6yHdE55iSCZYRO6mTcYMJv8Vt3jvtTwdhG3lEamQMWVYHrrn/Eam2pN\n",
              "t7OP0HaHuCCtBDf90HcUvUy3NIC7hNG6k2TvPCF3JyIJZyn6FMJg2sHzH1UdS2WA7yRjapLo4Ubv\n",
              "StdRvheWTQ0EP5rQatP3/IQL2TFfYK2hLEsPz2GSq7ojU3SDeBecugaji8zErPjuSPyk5z9lt+Fb\n",
              "j/SYwmODtNSNf458QdbmnTouFM4gWE8+JqYQ5SXFhf4OIpGiEDqgFPIdN2zVkeobnocqMOeJDjhA\n",
              "sZNjwFGHk7Blf3iQbznxZz2PHyx9mn8t0fbRzfekNGtneVSmxgu36N2oP214julXgQj0kQfVxsHX\n",
              "ga8GIrpnItmP8ywt0QgTE06+hrqEZZFWOqluiRalQI7jQOG05AZL5KnxS2MRCop1Pa3AdN3NBDe+\n",
              "6x4yHHwjeQV5gf6pmszPOZpmbkLHwoEAWLXveBKwntN1IJuIqlOCMlOXpTZxQDffK5W1uw4r1LFc\n",
              "GmEwhJf5oHQ0AcgGjjZam57wwBTp2weXJL40m413OIPcfT1E1cw4ePH5aHjfaOHyIcQno0BQwxAv\n",
              "KPD9B4QmQBpqy+3O/ZJflPhRqHUTSJsFiT4bMPpYIaRlnp//RkJvrf1fbKf/6WYepfwyzrSVaOhw\n",
              "8a98CYtoDZnLzift4BS+3SNDFk3zRPO0kTWxy1VtvhDGm0QtCJoOfszKgVt95ihVDMbj+m4AdztR\n",
              "L1OKSQXNEtPEQjHwRvFFeWCvrmPPZv+O7ZPw+Vq0S8O7ncnWalxJFXsv91jKiJgUTkQFT+3rpRRJ\n",
              "slsmmjMOESlGtzuB/mCTIl9ke/9zsgXXl26N0m4p4G55UJsKRIA8o6AzDUzNsI2aoMg30880g/+C\n",
              "eMBt0NosmLkrPez8ph4AwH1Cr9xy6MRys5zHion5HgVW6l/4xXm6smuUkBFEvr78DfTT7T+Dr3hH\n",
              "FM0rNbfCnP5cjZ3o0PByhZUuWQwKwOCoi6YUoz4pMTmXPazhlB7FcQW5/cX9SlbACEKBi/vJFmfR\n",
              "sDMvKVqRxADd6b36e1KZt8F73GfTGbHg//QV09sv0pr0Epn37pF7LOaMhaB11dtELMRULkPOzlPi\n",
              "QSFk1ozNfHVtrNhQXWGF/wKpQ/ut0X+i4XHsc2UXChi3E2rfzb4qbUCei8J284gUzrhOtyMm2b3t\n",
              "Y5MgyPxqQ3b5Ueg5vJsJjfSNtcn9diDsVK6sEK2T82rXA0vqmYekyoTlESfpoFbvw/zaT7H4FmmA\n",
              "s+aB2u8p5K3YS8K3G7VoI0RhjrTWXJnkVFcIqPaQpjFPrfnMA+gRbEtznypOtuFAQy4VllMVSjxW\n",
              "VZUw8CjTM4PzmZemPffgABnd3OydwnAZN5yui5ZLOXg4vso/rC3mLE9uF9kWO4H4epg5ZMysTt7v\n",
              "DQcBdP8AHyNzkoTs4M7b8CTlcjT5rG9x62LXuwtd3lEJIBTDllAR5LeDcrZYOPqYgRQdT5i0Zokl\n",
              "ZdY1CdCeKjtZ2RP/EzrNIgpw8cQ22JWP1+NHFTYk4we6wFyBkUIX021QGAMOCXI5P+wSzdLxj+1Y\n",
              "4adp1b61HInKIoDPpunmscr7xDNfJr6pEzoDa+xqxuFGRihFIVYcPb0cP4O2E5ZfZVfLtRgH7lGc\n",
              "tAHkQdskUDihqry75+NUQI1NbAcF8ilMQq7J4K8BC0oy0sZUpwkVGQupGVPUgCtVakscnXp3Dl8W\n",
              "BGA1ihXa3Pzw6kowqU/bPQbLJ169A0HaC0Q9c8OgMc9BiUvVXHgs/Q9RGxFr6/3xAGyL3wtSD/SR\n",
              "3dLvITE8GBEon4aj9x18Fv6VAarjXp11eKIl9F1epUVJ+eXqbeS8BS2ntSixfCUcK8R9l0z9m3kd\n",
              "2vZ5UNqT636EHlG1aSPZebctI/pxWFWAxBXd87ssaS47cXapqJNj/nK6C3hyvU6FClgMMU4PEEF1\n",
              "f1PBPFbELIaSyTC+teq2AIz/lcQMSTcINt3jl/dsK37wXQXkbn2IrAX+6Gk8cMRr+ZShQxggB8o8\n",
              "FVtPPmoU/SeEVXUV62KkSHxKJMphNMSpgnpD4w/Jgpe+Quf9H16Y+Ljp11Lf6zxK1Ot69SI36POY\n",
              "aKU6Qykcj455pR3mhzaLk4tR8mSjhR4imAczmLQcxMd09TXkthWclCmwsmLObXqTNu06f8f9/09T\n",
              "5nP7097PrhQYys6+lrYfj+btR5mV8S6AAh0yRVueYNJMNjTw7SOwstTTEVJlGx3201ukfC4Y9uLE\n",
              "2qDpCbYdYS7BDgUx9q1DliXj4odQKCobrH2RuF4uyu41Xy+k6FS2+foCncKCxxCEbJHo7nSkeKUY\n",
              "g3RIM5N89BasUAlR//CoMiXCJrOhQL8gifAP0oglWll4XZyL9N4/9WdXr5gY6ViV38wXX/+iXC4b\n",
              "TVKBOmBpsSZqwEWY9nS8ryLQc59iaG3sMpe3NUF0I8gOEkf8GnwuUd22/SJU7q723T2ZD8ewtMiL\n",
              "8VdjSPtyLobRmd0oXJywq91B/x1Kj5/sHcvRIgrqu/nzJ7x0zUpdlD/WqsOlH1TYAwpoNp9xYmXq\n",
              "akiDZlrNmEEe68gvUWi9s1/YE/xSalE9FjlycGTZkDLyQ8Bz8+oy6ZQIHyYrnbY0h8jqx4i4I9qZ\n",
              "Up2uL1Gye7ubIYWLri94R///8LZFFbX646wANtow7vr0dJFXrSipdLVmr8LE0j24mWLvwXRO4v4d\n",
              "2jEDBZBUfwgZ2ijw2Zx5wV0WIluv9fGIDRH7qm8wdBHMuz6C2VWpqNvFUb6kDgB7duMAf1+rH5FZ\n",
              "LxjN9nql+ZQHwWghNu/VPtDvYZfh+euvd2XRJV2SyYHSh9qfPJXw4IAp/E4rjI6rezOk7JZopJKE\n",
              "zaTrdvPKOfxEM21o9bciCl/5qdn7576l8VKKLZknx4HBH0hD9ihIOz3KO5TkiFpFOQAEJd43HyLT\n",
              "gzKbbEBgIUWcE/9JTPuL0uFLT+QD6aA+2sbbPhdnrNH6cDyFT/X4aEzZyJHErSAzqlWEehNT3wQi\n",
              "lg/e7g/nqAx1wRt/bYtf9I8dIqEIhQmPbNc4XzXNFQgoRVJMcvk2/LCe+nPlxATfg76wofTVO/ll\n",
              "CaDu8yNeyKl56iv7BvodSj8kQmjov+MUsLCYIoyUhuhP3o8ox/SORRkqW6EgTzclwS6XurhLzSo7\n",
              "YwyR+vG1K1WIqhy54heS/EpLZWbMP+UzIe0/ZPf/EKNe0srYURiC8+YJvQR4PD9UWfP7myB43/Vf\n",
              "bod4FB3nM2x3Ck0sG4zLgWJ9/TLJj0eAEVl0ifiPw0D0XkiVmVbbug2PrApNiGNnx7RMd+5gT1P4\n",
              "F0nHEL+xY2PPoqAzzHHBJBaS1zG0NqQMMf8tyX3trCU+tDXpjqu7R5R/2ijsJB60dElKkYzypBZC\n",
              "uGt6DDTtyuOoBo8LBifTDZV9R1B8qudCcXnVPnOx/biZGf0FC/+IjEsYqZ7pY6eoh9Zf5xOUUUpX\n",
              "8Kq8y4nqL37sgjek+9efDyAfrw96COPl2RBo9SKHN0Pe71d7WQT7ML1UdVLo2FcXVkhnO/biErJH\n",
              "+AJ929ToSj99TAw2JaesfkjYYMEuRvPP1qZ2kLhp5zQvUGwR9Aq1ga10m4Yry4f5zeBuHKO1/Suq\n",
              "x1lEkpQASqOAwFasn3swIL9k2a0c4AQ4GNFcYVwEEWW8p/Lj8QrBMCeMsV16z260XInStmuQpYHz\n",
              "/G23jTEv2ijsuFEQZwczEfEbIjSsqoeNS9l1ndmC/Cm/D1nX/LzGX2x9XCZZCNtN3i5qwQ7E2QhL\n",
              "1kweCJdEeUjD5QwU2anIdFbdRMgV6IlWmzIQDtDmT3jVGXJBkd0PkkO0O/c42nxQ0XLP/92zv4Qm\n",
              "Eqc0x9a2aV/ns2v5HawNtHdZ7qRFk/LSDhQ4JiXU8yAIzycVi+qKyea1XwGzj5DEbvH9sFBnE5pD\n",
              "5sG8Cji87lzK2NyWF1sZTd86/Rpuuf7qxU/wwh1l6k+16B6qB/wKBPzPwBRL8f4TSmCk0F8WZzsJ\n",
              "C9zGyxmuzPyB9P5FNJ0cjMdZadkEtsjPQtidS0gzsC4OkV2PZMT+ywZNN8WbNulePMiRJ359kT3m\n",
              "IrfB1iiVQdGXi48fGxIKoS+Lnf6Hbd0wsQqBj4LSRrcDlwlSux0Zqfcq/z4SXN2iLFpst9rnqDrP\n",
              "1ecDx3SLpzH2LVG/JFD44kBWTHqfq87zE3cdAsa2sVTjDNWl/orvuHOqB8GsCXHGeARVtLpOux2S\n",
              "AQVFHftDuf8UJ0oGy5dLSGw8dP/MZXFM/tN5z5i47fXr2GYtpxM8gwTdP6bjFVPe4t42d7N5I2o0\n",
              "Bq1A7qf+eH+HbHshxxeKJZBf6uxnocixzSuVyYW5XlIwupKAJ1QLzjiweXP35hNBtJHabICmnWJT\n",
              "QQH+PIR/9uzcdayOPUoaefU+EHb0iNJ7xxFvFgqaOpBUXg983p/SyoUuUhVo0huJ1rFmxBZ06s/f\n",
              "WJozDSBsOW2yIJtkz2t/tnv5gt1WupyPlyDj7pAshAaRyLBkkNJ39PX+pnOYwN8ktoOA4ajPB7sB\n",
              "RZoebRJsDEo0vbARHijiZmahGJqrTbdpig1Z9Niuy3fVoT0BEOowCuzqev2ojpVbzwBPOzywvg8O\n",
              "1sckLRg4TMerp15kh9csw08DmtsazQpCUFyeQgR0jfjw+rc0G5T8aLebOK/IOOKKXqpRzV6bTOZa\n",
              "PE1caijfEuRqxpHTNEhm10ce6dHmbLYSKyqR+e7BFZg6fNMvg+PBPtbagCQqDOCW15n78rwPw6cj\n",
              "deD4KWDCRtzjPjdkNvPsW1bSdLz3M9JkYkxTceVF7Qe56V2gTju2BI9l0DbFuHslpmQgSOKz5uSa\n",
              "c6/2lKekmFbxUmAvjLwD4tXcnJERN0VUVoHn1g3XKuVa1CViTcAH+4N9n4rt0ovZGkJnJbfiOKV+\n",
              "L0H7KIjlwtfCyiwjMswL3SXCBA0dXLNQ4kMzo1RH9uevVSlJ7sZkxCYUMmsBsTtbI19AG/TeW92M\n",
              "zr6O20b8aVLzAVlD4NH1FkBIGDl5Xk2r+575AvYEsZzUqQ80eCJfmVDBb3RQgA++Ib+2t3zZ1mlO\n",
              "bJRuv0pvY8n/mLH8Ybaz6o7ilteVQptzJsGNL9HXKEIQyrQhba/tSYKszlhngFVW3XYi4IMofPRg\n",
              "KOVwyE1OeJtSwZ9512aeVbx9OH0NM7eAK7qq7fceo1Bwr5JPcmwfUzwsVLYqdHtUGkbsZuuZu2lc\n",
              "gZ/uZSCYLAWekGS8r7obk2ru0wzwngNuYUNm3SjA4VP3NmkUj7DUxmJJMmRUZDGNHQaTDpXQNZ5P\n",
              "iumG96FwNkq5mdBRURwI1TELldBJ90IfPZbB/azyxFc0gzJ9JOq1mJf/7MMWs/0Ys4TG289vPfNX\n",
              "Jgkh0krh9EZ7deghZ3VQRDCEfFXK4XEvb+L60MgnXyhiAqDzZ9QNh/zEO+j+ncNjS6cixb/nkxpQ\n",
              "vqrcF5QPjf3VL6hxTFG+MNEg1k6CfwlNRTk3lcB7LoFN7Mm4AoL+iytfLevyIn+cBG8yY3sHQu4a\n",
              "hF/l8kVgVRV4kNAMR6NGhZUb1ENWNw5TH8/ktvl+XKGzjAlQqB2lq3O/sP2bPxbOC1t+elWF9Ij6\n",
              "2tcNTeA20NAFEJuA9p0g/gZf/RWYjyxWzifBkPR+rZ4pB2plw32TYNkPUkrXaGfqLD+I7Q+8anPs\n",
              "8U+wGtquKTP808CtHCEBbwIlDDeYY4rPj/8rmzXdrKkZkVjOcqu7XPvH1Sknne4uNcjY+7FTQxlB\n",
              "+nXxlEzE5N7z/eyA5s9c+KX8SW2SaxIguy3D4NAixnaHmXTrtg3fhxUHSDi/Py9b/mrC4XZFuxtT\n",
              "e8XV7bVUnV04qGVF8ig1zBjDQpW7SYW4y+pgEee+b3dopvBVYz9oS4fAiT3SMiZMmVbwPzXSfiFM\n",
              "xn3ewYv3tghf/HyC8OOrhytqh0dY90LYuNFll1olyTHyfPh50o/thTmgCaypx27wVqZAf7JB4drj\n",
              "VXwJOrdJbiaXWS4cu8x/YiRRA8M0sGiIRzAA2z7lzI98syqp4qYWGMMYL+aWHgt7iGJCR9U/QD/C\n",
              "exxfrJWfTBBKBSlaNOTtVNbxUexCHtfGEEmqZoq0HcwMzwYhcV8ituBtUFx1GC8tV5Kay73ZYZdh\n",
              "UgfxnBpDNEbdwBFGGx0tEJ1kaYzTq5s+ZwbYjOSY+PQk6jsXHhZbrdFNNodeFscPHinnliMv+7Uj\n",
              "E/PeaZ3GJVadlIwtlw/MnbBIe8n98zyVZpHfShlU1eu6yQj4lYe+ljE8o8oyE4iC/pkvBNRpngZa\n",
              "DkKdlOsFRuKnn5/VCfglahqK7gfW0q16yvV/U9DLLbBTGjpxRTk1KQEu+fH//d5CHZG85gG7O9cm\n",
              "FasClC6As52ivk/8nAKpenrXXIYXbeLLzuZAl5Br/U6L/RT6QsqoXQ/Dovsf2qczE6SW3BwE28rM\n",
              "y2EYCYTiHht3rFu8TIdFSmA8ge7VBZ7hhmUiJOZf94cu7hfn8efKGQBU1Ahb4aFK33s+4o+uOQ79\n",
              "n7QQaeVEX0Ak5mWYunAHtrpRM4oPeCYgsH7/FApxkKF8kZlj9bTrGQmK/Wm3KYDcTNRsC1KMKWvu\n",
              "2Nqhrel3tmN3NZbovzwLY+1jQHAy9leRh320oShyJo0OK4aHfXUFAQPnaDJpGoz3i0NsNmYQiBHW\n",
              "QXbSYNT6Q++759rkO2NUbnx9qW1IA9NqUb27nuTP9t3CEXltcR5eK0hK54CehwtImVtAp8n20dQb\n",
              "ObBe91SwzuKLZvc+J6gjfNDMjjTO9ZebPzFDvkpqRmfjbyAAAAMAaakpJBDc9/9vI74YdK/45Y4/\n",
              "TCz0j7nfz6Q21dTrohGnMbHBnxoyrFhAj303WiXUvoysLrc6AxB6dMhI/281DTCYUuQhIzpU3+GG\n",
              "IOQ7VEWTuIAnmPzoPAF/0Ue+/paCthXQLN7Ne9tEwp+Ir9cfuuicXogP4jQGAjUVCWp5TlFyVXlz\n",
              "ag+T31I5PCmQnWhHcKHKGbwJKaz8hEXxrmZ+hyCZxqdG7nXavenIogqFQQyvm6KVQO9bzk2kN5nu\n",
              "cHpqWz2HGdu71o7t9MYU5+PkbIA00/RAGfn/8OIcIOPxSLP04OzzGmWOyyYJND52Dm2477p2sSQv\n",
              "a7j5ZWZPYWOO3GW1OSwQoKszbMISLFzTaosCIhzGSvo5yPVrQ6u/30I73ptdsqOfNfk1PYRnNUGn\n",
              "fbR1fI3K4TI7FwHkbbVMYsLE/aeB3uQwggua0lKusZ0SexuUGDgJEJgoz9WHZfgSifhY/bpmsE1y\n",
              "f3HgAlJlXdaW9ATlb3w6j6CzuGwciTLiYX6gNOg+klq3Y67zym7TxQdvRtqEwfBeedoFw1LylUaf\n",
              "/8EyjJmEBAADSwAAFlRBmiNsQT/+tSqAEYW10vsAFYXlgxzPxPB7jy/4YbaUcHhwU007RCL2hFeY\n",
              "N88dsxs45+C6B+ajQhsHRvFH/2IYJNFqvNXkXh95lUTRFqQfKF2pv1oqIu7HgzE0pKHhZj58qTgw\n",
              "H9VGxuNX0kRmX0GTCR8+Krxnx/vAoSwdtoUSe6Ps0fJOQVTUxhm4/ppYymAZt5+8amy0S9iTJW+/\n",
              "QB1zP4IBoAQiWOaEFoxOStIcx33v3znnESDgLZpHdzSfDG37YrJ2dsAAFesNn656w0+RgW6FGKz4\n",
              "6P6pJNIRsiKsgwHDoLWkpii8QSLGs/UaWkcCtRhvTaMD5WRUmLt8FO0UsAKAoHqIMxNFvk7hP9JP\n",
              "zR5brSnqQFH213+VtUluoW5b/mClt43iQdtnfbmPFDrtd6h1WDPsbYtHs/X9HnUX50qlnma2G1DI\n",
              "n1LXbgDlumAX5IyxUyk93AZjY4ks6rPVBsAAKlupIPV1CqJvSHgTTjeEcmL0Q/QXjN27BhTX3znF\n",
              "l4qMDQGPpHUiIueE7ZPwDv4llngzm+2dC/0JHY8SIoHGE7cIga5addaqqXFp5WJQ1hSOJxXgmImq\n",
              "AN5EzUbHMT/JjfrXgr+6clK2WRefsrnwMrw/+8Yw03WcisW/tj2TmONA9+zmHrv+2M+nHgbr5npQ\n",
              "iK4LG0iUFhJn+WfYl585CTiG42bDLQ/pnJnwXCnt1sFxHXn/CNht1BD1DfxkvJv/vCDYZaIT0LHA\n",
              "Eulw55m4Geo6kTRYvNV/WWBcwaa52Kw35fWjvGNpGUt7lrDwwe59N16iLCxoptJEpm99v52pevGU\n",
              "OxxrTGv/6eyENFzETtVB+uf87n0QFZTvbFXdIo/9jJLEmFopeQ87y7dhJoffEzXQc9CteThxZtRW\n",
              "OXs0SQe7snukGPSFmA6beXrVdgExP2LMaC8BSON+orxkP1NM4NCiWuGqgjOP6GUfTBGmLF0Uxt8o\n",
              "/Kqf0G+uFG4tgUlaHJpKsovgvvz4fQzAYdT9wqisiKk5XnBUIXrsxsLHD4cK45H9ZVvbHOm2YFVS\n",
              "Bs8yaSKVEY3Ywa7IGH/zqV1ncX/OPSH7lRSyiYaKcUQTpuHBA7W+TAeUXfSO+IzE4wIWurrT0RA5\n",
              "T3imTr9Ll4sSrEsCQ0Ga27lClZbHtK+bqNK/xcohZbYpGY/2IY3jmIfJF1u87BdCfvkZGjU4mgjy\n",
              "SpDxOkMVLNor5cT1XN2QXW8GzI8OjdOgdKf5Xs3IIWPkHXj5l6CMBsogLcsxPEps0+hKEb/1n3Wp\n",
              "m0E2Hnt8OALBAUaqL+4ktdLO1Ki4GM7qfOdbGr5T1j+xxN/6FnvQ4KL/5yZufVhmZJPvOdGL+Aep\n",
              "yTd3PMUtetwTnRVCzffSAxaShgjhhKMWJUwAElK+lNxZKPxukRxrB0NafyB93ox2p35EjVYPIv/E\n",
              "3JiLcRCFzj6CLe6n6yTAP7dbs9NonlBxc8qSnsQw4VSEbr//ArYusAMsPwrgfbh0dPvETMRa3Kd5\n",
              "DOluU86lK5SJDmWeVo7HPVyShd6R/HkTLw/K9noXKDqft0HaRJwGJ/rTAbbQSBpGRwa6UhsilZ6O\n",
              "peKBYXQLtqXXGYaKWdJmBAJY/UwEti8WtoGrNqxBkJogCoUt1y3Epa5MCjDHsJwg8bTTZG7PYbnL\n",
              "TbuSOHwlqN/apPvSTuykxMGLuwDAyDfXw2VyGnUTpoTEvzJ6q6S1thbBaqfOCv7ZtJ3YphPWeK3y\n",
              "NVtmTshDCunx2cTwLH2Joh2vVvc3U0M9EgGs2QeBqL3HWB8myR0+//+MP7MKg9C3Yaaa2z8ka1U0\n",
              "KL290bbyrAH2UuUnkxxbGCFxNRGgljELmYjE2cC4X4EBuAftKUKTDFGUJvzcsMdRd18RhU69ztUm\n",
              "wDJ9XFjfUrOddUSSwnbMfiqoqk4M/CF1ewAGVyteIFul3Ua3TPtkRthE3Aia68/jdB7U09GPa+0x\n",
              "UAJuVHArJmwpl9OoNvgipO5pgvelr5HcxjLIR76qwz9jzaK/CexEhfifNCwDWPzyUcMjrV0Jv9fJ\n",
              "bOZ5DsCYuDj21RQAzL9Pj/0j3Tm+Rkf4hjeqbPponkuPB40YHJXvcBPrLvy+lVnq1gUlsin5lFoU\n",
              "edVZ/tlDjSCsp95doNzyS+xz47Y75VPDUGdlRtk9ojodMBERlxwSlZwJWFbBuHX8eVBK+njDkgqK\n",
              "RtCRLIGAhl3B69we3nFwdQi16AYZswnQpuWN3/RABwobxzOWRuEuRq9r2EcoQRcYEAB0eR93n4q4\n",
              "vn8g2zTKaBIMx+oDtA2kL3roRRQfPcAwLOnJtSbjEtkYAVidet04DdYhTJYhv+C3nR4gbTZPQNBJ\n",
              "wvqL3IRHx8AfdT3aEa5hhLmrAkLnxIFgoP4I1BORvt7ArkSXtC4TenRGBpGUWTF7Y33eRgtHWkoG\n",
              "I2YFI7Al9EGF2AthO3n+/WoavVH7dC7L61rMb55i5StQY7OAQfgx6KrtHIyLlswkaifnD5yimKxB\n",
              "xQ0Zvwh8pVK4ypb2xkqB/qes7xIZP6yEUgOmigHEE6BHvlIs9SBVD2bh8HMss9/GB3RNK/lxOJPC\n",
              "EKz2JpR3wyKTSFrWGPrABGeiBXVup0SJjMiMqmW51i3DWZn7l00kgJkmhcnOXvBv74Sg+kynHRI6\n",
              "utA0snHzl+D1e4NLEc2sWqebHg8chVp5RQVh8WwcXJOVZTmdoov/N9XjzKDy2dsVB5CFkxHOAQcW\n",
              "o3fDd9YBfz3Rxtqa4Ls+5mF1zKpJX6GHxcWzEP7qWrBNK7LTbTmGwUdr++bE5nKaxYog38bff90d\n",
              "pVQoh+6Lg0JSpFAzsu+Ex3mwFVFIudusXNjy+ycrxMQRXh0rwdD024IrllDBPM6eHY0ftGeDTvV7\n",
              "YUMDFtS86el3PLvq/djDljhP1n5ipYEXmMBv2tLCeUqH8ZNnQEzc/mGR0wxe3fY1O7OkwDIfC1n5\n",
              "QgST2tTGYtNZ9GcRZyHOWjSp1KeuQgWtObx7oTHZ0b5FoRMBhXMWDdNxOoSzRPv5JfP+hlqFFrgQ\n",
              "vaQ7nhepxppjapPV72dvEwn8xF5H0x35JEzB1Q0cz5g7rYs1oeV8VGiU8Trlrai9tYphjIQ3xwat\n",
              "krBuD3jDjx9UY2hx9FR8DTMTg52A9OPqIOjjN5PzURV9H2cSTrLGzFk5/3aV3eAzL0b/t5XnkgeB\n",
              "mcFbfdk6aW8YwpxeYQPi0pAN17xZGOrlsCqQ7Mdnj/Fbwft90pKOYsT/VYTqYnq1M12DNcDeC6N8\n",
              "xXZ/Tc/1MuN/GWGI5NgWHnGsJ7XxQdziFmWDy3g75YhOktRIuQionK6SE6gE6ZOhgeid/WogFUEO\n",
              "wwGdBqMz+80J+uQIiIqYudP/M/t4GQ7GnJhn/L3qw5xfDWnbDTn5mzkxHSokBA3zxQRV01KN+SMH\n",
              "BAiaD8oEoZNuHvmEE67hxzgjv3S4RQF4xKpUdcdyBDi04Vv3cDzYlvYK96XtnvJZaZAMsdZ3wC8N\n",
              "wjEfxmS/u2i2L6Cc4tjQmnJMxfUlTRqUkx00xkfGnUFHIPD9zfb0+afd8fdtnrg8mLaNf9dffsPL\n",
              "gm1+5/N3PX/39GqUMQ6fAia0tNX9Prwy/4gLEH352iC7dVZ8oB3rEhLE2LnFkMf0P6i5RwWKHzrg\n",
              "sfCg8irelYPVLMJ7pDha9YpimC9OPCsjobqibO3Yt73ZaQ4ehchufK5fLyZBvl/Q5OWxU/hYWLWy\n",
              "PervYcVjs5gndEjr7XKeTkF9hMz0ENadCVZr5NdPWPcXTkkeMIUH43A24oTzhwnsexI3Anu+fif1\n",
              "yPb5hP9Chsc9MIkqJDINGnYdbMzjSPDA8PaCXmcpumOQhEWlT9Y0iPb2KDnGt/VorhN8Ycl9KjeW\n",
              "32KVWAjQXd8iZ2CbODAwfT74tzwzki/oDmQPpj8jkfdkP0s5+lH1HE12qt8nBmEu1uuENMqrsAjt\n",
              "CL8PxJ8ZBvEFhbj5nfCqdJ4EugbuhdZowUu2o860Mb+DykICTlyCTJCMxu2rbtoGlwKyAj8xAmDJ\n",
              "f6MFeOBftRtSyLswSR3J3d/vhseElHFYK+5/ZyBAvZDsinJFdIlJZTtjKQafJQeIOcdQD9b4hfXQ\n",
              "eqUiAet7mrb0SNRperXczc2GEVN2MAJe+QrzieWP8Rf0Eka9l14KvynidXVAlOEewjPLRbddZLYB\n",
              "S8/woDEGyYxqguZ0jONUBTQx8mO8F1o4yX981I3CB5hOaFVPKLHL2oWQjRHbHOOjlE91nnx82VRo\n",
              "FBDGU+BaprtFfFY2QPlP734OsuIwAXHwy7RM9dac9mWENu3UGTIuF23T+vVHwPJORxiJ96r+cz4D\n",
              "ibI9OlSNzKn39qo7fNQCVVI+fleSzlhrPPFstZX5i7/pV/YHmPM+9a9iBGICBAqNNcX+5hwpRPOw\n",
              "E7mqpd9PYcV2nwxHSf6JEF/tyvrJRP1OSBoc00ujh3Jdjs2u68QiOhHz5hkOopHbaIheiTUiIlBi\n",
              "IU2nvVXaVhV9GGyZrvzS1kpbdoHjyqpR5wBnQDgvQ04zH+d3vDeLIuX5i5/OeWh300smF7z9GDts\n",
              "eD0kwSBwH4F6ApsVj+BCdmTb0NXnOB2R63benlu4ZQYMwfQpG9IyRiRd4ZAB6hWdrTilKRlEaAfQ\n",
              "Tz/FYcU8xmpt5KtW20mN4oo1PLS1ugZ8cLBjmm9tDSwAwTSB4PSG8Pa28zvz3WLECbQxao3VMFqv\n",
              "jKIsVncAgWYfBL2oe4jeke1ah1nfpdilKfYTJgLX2m7IQKdza3S/FwZhewukOWhnjOqie5uBsbg1\n",
              "ahxMsh0K6X6D3gNX6Lu11ylMW6JpFexI+t6hOxaUGFIdpzDqZ/BlUORawDy6HuzA35Fap24TUJ1O\n",
              "Efjr9biM7jkSKAX7Hx8S7ufFOKaiBSGPusbmgFG1V/BqC5qw59I5qfkiNXONh72kdXu33zk2Y3Y/\n",
              "4xrNGKHM5gxZ9afLUbuLRfqsZ/iQrX0iCCN/mNC3X+w1EkgfDYiIUJK/XF2pzMGy5YpMhiWJ1M0P\n",
              "3T3BxmBApzyMcjpf8Ql3hzMGxf13gLUxeWSn8mQ4RzIdEwajunbrRk4uG41Kw9/iIw2lYX88rzKU\n",
              "RrHln5WPtizPGpJkiQNrQ4h9pVd0BTRwv5tNWAnVJl2HjWYsoFiHNTYtktNLuf65qp+ZNOtqlx3X\n",
              "Uyz/ton1cdxstO62aVIPbxQcrWFSKLa/kzYMV200ePCAQTMiNbhkotY9BeasURuOjMLzI8+x9sbL\n",
              "MJO415mC1R/BecG9SFagaNuS6QNGYhw4u+SrdRWTyiNB68Sfe8VOu8IOIWxqx4vL4YDM8V8z8P8H\n",
              "z6DLhwoV26Y5ftTErJooiHRfc+Ela+n4U6vkNUUfkYzp9dTFLOfNK5d9wD+w9T6o6aF1ZsTMihk2\n",
              "mTHFupnKIGgmJVOwmTm8ICqdHvLQ/8KhrOYc2qDmS16SxE7qOdlBW6I58CNxnhtpTeDQGv1G1aex\n",
              "gYdyrnlOK3DyXyENxeNURFOXKK3T1/4wYteefDmzU2dc+wjGYKGMX/CFxWicMEXdeoIUgEuYJhJI\n",
              "oromWWH0smOffUfhiD4vC+OeQw1dJEdXKUsYaonSUGdUrqBppwfp3ps+7pDQvEay/QCBFNby5hDI\n",
              "qM+PSX2U3OYbyyOsq6E5C5t53RyndSMZyc+SuHUMaC6Ebvq6jaEHUfhn/kFy6/tdX0iO7YIYRUap\n",
              "LpdhA4NCAu+pe9CKHtZUa6aCVQ0tZ8IPxYmpuBaEKQShbCGPCSpBizJU1kW/Tfl+SwSNXUS2+IrD\n",
              "oekYlKKICMCS3yTyaQVcHpXLgyY6UpuWh7UtaltVDwRhSWOAgd/k5GH6kZzYqEGpnQ+M9JbIpiGv\n",
              "IJ5Rip+JDv5D24imOuXZIrS8Hx1EBbCufzoYuyxrLijHvIEeSMpQ4CHiUAAxqTKOsnjLKEAxzI/7\n",
              "Zxl1q22TnIPfVKktmqgolahPHNHtejV81fR/x7B9EkHdnDhT/8ByR/liWU5fn34nBzV01xJcIdVa\n",
              "tz0DftEX2L8KOYu/6KR6F0jVq9/mH8K7x9mLncPvet6KXWeweGX9pNsf1lntGuzowIG8FNFXb3Mx\n",
              "d3UVP1aTWDgKNacI3XP3+dn4vJqpRThpLpQBBIPhg6Gl/m7fm9f+44gTETbV2KOeZ6r9xFryQJGE\n",
              "sEXMA2kIBCQDVIrF2Hzk+iRdzfXgPPrYaz+JSbYPZR2CUz7iDRnB0b7XXdBRYGx0KXRM7JU7GdLF\n",
              "7fl938OmeycnFJ7mlD+HEkgSGSEMsQAxT5CccUHkMJrNcULjOq50vZWFzE/4xRJDMaDZYGDQWAoe\n",
              "1c+dL9VHbIBHEJK0l9OpuDnr97/kP87aagCC8utzwJVff2pytVuFZW6g2ei7dFQ9RUx+QRnsRb/K\n",
              "XyDh27iXwAjOc56dfS+LbpP7CrSzVb26vAGfXk6ULMBGLCezz8FmlbYPTrgF+H7i9f39r0ytn9XE\n",
              "CcImKysu+TfPYu/nIsQ+NkHQdJmC5iz7a0G0OZXbMQt/57en6StgPHFPNMu+dkbDeyn10E9db7sq\n",
              "QYp5t8Dk6MMM4GZV4vaArEoP2B9nDJMYd7TwIGa9+hONN/lQwlNgypo4BqtwnFz3aYsMAxmMIW7z\n",
              "G0s1Yi394x87nuy7GmTTy9wLQL6iZ0eNpm990/lp/NCvzjNRbVMEIMWPTYqatIc9/SaqUOdCpxNd\n",
              "X2Hkby0scE0w5Nsv8EOQ336K/F8U7SVc9vGFwU7E/s+4yEMkq1Tl0dcoF42sBYlE88lZ4OvokkOX\n",
              "9hIOXXgxZ/09DJtrrCPEUWH5uKRfDiEEGL7LfBBpGsPSOg+sGcfmQxauhSSFse2aUksac9J9QGDX\n",
              "rZ4YLWyn94jH5yAzKcXVBiq4EhbxLLqHXaXB27lB7qKnKbdQviA0C9zjp5Vwa/W2Lu7J3KnQ41I0\n",
              "XCbmjIp8sp0y6Qjig27X3NHcYKyhK4+hWbQZbDf34wOFn/KAMWaRr6RWzWAstZMCU/m6AZI/2icT\n",
              "fdVOVtQfr7MFQwM+HXOtRqAEnuUCLBuLsXKlhyhPkVrnenQC10TJwPU9DQedCQLq9Bi/z/cIEd+f\n",
              "8zcNkLrwhu2YAjeczgm3b3chqYfpAtgE77Dr1UiseXkWRiKtJMBXkIftp+yoxRbZnwp4wci0fg3c\n",
              "2I0DglvsMWRUROkzxSDBBXAhPPFCZf18LT+/cDiaujLaSN9ajSIhMz1aFQuQ2Bj/9PBNz9Ff6FS8\n",
              "kqCVrORPD8VbgRP1zKAG6isknMrzI0DTri/ywxHmJiD57u17w9NaI5w1l2ITWyvLSHXyJFtwoXYB\n",
              "twOdO2swtAON611Ru48ugI6gyhxxQbSvOCIXaxsXtE4ym0pnk79nhWV6BI1RxRVf90dXi+cyiKga\n",
              "jbJWzhiHJxUCoVaP8umMgRbPjAtN13Nf+Xh9WJOInmGza7tT9T5gUFLg3N1iKj/iuA4/iU7+Xc0d\n",
              "6VSnJ6FjthGDc5+lnGjjbVXkv83nebmPz+B5A0580vPUoCd/PKTOKw8Ln4v+fu/CCHk7lZWln/kl\n",
              "D3LPgqtrboBZodisBofcltABzdNiRxzYXrDVdxgWuBSg73VH7zKv3RgKxrxIzbWtxb/U2MEmgEik\n",
              "zJ60iRsQQVaMwgz5/l2gosX/Ke+JmbtLDWZQDjqWAAAK2EGeQXiCHwAWDx3JflXkgSa1p3CjplQA\n",
              "B/YOA70RIB/mX5u8/KVSBWFDeWuBJ69ueRwVvBJLmLXe7rv6Mvtuv3pTZa9jBbMo2JC6Fyxs8FsN\n",
              "Yrkhv2SbZA2spdnmcF95eHLaz2t4YQ0sFP9QSoNlm4oEb22+cFaSD3He13nT2qvuUcRCYmjRhglf\n",
              "RYWYYAE5l2U22QImsWXlXU4hcbRv6oGXLbnH5KDt+JmD+XMsg8UAAAMAAAMDE76fqGAduFuweczI\n",
              "V/0LZm5Ti7TcD5qpXlOZ88amZ1JMCBiVG2u3xryB8bDs5PuHEX+239nHd5L5K5o+Hdn3SXdeU8ud\n",
              "BuKfoK54DvT88iDlJq7S4hxVMDUIV21/jQes9G//Q+lBERDkMPh5OLKu3S+CRtom0dPXExEkj0wu\n",
              "b51CU/W8ToaCn3GD42wyG18p6shGqUAAAkIxja+hN1b6HvfK7Ywv3bLhJYX/6R9qCDBk6zVg0gXU\n",
              "VX2N+V33PzOS131/yOfNhF/2arkrMgDEFsIASNfV36oZEuGYsItg/6ZtMrMmKhk38L8kesLq6vDQ\n",
              "Bf6n+9pdeXzXHDC0G6b+BJt3nNMZVBoOZ5IKBfL6pqMBLwxE+Jc53yqRmXg5JWax89DjvnMM0EIg\n",
              "wEMNX9fydWmtyNq3GY84aA/SDoVqlc5L+WmQXPEAlcPwCaCBZNaMqTlQsXCrqqu+/0rxm2r69f+T\n",
              "rMxOEKdsabY/4gpRCcJhZvll6d4fbhAlF2u8bZT3GihCrWcClkD0RleQ/SJG9h7B763NcovEb2eU\n",
              "KHbqCqi2p6Mh5fs02YIFvQ9CgpS7QFkvfbQXOq8EyF2qT/9dv2sbYJIKtuk19vtL/U2x07m45xgK\n",
              "cYpZvsbhP3Hcuq1Pzgwj10LRjUyOC/p2YzFbeb5GcGZbGAq4iigia1XJiRmILMojmiVt7/DcUa+O\n",
              "Z1yR9k8GSwXAQ8xYxxefuSFbrKC1Sg8vFQSVze4TFENzHkyLHpe6S7W1lrhKooUCX/0QwOb7zK37\n",
              "4yCcM3LTu70IMJ2oUX2hh3rPdvCl+awkl52d4SG63oMzbihcwsjQQ7X9if3EoCet790Sof4dB40r\n",
              "MN/UOvIyIl1TUnFBkcdzdFH22FLYW7cAIiTXQ2B3y2DvpLqX6KSdjifipls/GDa7fsAKjvyKejiF\n",
              "VbT6MG5nfeRd/qist4x+xLhKYtO3Pwq+He3YdeiKU8zMht56aqc3hpQHbexxEMBvTv9kIoHVH2ck\n",
              "8E8tn7STOnv4bm5ALwcMcBlN1oRe2wwOb2RJdmm71us8gZkQmOJI3J6YWHxjffxy9Q07M8ryceQC\n",
              "hMRodsR5nvaKR2pk7j5k2JO1iS0zX+FXodDuYCyKzc6aWtbf3kb7W5wGuQ9VoeYZ4n2yJ0icrwfc\n",
              "j0ukZWm9zrc9lloV+bm9iqROTBiJn9AH3r8gsfXch7P2snTnEuxLqciRWP5agA6tSS4/GttHmwvC\n",
              "RQ7m8w7WrF4qceMmT8Ml5edgPJTnLHLUGfb0MNJFVJo2SUdRXnLD00IbLeK3562ZfflPztwZ/HG2\n",
              "iahw04TzcD5Gd6cC31HpEJJwydSvpB5MZYI3l7F9pPLbbEUB6gUjyNMJ16mkjNP5vyZctdGayQ4m\n",
              "VN3CV+qXterwzFyQjUX5PoAfge12fafG1dQ4Qo7vhmjE4PsewUogI/dcto4BTzGw4DY8IjHy7xiu\n",
              "e+Dt1kFJnGZCLXrmwDQSryq5pDVAaWO73h6X6E5SlLDXnzcGUcxQlUac3eeAuaZ7AQMzDS3lnPH0\n",
              "RtT+cePSM/ILLpfTgUiEJiZD/l2yIHbvdDjF+leqGyfmAIqa3XQGJipsUhV6BA0Yef39/pb0rWbO\n",
              "BGjDaQgrn+C5PWJPWpWpdD59qkLoeSxwBflaojf8XW/HbKM7nggpsNFupiXHSY4uP0JMX+Sdq96c\n",
              "oh6YilpJmeV7qzU6pPSgNFTTbzgZjQ6dTerWTmBhjwlaCaYLPxY5sXZV8nFUk8SwT92Me9f1wcRD\n",
              "qihukaienCCudMC7C5V5cRemv2ozgSf1S1tDLjqRxJbzeuq9KL8lvIEd7zcn0/HaXwoUCs2yB9UE\n",
              "8kjKDNbsmMzwt/Q7cnLCy64UXfR/sqt6QdcryxA5KUoDNilRuvRBi8WOIn1EG5lNhL+zbUSv0jt7\n",
              "oY1BdY9iUhuVdXew/KOAdtJnj1X9DMe/1ndJuwoK0PiNhVOk7iMNO8iq1vR6wzCeSo40RzEtvcSU\n",
              "IQkLKhyt14m7rb2a7H74mpGQPOTayaXmCes7i6xlZb95ajpqxGodpLAkpEamtpVZhjWRt+5eiGhV\n",
              "bnrDqB3ymgy+47PiRqdiaLk+eD/5j99LeMaxwSfJzg8ykL4dZWSdtzipVynMnPFD/vcdTnYwGb8v\n",
              "seCoOlVCbnuHFbClHbnlo8M6df+qBJmBE9wCKrdtglDSBiGv/30y9cf9BsTdM7PkFuBPR/88lllc\n",
              "bVsBpAB8uqHtn/4sTAsYgKqDXScsE6ir0AiXegvG2dAbX9UXnOLY1mpEswltPcBNUaqF1hIoXCnP\n",
              "RK8Hc8C+il8Q/wJ7l8JM63wGMPGGTTtQgv9Xa4ZL8+k5lIr0dPSuj+pwPCkWy2nv/w9+PuqQt0Ym\n",
              "HrQODE5KkRupqWq3H2U4ee0INaIW+dTwI7Hk1byrEZI/FubDg8jIYeUGvtLSsx0Bnx6JnvOKU6Ds\n",
              "GAYx+mUlnG26AipLcsePIiY5+b4dUyRi0IX1Bngyoi6I9wPB8Nf2wiY616QpU10bVQJiT3+ptljc\n",
              "24m777GmsYktI5B7Y3UMp9QLp6jLpwwh7eREtoMZdyCdVYYyCCjxLKZCQAM+50zor302RXdxInqL\n",
              "i6iqNmIgB9s+UExIrRawDMHaDP/9VnBvNLPXuavzfb2Wx8UJBWexPebReptRmu2h5jLW2GH7LKRU\n",
              "vTETkUoMiN/fEEXH/puKxg9LJfmXfSxRrgO+Um6gX2D0zG+1cTP0Y/d8FofElXQcbUmTOZwjQSor\n",
              "koAMZcQexABbeeBxm33zU0WTzPiNxbeBgA1Z4875IqIVYBUjUqFd4ee/nsg/HXrg/hfyIkICkj5f\n",
              "gVrHWxXa6Fdq8kdZij4TumX/KpDxT8EzpiIHzaq622MQTET2+Bwp7bxLx6HdUMGySOXBRe+Ycv8H\n",
              "KeQ5L1Gx6GIN0BNLPIpNt73Af6KyNA5SDIe/qZMutpSuqkKspH5vawZ0gV7F2Yjn0J6hA4nkOX6o\n",
              "FnlrZyKWlyYQfFpHwd1aDqOB9O5qD9itU6MKtwCskJ/K6L9CvElIEZ4cJ8icFKk91+dvSBtb4Qqw\n",
              "Avtbqtx1j0jSv9bBn+ZuIiINDQZSr0Jc/T4G2FyRL3IPqWqvAvO3hTTbmQzgKiSHTMdAVVYZG0G4\n",
              "uN+5Wyj5sdZZQrTymxAfKEUjyF5tsnrfrF2WCvY9Ev9yVOTHNqFxgSKcUVdG2x/uvB0l1RA5pfvP\n",
              "H5V/ePbDL2KIa8+CdW+qtLn8DCQO0kUuGoB9I/6PMG2GzD9mhaESqvM2ZiMS765JODeGm9ju72eD\n",
              "osmXLw5E/5rJP2+MrWhteCNZEy7MKFget/QMaPHNl5GfmoZMU6H13jhrEkPoJ6faLrxkjIPvh4sx\n",
              "WFo/V6ScIskokylmLy90Yt0Z0AB+X4li9mMGftsN2tvA+6R1icIQHY0FuViWQaYR9bSagYc0/6Br\n",
              "+1+EAB/qRGP/ah3xOgHtFMEAAAk7AZ5iakP/AvUhNdCk7d9pPwwKQAhBGarFXUY8DSN4er9YsfLk\n",
              "f+RVtx224vunm7y+bEmZ4tPYWRd2vWTvgSlGrpSbxrnu9zaNtG4JfJHvos86fh8kiIvjPwGG+9ZN\n",
              "8/8mSf9qcVrqO2ecCGJd/4mx6QQHr8D7fChV2k+o/hlRdlY/YeHbdQHEH23FC6nLuexdTEtj9GYM\n",
              "9yS0GcOO8ZWOcchH4gMPULTfkUWHxUysKNiWo7VcURLvpU6qRR5J5G8XAvQvIjceS8ZtgLyikto2\n",
              "s6xtSeO5RJl7HlzGKNGKR8Zn0U4abBczIFFPm14w/qEkYb0Dyap1jtjVUDi+0onZsu6QWJiyTCOL\n",
              "zzjyirB8b1ztlDYNBdkHnBAA+xNbqkDJ6w6QS633N346SuUwDEN0u1DgpCHC0akj80CVc/QXPlgA\n",
              "AAMABBfPTpzihQ4kofZzRR/wmJnP483TPhPSNoQhXjwloWb1hKemDs7o5O2d4PFiJlAZ8eQf9n1f\n",
              "gMuhoioKh8e62I+N+3USu+GQyVTvAKivtqMAKNIhODavc5J4+GYsrWhEHhmowxezFS7MD463IJE2\n",
              "tSXB0FLJypOQ92mrtituNqCO0OxwmJed0Wx/5tno29ceAa3cizxpF/giJamWOAXtYPUnZl/2NH3S\n",
              "G49iKfPjg7Nn5dDNfguaNqCWUvdcLTxo0Zx/B1a98ReulPrLxLnqwsiQR0tDwg0bWgki5GFIWpi2\n",
              "YlkKS9tuzrfY8wM6q1eKs4pphT6WB6YtU/Vb9O7+y+cxFpwzmqWQW8mSZP9QqKHwW/KOr+cKzePF\n",
              "E0rrhJuZKYrMyhNRMBRduMjlbuZGm7o4PYLzaKRF+sdWGjuda5hn7NHUMSqJ2Ptl4jXWR8bXC996\n",
              "Xas2EW4BdSPq4iAgTKGXPxxUH5aXgSAW3PtPODS2yRLRBWyksUua57fk0NgU65uNl7d1eUe6SFyZ\n",
              "sB9erIR397JUcTFgvcbbXIpp/Fi89fnrZo3BaZ37xNBhzl/jlD2FRzQYjZMoL6AVTB6XjhE42aY3\n",
              "wyUmFuzSXKXu0QwJ8IV5A9eK19oc4LgfxF+aHEz9AJXhALAOeDHcXDq5icbg5lKru1b4g/wi8Y5p\n",
              "KFdGOQUM9kDYVgf41B64jaq+yMx2GLoFpVEAVX2od2yMWXAdmvkEYpwlh9KHBM64nsG+gNr+Uc9M\n",
              "VWzrrzrogNha8UE9WHq8ZXk59pHAaN/kHKLf108nxaFT1mrwLq+xFBEnoZae/nuIxhQkE5Jmy6Nc\n",
              "mYlFiZle0/F6Oz8i16GZrGL3OTkH6tPr7Z5mu0kPkWMOvsuhPq0nfq/nHMmcqPS01050DVi0Y0Hs\n",
              "I5BplkYwVud7iofR2k8PHg7AsEMxsFmupBVvyBdXKdPqZfgpTJFXiyIwaexjoW+v77p8W1p4UV2k\n",
              "EHXoGl64zZ0orQ0DqUn4dCmDgmy+aGrso6+i92N0QhdZdnOB/I6HLxoWEfNGaRl1EVFphCZ3k/NJ\n",
              "LDJVxii2Hzbmpy6KEiuOQD30RkzWXm3+oSdKFdBU2gCD2OanOM/9U6MslC7RLrsyodQoFaf6i8LB\n",
              "JInivnRqZDRXYIG4GrapUPCt3taULS3mD66FoFgD1qDtrkVUDsvrvSRRZ1qJ+YWeQZ2GIOGnBqd0\n",
              "Qg+3kf53fIfGGtHm4UMJCLodEmDr7LKDCN5JsZVGLuhbj0H3i3XiVnXF6de73ys/jVcMwIKX07uy\n",
              "p+N79alYKRD2PrXeFcgUlePltDmmWD9ioZq766SzKhDAhdjlcYwhBQz9m4cjpD/pIslV6qpT60eC\n",
              "0KNPcLGPJw10FJxKJs4mBj6759e1yKbfZG9+4cvLB3GziyV1ErESBuRzfM9ImFxd9pnA/XaDPweU\n",
              "bJvYK1vvU/Egun5L75CACQUOfKyHv2EXgKqSpiupNF/EnSxxztqw4+TfJcdCUYVQ8ZrhTs4b9Vsw\n",
              "10vKWhMX6ABnCR29io/VxtziZ/XHPLTxH04QFK1yvyavDA0rX3Ax6dSyIzECfmSRn+OzmVRv3/0B\n",
              "ccDsuAWLBpK9KNKAljjZ9I/q1zw3o2lBBrSc96QekOO7M3mkjuWl/Horr7bdMaejd6yTnJcrxfAv\n",
              "QChlzkfaCXy5P1hqe9S+pO1DzfYYGdR/jYtu1VymUCRliHEW21mcg+GhoyVZjFMOklc5s9dGqhET\n",
              "INNFSHXBd14aIWcr1eiqRyJ+6OEfC2fNDOT7rK4o3Lb/VJvIIQuV+aILiWfoZcKXoSee949/q25j\n",
              "3OHknfqaxBZwHpaZgO67+Z1cH1A0cVsWtDj60HjqsAJS0i9hhwmhe3L7W6rtgR5jSmtbPq9FfFiy\n",
              "vBcp4RbBHtTC2Hc2UDlBDCIHeh084eJJaPToisG2jQyQF9hqLRqN5GxRvOscMGyzB7bxl4lrhcMe\n",
              "wM151gQf2nhxMvA/s83BcNM/q/+MF795huRXdglsUKNWKIHNfS0rCmRuBxswdBzE/RkMy2geOkJB\n",
              "s7oNfP4FAwjWkftug3kqyvqVPX4hEcF1+xJMZLJ9awj8ynn5YMOEd0UbglINe5N2MCLLLcnw6YGF\n",
              "sO/EoYjy/7J6BIvUtnZAYOONEv4g5tcYle4ep+EZ0wywCYXFRZuarASFJZo6sGe7bg6Ow7IGKxMJ\n",
              "kicQ338331tad+kB4H81DcDBYcFDgY2Qh2XzGk49R0P+N5uLT6LXzu18qNYbVsbFp3N/ADBcRufN\n",
              "BXEZm5S/J1O2LSo9OLeZirS/bz2bEKDNI7F3Pu47FOR+zdnGiruVetNHguJkAM4woCSUswlHU9wm\n",
              "ho+xc1vtPC6W14BES56iN/1jgb/a4XeOheU305PYmtv4Xi9IGAblwKzGtakZkLzwbokNZ1c01lzF\n",
              "rnevCVYwBI8uKzyXE7LGaH+ieMXGg5rh1huVpc0kRPKi1dNZBmLkJNBoFktQkHiBTYJ5HGbKjps6\n",
              "32wiB+DlVFxjQ5NR/Ko9H2XnmqBmJ8rcisGpii0vqVJx006goI79D++R/XUrBiYgxDV9rcq3fZid\n",
              "Z2k+lU5iWk3SEvqKFHXwxTolBsqKMZ8vNnD810vBzxmSDhQFc7YK4uPKwfWFK4uZrZZl2n0EhGK5\n",
              "CPtPVMQtJ5fP+tq1C4EthvEyVIGqcod8TYG4YGbBthCW/1jEFCdD+RCcDseHHPAAAAqnQZplSahB\n",
              "aJlMFPBP//61KoAPQbwfqXwWQAM2ZB9OiNzS8xJf/9fgPu4CLa+bhLa3ynK6UT1B4sRbMlOpsuZ+\n",
              "B/EXGnZ81r3rTtKu8AzyJAHIpg/iQFwYGCpb5NFcbvyykF6Bn/7Q2dUIWBmUiMRBuoOkpn+rEjph\n",
              "8DAWj/X8QA3tBrzkfahvtCFC1BUlqUAM2Fkf1cEmbHw4da5rw3Ckfvtd6HIkVRlpurnSKhcGXr6i\n",
              "Z6fAJY51IcSYhR1LHFKuoMNohkmgKA0VVmHkRWhqbGybrwPwxJ/9RwXYco9CJ40H6iDFLi6ap6CU\n",
              "nYqJAG5UWv22d0P6DRJzMkN/i8Phr564zTFFi5ZH66j6Lv5MLBiXNepzfVNTwxiEmAzkANC6EIrW\n",
              "RQQznre7cJFp2LzcIGCCnc2Qt1wEVI+Xbl674a8Etjt0W8WNRsD5yGcUh+TGh/dvAS+J80Ut1s4L\n",
              "5nmK7B02N0KtKI9GxVZvVoEOybk7GxvB28FjtPI58lpRzwCOI2RXRW25JBlfdc79Gqna755P8mLV\n",
              "vN2sttuYmPN9y3d3ToOM36EY6FljXVZAov7krFcgE16zxHIyy0BZPmCH977n2pYOtjC5xMiMb0vl\n",
              "LmkpMIW1xqdMH6ZMAPddW9mr3wklHdW+34c/bzLuVghhELU3hMIadzyIAsh8xOhZzjak+ipAp6bW\n",
              "NgRfY6MoV5Jaka9Ggho6ZOMXKTp9Kw7oBtTjhRaoOcxR3O9jrJBJ3SBVVk6tKdIPyGFFj9hVBBRY\n",
              "Hf3JihF05ZGT6f6dcxvXtEafgZr8lltFa8W5dML/yUd+O61rC1p3mWmQkN0/R8MFrghEpzyfwh1N\n",
              "YTRgfQNG5BIzg0M9JqgYNZkBZXelriyWy0EO174QWlOCihEnYBucxM0SecNYjWeWDzhEfn+DqFXR\n",
              "G8UVw/vDGW81LMjdhyDvImwuYwpq2oQRN6dNu3LNPhOTPFFkSpNWRygsDkYKqnuprl7pyLGEY9qO\n",
              "jDzsptbvwDmG4tZZgH5ZtaEpUFN3fp+x3C8TuTsSL4RqpSh/iDoTYidWVjZ52nitfdugxahaBeg/\n",
              "7g7STHDtKnS+/ZHheOE6ui1cuE6eUnCgKiXoUSwGiVW2Ot05eo+UwLs8kOuNhrnKqm0apabhhbox\n",
              "MT/Kc0hHa6vNVt8xIXWeQLKl8Jd2Qvlibo4Ja5zuumUCk3BHOJG9UMfNUQCLSH85Os3j+DjXHHED\n",
              "HOSWbWWtmYfLhsEvjR2Jj9MDVbpamUvgu8+r4u4jA080yKpMFVcD3J9916BiqFhnA4w96CFpUgMN\n",
              "QmfbXudQ/HwvJfR7hrsqdVGiKHsLuuQJ5zKsUb2y1lhfxYTwm1zBVAkTiWZWehVYQM8wA5FLNImh\n",
              "+mzMkniT5t2HZCcOlsE3mte8I0+lSmB/zIDyobbnf7yCw/SPfHVCPXJzlCS0SFBdfwFo3VyqU0Z3\n",
              "0osViEXzDWY9YCqxVrfrFFtIjj0gRtNXNHhvoiT96MlKjaib+HRXzkcEOnh7y54GJJ2yJmYfNq9C\n",
              "hLjaSE15g1GzuvxbQhYUfNIrwbLzengC1huu/jUFBf0SPXeHohhC+wGMbjsDdY9bRyzGee9g+NpC\n",
              "qs/5afj3Zq6vI/0ZM0qNMuiClErUCuCZK2E7WYIxP8jGxkWrynu7M8I7qcap+oAnYMd6RxUql69L\n",
              "e5N1hNRzG0oN3CbpTFWJw36bRKOjmmGVhwSP9HCy6OI7JGjzvv83rDAhb3F3M5cPEM7GW6ElGvhu\n",
              "g8a2LTXjMUWPSOWSGYeoYWz6i5InvwKZwbqCY72vKJp3qvC5l+3NlQVGjXz9DbfpOJLjtbsQD9Rw\n",
              "A0jTME//xE3IllQviVRliaPGYFWq+LESHXlYhxNL2ehHvi3V7xjfmsUHIisbUepgzSiMA6QdyvIA\n",
              "ykyzeeh+ypAwZqaWXF7SG0aminPxMEHkfxdxUB0dNBPnR4R9b1anlr9jTaxbMFr+n38EiZ+D1K/d\n",
              "D74n+QRjcx28yicXn2Nn+AfDCxd3DzlXWiksmg/u2dPr+Ok6+7b0/DTToF2L2QOYOqyvfuueuZIZ\n",
              "2kRc4fi1iReY1SnCSDlZQFNTsSdDlxtNWHcUSCFJZ4kY68Awvy+f4aIG4GFV8yOrqBYrgJJxzKGm\n",
              "EMLm0wCEPAXkUz+fKptcv1PA0jkiWoj/kVKzhpSDQjIGif38G2kvgp+p81ntuI4fYYFvFxEbQmta\n",
              "ye1Iso2cxppxl/21/C4geOK2ZycTmupuELQDiA9/auKoH+p/nenkar1SEaPAv1n91/DepJnz88PZ\n",
              "0KSuwq5bBqZWfmfQ2cSFlPUZIafeJW2gUOvKLGn2zGFaA3uO8unBpC191Bdm9GCsDK4MWzPfeiqh\n",
              "XP48Mvd76NK1u4DmMWzPXGoFy1i2HC5O9tZWzdBJZRoB4/R9Ok20ZDNPJLJdCHrOV2gTha6aYjHU\n",
              "YzUlLoxeNoQAJxcrkSYBRwwfGAkaV8bpTHhNHzBqpuJZ+mzVZ7GSuDNbqHxNHSvMahYP5dfS1KeN\n",
              "myfwA1WvE2cjLoXnMOFBKi9gkoAefgxrp+w+boiyM+0s4SY2nUlElgUv5IREJDKsCejjgAg3tPQ6\n",
              "IsdlBILNoCIBJOlNmgzwFvP8GUz/R67X/3xl736Yj2EXQvHR87OhuD0G6Zr1XFigd4ZiCW5kngza\n",
              "2TActXBOEePNMYcBzK2kKs9M/6bUdUzYzEDatuSctE8s6NqtXXQ6oLv87VvW/+AsiNijXcDg4SSE\n",
              "XLhlh2RdOM/V/GTH96sEgNoCW+ZoHBiH26rD9272LKJ68RkFKjUGo3U6vIkUY3omWrxWtFIDDF0Z\n",
              "tIbwtWb7UzmkojghPbIyENhKeNOST2T0YKieysDLDxbb8J6zbAPgDq76nikZaBB7UEa9JFIjT4h2\n",
              "Epi1cF8eekW8NgjJLkc1cRJGye6dBNP6GyDIC6UP6bfT1Lh/CRpwAGfVo2UbsT0z7fBBMKucORwp\n",
              "gZRBmucL0XYp+swrp5OyviAUimrJBfGo7hKeHC3H3HetSi5yEjv+ZVYON0xkdHNgguveWVbbSpn7\n",
              "ANYJnzD3DFygA2AS3SCDu4Si8GoJJ2Nm/OH+62Y+MNGAplD09mG68gM/8XohwLeRlwiu43DSKpVZ\n",
              "4GxYzU84Ii16NJj6qiMfaKFk6OYCf0oz5l5k6jFOQxAL8WjV7ipFsxP7y9/Uhd5kasFZAUT9b3gQ\n",
              "RXxTo9ZuBfknxbnkM4wSSIEfulZY8LNfppTiWa72QMg+1j8sGLcYmZN5XsPcfQks+deticWaBa4I\n",
              "ZqXgHJn18PNZtFBE2Df6bn0M6IMVBSvUGOVI2ugqKO2CPFCKy4OAgCM8w9cG2+s7Q0U+hf4KHC/c\n",
              "vialC9m4Org8/wM7tokYhzC8qt/FupcREFylRanNeXf388YROC1oFvKZi394FiCvhBz9RfPKYmXQ\n",
              "rQun05PI/HeW4X/yo1tIZnYHKoSHkwFqvcOMQBzlcJPSeVLa3gMZG9PDyfZz+rcZhR1tlJZZ269r\n",
              "OeKBgawevGl4mD5/ksca6fb88KcgLMAfAbWzEN1k0IrJS6CJJ3k6jOg6ZLjKfB/TeHmeu3yGxIAz\n",
              "WSNoxRJ8j2KdaT11yDTlAihlBjaQHACCz+oa3IfsdtovZhxgjd7kAAZVAAADhgGehGpD/wArBOTX\n",
              "VgcQADSaea4WpCQYZkKPXojUGAinXezyrOhG0fOsAGfmM4jjSNVESP5auzJ4cXAJdDp2BInINl+F\n",
              "X5gOkImfmHM31LuuJLyW7ih37JNDSzn7DjxT0yuY4YEYba9sGM5hEaTLhdupi83ARDhpZ8Ox1tuM\n",
              "2sI4cTSlaK9m/VqKcEJ/BCcJnu1l8gxquZCFlQCxit4Le0sUGy3s+3t8oIDsCmyxwQoaonLIn/7/\n",
              "Msm+cghPfAFaAn5zEq1AkAYrxHETPn5gj0Nb2LAwnfSRXbSqY4C7jp7RZyuYBDPFmyjW9eTifjvA\n",
              "7EnOJcsppVpPD543z3d11ld4XWchIORMTalvQ2BHTD8i4eaulKoouv246uoKYggMs+WnZvjKlkIT\n",
              "oEb++5tqLVYziLb4ok/aaXTmyUDT8wtV8V5BXA7/8qStDvVCRLCnz8Vwv1Bq7NlTCYKwHnfCWa46\n",
              "zPWAICOHmWsKEmvNmap0piUsqD25HWKiJ2YfLKnmr/KSfIjqMpYFjJYTgIS+eXsSQvklhhUMy8X0\n",
              "A2jW5vnqqQF/MGcvYZbpqdZ0nfX1zwpEmRTUl6ykdCr0RHzV+rrCz4T5x1N8Z4XCQzJ542JNNZ8W\n",
              "K3u72SEJdKGvEObvrrOPzI9+4s0SrYxio43Yw/3RM9atCdRxXufkK98lT/7dyNaSWbeNuVzYDpfq\n",
              "UP+SMPQM7TV6kKFFB8Fxf1vqrsiaKWl2Cauzw+Nk7svVMomFnV5XWK8JxTbM7GG60dQQPlV7pnEn\n",
              "u9LLkISI4zqNnfvDH7ILAelr2f2Bvy3wM23+rPaA2Bin+OXkT4MgBxYVl0e8dq6IaIrBq6ge9G2U\n",
              "nYfJp/nRc4d7kAXckpm7axmohjyMaQzNtHXZ6admljdoi/LVfe67SLOjEp5afJ44obpHIevRxQrF\n",
              "Gl9u2V3DHT7HVpyp6ldg7WA5ysPfEi5sd96hF1EHxNifhs13KVA9ClJGDrrAfH7TA0o9ghTS4MLD\n",
              "ycAdjoXfTqbNydczehJWQaqFW1KRnjy6SG5rlGHwhC02WImGo0rra4EasJx44NHuc3gBENEAKqCc\n",
              "4xGbDxIkZnItlV+EdHzzMNiSS3Wc7JiCQ576woMFdUP/ADSUYIvRPTMSgsigiyXGOpxpVSad8Cs6\n",
              "VWHNxHaUzReYcuLYQlpFtJVhmqnUKTt3Q1eBmQ+RZ8igAAfNAAAJe0Gah0nhClJlMFLBP/61KoAP\n",
              "Qcy8/kkgADf7/0n6N2nTGm3c1/Ytcc2VunB9WrBtvGBym5OehnB5RJ64sVTDvvYAn29Fe58P9l1/\n",
              "+TMZTTX01eQtNqizXQXUOMi8R9FEiyt7Z8ADEhpB8joFNqCDVduhrJGJ0aWPf40XDLT+f5pMbxuN\n",
              "mCwLJ0h2VmqfUhfg0PHhkZOYc1/xIlYHNxHsXohyvBHhVfF1qVMuWLo0vy3idUgmPkgUHwG7Y04Q\n",
              "yYT71bRdhdofnMQJdkv3L9RT1uVQLmBURplT9X0v03I1ekqeWI3ObtP4cmzkXNeiRz/ezq2Oi9l0\n",
              "QgIaoNl5ZsmUhmDXow716TT/Rq6JGqEIiccbSZcEk7nLtO+XICE4HGnEAIzTdSHbTlo+hTMC4lfW\n",
              "yX6i0qUslt7m7svIIQdTic1sAV4V8aIVdtMaPokFbiiEN0CenSMnEPenqdT8xR4EoYltyPNLL3Dv\n",
              "xyXUHpmFgpGme20iwSUgGZyypHu43E9tmwup0/jzPOE0FmnBU+B8e5k9MjSFJjWsF+E/grgcvEAB\n",
              "IlsDyKBgZOyE5fyV4Fh+j3/DbPxyaiiliLNCdaYfls1skWDU6jSAr0+5jvhk7xg0bG070ScGRg2e\n",
              "P6PuxbHSb1e4E0+vC51EmlU0S0rKnk1QJts+czUwEjEDuEs9uI7/RObAcobbB7+dgOq+KnhAhT74\n",
              "oq86RCDhA6rWfyqLtb10QEwsJ4MQ9NFwCDA9JTVmM66g9pvIe/fCs68q659bgdq88Xwvrg6ryczi\n",
              "2g5VTr5PdkEwS0VP8yRugGT/1YVdj7qDqiQSvdyquwdbwOO2zmLFJ0Qqth/5aULxwJtEIiC4DYtz\n",
              "QVGpxoNMZwtd+DnKuSVHAGcLD+lglYBKSi+GSr870VhW06ihquO4ucOfvSLoSrIjY7OPzDqlNE7i\n",
              "rc3+JPL59/WRHHegAWW3HDcOF0dw8zZyHnthHfNLeCDWD++9/YHFI2Sb3rfzCnfhW1AmbOUspRv6\n",
              "5B+t89AntIGVf7I6jbe1uvOFCcoinuiV8mVFCEJ2LPRx6We0wOgGCJpdOpjDVpUGAiVcz/IOcEif\n",
              "hdL5y/+L6nmAidOhgAWGTdyhXWPcH1fGX6VFM5E7s2wlgsWpz0KDfAR/BkrFQlDvKAQtQVPaecsy\n",
              "WUVcfWH/GkQ1PetpcKA4HRajtdJmPXf+HsVcqDxx0AelDdnZVLDQ2buV/u0p3l2Ly0WvhGh2zux1\n",
              "/9ctPIC2x/fSwghNOOgPk5/qh+ioyrDHP/cushaKPHsXgJBa1euMh20Wb+t1njGKDl0EfiD4GomG\n",
              "HtqTIvUrrwz7QzjZQosNCC2noJUN27YhJSw/qv2V7LZvAaNfOzOahWk1KyNT0s/g5hBXr+jgKq4Q\n",
              "c0Q3ASsCE127AFPBTzaZKAMUab0trgAdDokwkgHTA3BAD4NZ4jK0sq1pvbaxE8fK/DY1r2NNy2QW\n",
              "kVGvWsKvUd0uZ2KGaGT2AnLwiF94h10WcCa1tQTr0IrO9ENV1gEw2zispD+eFa1G/ptxcsGgpYY4\n",
              "MFg8lO1v1d2o/jJd3UW51GrrKxrba47UPdg7p2vUZPjTsKKUcnxDSa4qOI9wtWd1VyadoaoayqON\n",
              "nCPfozjjwb1yXAluFVZJteCXk3Tvkw49GH6+6K2ouAMmKAUoerGSRVW1M35dP9DvFHFCzgGOLIyp\n",
              "SXLI/G1GKK8AtqBFQzhoj7P41BJoJe/PUw5x5tzmii7+szWrseIrXJOiDcTZGvflS1cSfzBebZcf\n",
              "uSR24wC1CD2LyKjRH7LPrQGcV0s58U60jpFhyAVZxgKBmWj8Q4yCH+WJJVo6C16kHfNGhDzCazpY\n",
              "P4oYj5e36SVU2sZycwmUAfoXPVAxItbFAjlyTWlPgDJzK6JmwVDOASjajthCoPqE8Ytu3siV84Ci\n",
              "pooEjA7YneEKWtTpiHFiUmblhXPtyWySgiMzUgW8ykKK88Kje7/zIlb4to6HyOTqJhjqqyhzyZ+Z\n",
              "mrOdoQcV6OnoYsfMKDg7ksSjaQNv9UiyknUwzqSmvogyk77g84znSNwEPpX6jSeC6oGwvV3jFXbU\n",
              "Jzl1URJQygNxFRbyZepGrA7JUQSJp4NTtf+D+QMaAONvpvQCr+IoitpTr+IPkVm+s36miw99RBpb\n",
              "DKhsca59VjWen6fWAeRhkKGK+H3rx69YawKeoKTM8mD03Ko4J36yXn5plsuj9VUtCL5+6F5g5JqA\n",
              "ssK/mWoVpFcrj3BhxU8u+X2GPSgl5JzemIz2ijEg2jiepw3EX3GkH8zRE/FAmekoDCPP8Vh/Bz8x\n",
              "a6k+rqYg/T/mvvmEXuy+ScD4cGKdLK5bhq2fsELzXc/fKZ4EhLv3kvyH3K/qPV5/LwBhmgyo+SPX\n",
              "6X4iPu3R4ovGfXB9dfIFXpbcmcz82VYlOGz38WEgKcsggwOMR+pjiSm9U/DYY2Gg1s5PfFYmVhXT\n",
              "83fSLmAwtaHa2D7ZkgHenQxckHRa5z72M8bhUiT4y6s3e17/Sub54Q07YlfjGdAVu5Q9YUb0hSxd\n",
              "h+nkzducNfgh0ekZdq7Zw/HhraNH5h0aAlymUukn60m7etUevSXUtzoV3joWdo1/Sp99hI0Etxcp\n",
              "K6EOp4w4HA4pg6X1oejfW4OVhOsFcv4g/oPEYDyUplncDbBTxuSxQo+wefLQ896YQ4Z9oUzQPYLj\n",
              "/dQWP1ah+tIc9xj4BvHu1oBMMag8HT2ClrkKsXH3hsVtnZNO8RWQKeyfxIpxBrZkeS8MbcX4+UsD\n",
              "2i+hWFDW+z/uJAUD41y20Ur6cBApqMnJnsdflXk3sQ2b1HAgdO1O2I3sSfYEbwdd9b2ENPY2Bkh9\n",
              "ZMFpF0yhNVfOn0xDu3dNDyOUbSVC9Oq7xFyxZnUO852XJrLywQNmz32pakO6hi6uN2HJt2wnsbZ2\n",
              "zESap8j1rI0XxdL19/GLo4Smu6MHbw5ze7Jl35fHnMG8F1ldOdWzn4St9eGxYHDEHxroRB30fOFN\n",
              "MnpjmLMlhWfTqo7AwZwuwCCtbE+ejlk74oSACGzNbyINkjNuwWoq4qwhBGxXTXFp2RthS7Iy9FM0\n",
              "HtQ0WYDr5LDUgkNuulLY2eypuxcTD9fcKGMiyDngkTonnW2aIK9Cm7Vl6jxbddnRQI1nuc1SR0jK\n",
              "gJ0vv+gojjk/4x2mJk/deAPYNnxS/fu9je2uiSDgsYerNpQAQ3MBo0/9Kv+lwPon2zEYmc7+p/TU\n",
              "xhGhBQRMHze8tKOBg36b6QAAAzQBnqZqQ/8AKwTlTm9YANjtqA3Uz51iSNDMRa6+SKaRZUje6fv1\n",
              "fL+YXCrk/RodmEYYGCFqXIdisGZV3axIn4pxtwpXWJprGATjoUM5x4Ha9a9535thkiTAp+LQs0At\n",
              "zWqwCwJGRXEocFWqE8dnNyTorlwxPSVyv+AeYpmPOL8FZ8yJd7zO1+Yia8p4Zrl0v8sNrTb46k/8\n",
              "bEOrhF3a/VQw8GtJf/O0Z2DCojSI4kp+RZRJnoqoLj1dIKEu9SZma1k14MzikMNEJg4FuZ0KWLPE\n",
              "lQydcm/0BeHFLY5+jPLdypIyggc0/Fk4+eoqX/JylG1fDetRtksmaLHS6Im+zFneQOViKtr+Eoxg\n",
              "jWayVLjo/pWVU5E1R8IMR8mbuQnVtuNCvOnyN3tmLDu5Zg5A2J0Pga6CLivU5FoRD9CIqEQFeiyZ\n",
              "TKHtjKTGm2H472o27EXi2DuwdwHvY1wUoo+BYnZX7qpp1eNMZjplCbyfKHg6M//eBa39btw4zPRx\n",
              "tPUPX1/K5gI51EXh2fY3iW8YlJXp6TuPApsgwIL/RTGCB1biIXptK70v2Qzd5yAJEK8SqieAILPy\n",
              "yZtKiP3Vs1t76NvJzfzEG8O7KRI2iM2ofP9NNGe5Mg5haAIvSaXWz0qfquUE0FsPYevg3rMHUXHx\n",
              "dJoBOcZd1nssKonMdrgBZU+/ko0P//1H9TNgwFdjpiXbR/OGUph3Fhz+3Ox/Gmmn0xwjk1sfoc2U\n",
              "2aQnUg3jm0cCpG2CYQlSJHc2Xt+Fn43bpDpig5yDCYJKbAaoF9inWA2X9DNdOyPY3WoCG188B/cI\n",
              "cYsMTPDSv3xUOHh8uu2pCfMyTwRpRrat3hS/5R7LSQugWqopXChT2JPLgMLWITLGYFYegRXMO08n\n",
              "o4kOuG/EDj70Es2GgHFuB/5KvnDUnhGrnaYP7jVW46PBEd80QhsOyo8qXyx+M9SEe7xFlfC7y0KC\n",
              "+tjPNQ3BoMdN8+jZncnTI/YeXd7SwctAFaQ1e54HVAVVTOtl8e/KWQUkrZcakbVl8jEXenYTNDl0\n",
              "powIGcVXFiCqdSiOhw5BozoMUEuiBs95VAMdeeDwFub+U9S1hMUgwAr5AAAIoEGaq0nhDomUwIJ/\n",
              "/rUqgA9SYkVIAAxpkgstoqpm8n6A66icWRzCDDKaR6PWC0SP3dkWQd4SFAZt9kIkXCXm176DRsAu\n",
              "RKEcuNfbTplxfXB3MLbnYW6Ccs36HNVzEPhCLRizzw9dkYaj0am/5aEobedSyPwHvI8b4ZAc7CMh\n",
              "0n/hrvKZ2U+Iy2cZ4WwA8M5he/w515tsqR3lQingW3Z5fHse63VQhY6wRU7F6RJ6aGGtVcKhREkv\n",
              "UPY0Gr8lZwYMjtwDXALaVSEbq0o9TlWcwsgvp95zY0sDQFf5ASnMWO7Rfpimz87ooQcrvoGNHcLc\n",
              "ebdgDypIIdA0tABYTyJWzAOurXIOvmtx1MP24tUCSdSJALHEV9dKq4GVWfX0Nd/9CPE1gRqCxBsj\n",
              "jPevsx2GivqrjNvcrPbCxhgPm4At5WzzhqSWdK/6WYJ5tzTRox03iR5OKvg+PpaDe1SlQP7RJWUi\n",
              "HPm33QYWPIfo1Ufa28yr8AtPIjlE8ZigR1SZ9dbb9qWqX2r2fTT3Q5eCCKUiDTdcUGWux7f++dsW\n",
              "kNkQqCEESMSIjcp01gs2y5XmhPyufBiUthZ5j/LGD3hfIsJtxGatbU9BN5qLA8NfyMJBx7S+B9ar\n",
              "uXD6Vxwc8jCnq9Iesc213d3+JBabhvOBuqO/xZDUDRIf9oVKy2RuzwD3hQkk/bpILYP+Sevm7zpC\n",
              "MahliX0t3eP1dWQnPc8PayCucaanP+TIE1f76zN2PEC/bqcDFi+J/kmbGdpv+D2I4UpxTabx//EV\n",
              "iKTR++a4V9MUdb/+0B2PJZjwvCe7sznxW+8W7fE6WiLNeUF3edm7WUKt7fCDL6ZIXCwi4AAi5EsW\n",
              "ca+hb4kJ8nwUnmXXn/P8UkCJba6YVnv25XjzvZ21APmHaxpOnKvPHvX8YaUyDTO1TuRVd5mbqDSb\n",
              "HsYiZvWZU1/jCqieENJKZ8vutOMo+WX1402URzHe3uskKXS0zoCvezib25njvMxei722h7v76t16\n",
              "/0S4uHRow/1H0dMl64JD2Rh9fys5OC9WPjEIubLzqOFSYUDIKJBLBruEN7z6GZOHBWFbUPUbsDhM\n",
              "mWGHXmWlmWCI6r4wz1t5zC6FwkeULnfYVyLtSWwrYp8fdV4VX3tu3UIp72umWZqe1BVRpLVbvvZv\n",
              "9J1AIGbgmQnKtkR6v8AzC4vni88s/vHA/zF2EZXLZdVJzCxe2EH5HnW2Gz2v7gZxpJRDutSXkS9Y\n",
              "NeQRvl0VpgcdZNbYnGrIWQTeQAuOf/rdE2Bh/ToY/SKyQpO5SYiqP57mQhAh+/qRcxsidv34JpuZ\n",
              "BkrkGiNES2e8y0v5Ht4AMa/euKZ/iMOHlZCyNL/jn4dYgn5ADhQMQWRZRK7JeDlhwj8sK9aLoVjR\n",
              "kVyZUdMru2bp3uIW/xIxMJENExDN+nAwrNS4HJrHlGrr2GKiWjsTrQ1cdXSWYUzD/C34CYAYoLd4\n",
              "U+6QkvmAerN8012o1St8aaI+/EsQ6svU2j08KeK6pQxzgofEA8U5IqAvdaD4WoCwZm/t7zAyL+nk\n",
              "6JmwzKYvpK8g7jKyHSCyAu/X2obHQcEbjPP+nQ3c2yGSwBJqLKMoBBc6uu/Okt4yJSnSGtSXNiat\n",
              "Iic5CXl3aO8/a5g7phJDWTeX/hvMVFknEuPEd6Ewjgs5jEMYL1VNz4vsP9XGBSvtCvCQgu562Lmp\n",
              "ZH1+CRAZAgeM/vVjBNg79VkqHvUmzqo9dNw8fG1fwXaAD8tppwpcgWciJdqGDdNXlB9QiVsvZNF2\n",
              "V3L42UQ5KPZbzks37SKhh60HHqeD4G1aRtmrHSosBlDMH3RQIt45km1wrEQLALyHcSLjOiJgsvWs\n",
              "Np3Iu7p6BqSc1udyna7fWZrJbv67/stvHMP5EdZlJyQWkllZ9Ozn3ozIbFqGRksReNF6IPOT5sW/\n",
              "cT7ESGsKsDJLX0nNRyokOsUGuF1xOBnlqusm14tOIpXISRzIIisn20WyiLqEnzjmcmxYUQn5oOCF\n",
              "bT6DndyNzgfiPDJwk/wtYAxrzWAAZnhXPIoKHSMIkJkP9WX0plwYXx60D71xy3fksBwaJcn4bqTL\n",
              "EQAqQHwxJpRqa/8DWHV6FSl7gLuxMRG8ipOnJ/khjAaAtpJTVww+agzJFQspUsPVlJpzR2hJACpD\n",
              "PApUQAWdsLVLc8GRBYDa89I6plRyo+GhE8RfItnU9OgBXlSJ5Ru4zvq33dGfaTPwpkmy8Y6qyqTj\n",
              "N8uekPDI6E1KWQVKfl5FFFQSpzn7o3vQxKwKXvxQ5fW/O5RUArZuWptCVK6omN0J9zKzb3FETj1f\n",
              "tXzomn2B0VbqGKOXIz+5OwQ82vIw6jX7eODUcWjZ1riErkdqZwhAvpUUDBMC0N0gRB5RAgzWIFg+\n",
              "ILnp6nJ28b+OmkXfmeqyNTjXsX1iAqlwfxKzjTdTQDfT/oRUfvj/LWHpJ/3btWQhsoIkLLJx0Vq9\n",
              "udhriaFwsFpx+WQaTDSPyt04n9n5LpqQY5BIG9m8cXuOIBcg4d7gCVXVsiXYcUX18OU47VGuszro\n",
              "JXTnlFYgiyF8cGoIzw6ZQZ3Bmeob3SUfw5uon6EGDNeEw6olmCPTFnxM0Q99N+NDKNbEKynkWhez\n",
              "/Xl9XbkSl1SB0UuWfmQfbvOjuTsCcK8VqlRxVbn9hb+5bUJxa9JBF5M78OrLFypJB4k4Tf6e3752\n",
              "HZ8TiRrqPD7HQT1i7SWoP7jua0uzfPicaTXRk9xYcSw69pQoDme+v4vCsmiOBlhImzozKEPeVryt\n",
              "Np6gxnE16s6m8TIvfQjphDaXgSjDFAIYDI53zQktgaKoEz6AiSrARE7obFV7jox+CHC1feU3KYvG\n",
              "1VO3FKU3mmnRXvPzq40nDKUecffYNM3uN2FBHlp74NT0+DspJjFk2AtHBzBKKZXkfjyUTftkK+8N\n",
              "SbwFcyhwDIjXy9FllfgyvToYe7rxYe81w5m7SAAwIAAAAulBnslFFTwQ/wATGZv//ulYIgGABMys\n",
              "pWbdMpxBfZgSflJ/ch5M4aPsWxRJWkxCbGTZ1emihKyPOp8inbRQJ4UJMEWVBg15n6VeFnEipoyq\n",
              "Vs8Bsbjvubihquy2U3x62XeAAUkkMzGYa5nyDzPgilWrtlGFXp1vxOZGPz9CLAc2zwqnaRq6YaWn\n",
              "XKdhzvpTO2MKfXXcTLQC5Y07GBoMx950WSRNW4o7QcNOpSVMWnNetH3tFTZVBPRsHvkW0teaki0Z\n",
              "EbRJuHBwdWSITBtqeP0C+cCHJZqefyZOkKpLskaF17aWlfxjjMWmg6pQPNvF9Qf0Dh+4iSRrOzKu\n",
              "qqR8AH+SYToq8K7SRJDHIeJEI+bcriDXqZ4vPkyf23aLRJRk79DD5Ytpl1EmUD2O6lvMZnKPg5Jd\n",
              "D6mcLmGD3yUU89jmXXBQfPbvPlqLCNUDJ+J8gkwpNSKiImcHODIH7Pa1BAY1TJSJUNdaMXtWrLNo\n",
              "FRx9jg2rPXpMuGSWUza+358h/ApQTl6JEcou0FKJ5Ix+2MxVFAcuJT5KD5A0LlmUXTqywSTOwzc7\n",
              "lkckxlviwPf+Sz+zFqHkAppMpaRmv9+fxSLIlY/PbB31FaIyvjEfksvGyMrCaxZUUzTSyTxJM+sc\n",
              "0GyICQIH489MtwiJ/dAHtp2NWWtJajSmAEw9HRQ6joHGNoKlzl2uvyCUNZ7nAEkrfTVWYLKFbVvD\n",
              "Tx+0TyD+0qPJ+n0gbuUmwZzaHBmA4GKRZf+x3Oc6lQ1VEMo732jRwnpMKgJIBGjfE26V6gG3+A7l\n",
              "9m3gKoRqYr+uwYdUI0G92a5PHF9D71+4XPSqm93NnksPVBybwDO57HZVcANuix2E5WaL0IOLl4qg\n",
              "sHmT1NFxiRFOm1zc00BgsnTJz1TVnGoGFq4Rs6esK+6QNz49nS4/qNwT8yxYwhFRuNNyP25WonTb\n",
              "jbqyWRIzWvxqe1XtELTujrBDigTvIe8VF7SXd95SYZLc/mLtgAJmAAAClAGe6HRD/wNtoETT48x/\n",
              "siADZSVLpL/zDZ6WFEi2PZr7j5Yq/aKgSzJtIB06WZBvV3jFkSU/VL1CcNacaLr/DixOERsUMUWU\n",
              "OPJl3PT22k6iEHKRsHxmduvo8oEbaf9OE3TE+KZ6uyyGoaqcwjGExalnqHMagqBCa8+L0zvm1eX6\n",
              "Ll8ouo2JfQdmJImopNsDm5NVLHIv46PKI4fOJJVXvT/YYuK2NvmeLpCMqXd5FqrkZQEi9QwXr04n\n",
              "mgWoxm6pp/1p6oyvw7v0Ql5yBbk39cgquh5CSV5hfx02pMuHGM5ckmL+4lLpsGcAgw5367t+JZJI\n",
              "XVoTAGokL+bxf930zzXsn7O0Lk7gWCIUg8NT7GGDW/5dwzRvw9vTCyk9Gf0PwD0SZ3gIwNjrcrCC\n",
              "Ydq+p0E5GvQv/9SybqWwcFlVJbsqnN61tcXk3DEuX44sjCdrHDyaH4U3/LxOMroA5e/Ofmt2Nuqt\n",
              "tBx2RoX6NKHo8y5icttum7pnsKZHvIFdkOlGGt+uDy7YWrrW2kMxfgLBNxqqTz3rXQTofNhh/Ncs\n",
              "Mv5vBGVsaBKCfK0qW3OajSieTv17fJHSvvyr+ueZYTMGB4BirH8o/n7mJRhP8bo6+9z7+4Wg5YGO\n",
              "k3euHXIXzxYqovNO766NccO/yb+RPvAk1E//IpMujb6HrONsHjDmobxM5ZoETZK+5LNLkdxCQ6bb\n",
              "geKLTXhaUjZ8pevV13HkFHdvuzWrb1msCcgzFlOL2R+7arG75pFET54cxTXoS23XnuZEMNvHe0If\n",
              "KKBSImffa3zkc0HTEgd2g7FCvVeV88UurRGC2PQV1SoEn8pf0PUINOFFFc2NnY5Y5PJCrPJmJUp8\n",
              "ZlhjIoJqx/3N9p6OQ3JXYQAMWQAAAfwBnupqQ/8Daxx1I58V8gA2UWX0wxqsF7UcI0tosDETjmlC\n",
              "zgKshn0OjxJdDsBuA8ZAxfLhhK/8h2wuMHlShXuflxtBk8bdeiYRq43U+T2bH3jqv59lGkiYGFCv\n",
              "Kow4Q1cWkFk0bCM5sM7AVyn4cJycvjkGZT29N/2184o+pP4YbFD9Ci6OU1V8kvoyIus9b7B8UDLn\n",
              "F0AQJ81f20CLr02ICBY9mlEWHFde5ksEoXPj4Lz62BnXaf1Ef2bKH5UfLa9vJrIaHiK9oIBM8rJZ\n",
              "McCRohF6cPpO9Vb9swDul9qDKhik5vgrbAtg0hpRz2x/lglhkuT9EqYLU09lzXz5ZhWhV7407fir\n",
              "A9Y1L/a7xZ2XJlghG1RxoXrnRBhQEBDpznxEXMmywHWvZs5tQbUIS8vl76UAuHnFGh4krE6bFlwI\n",
              "//Bcm5dUR+m//JcOhPOlAae8MYk4H/PDsqlCXjdPfM6bWV+RGKSJ5n/c5jTzxebzxSA2ORkCV+NH\n",
              "gfX9OwTTTMQnrriZItMq8QaVjJO52kboKXm0SrIHH26Ub+/TH1CUxKZTcPhf4P1dkCBgr2qBO0M1\n",
              "tXYreYfK5z1//Sjhohu7iFuER9N9Pr2RiYsyg9suftYSM4IJp8GrgFZY2Ff5cHSz83GpNgbsifdy\n",
              "ZISX3rtpZYEWJ5/JMB6oAAYEAAACmkGa70moQWiZTAgl//61KoAPVuwqqrABQD3sjtwRishP2ToK\n",
              "A/Q30tgL7IEJmy1f5q0XhLQFEA5ROvC8NXkGswXRI2CSo6seIHRu1mSK+kd9LLJX8IsJYgTw3Zng\n",
              "iGuPAyJQClzItuZMV3d/L/oeaSBCpxnEKMteCwvP/ONZPxpxftz/88PghsASL8N1VPVBdBN70W4i\n",
              "kmxi0B2MtUP7TfIeMMt9SW/UB7WwLh9WE1eXdu9szxz8kZKkyZdKt7Do2J2CglIs+y8/m/TW+9O9\n",
              "EAfIrjPjxIgofVtShyoVnZpYzd+G2zfGgkgLj+gxG7YP0THSqPQkyi++V3lgr6DWmOvDO/iuTb3P\n",
              "H7Y2xCULUr7ASBOEDRt4kDWKZrfGXi+f+qsoeqkZvPolfv2FmKxjQjl/JHJrsjVaPT4s16Fsv4AE\n",
              "kQlrEhsQU7t0SPUY+70tnf4S6One4L2JdzWLcvKxaF7sqtNasqAudbAaQkt3xzJq8t9/567BnPoN\n",
              "Ys3YtY00/qoVNag/UGfHqyWKOgoS5xgUflms+oNIOmP6S+sNMNsxxC4pyqNuE+FcYAs/hXTeCnQN\n",
              "7Lw+/CXepmptYvKxlxyCNaRPOp9gPDdTW5xiitKN7phYQ3o4TdpFxHeSxwaYXFuNwOvMz5NzZv1O\n",
              "ZiWbv7ns8dAafX+3SCRr0mXd4Y8RmKfK6/Rk3JmiY+lMC8GhadNWUkikJlLfcN28ZI2uEwG3/oNM\n",
              "Be8gxlkuKLCmnpH21DowWAAWA7FxHktyb1PmAf/7N+rQCQqlfKLG62y0NacOjdaJZhLA9WN4Mu/k\n",
              "BZ2Z0i0uhkRR3zqazw7jpqPprD488YijQnu47HFPRItYEcz/zizHqi5JnVA6eLvGtFl2GvNLXGko\n",
              "xwAekAAAAXZBnw1FESwQ/wATHrEkwATRuhvq+dPV3TsLXOPscAYGo96ODNDXCcPAbuco+l9IHGU0\n",
              "RRX3Uq4EOtc1GMR7DLLqAWpT1W0MYVA+3KuFgRhzb5rh3MsvQcuR4UNbN56SMw+FJIYTbW/PCTFa\n",
              "BauQy/JaN4Rzuj+5Pvk8Wai/TnsOa428qRwRpJO5M03wYFz9r6usO+FvkCwXI298VHAWQxOqNZAQ\n",
              "ncRSCbkYJuwujKf2Gsx7CTpjPkhGIYIIuvszCnjS3xr2ytkfHtaMrbw7j9gqgwDsw+RfUdCybQgE\n",
              "jUX2dq/tw200W8WJNTM8SfbavXYg/gLRVCgLBcGauvT9Ndc3hSZuF7tweABJAHjc57cMstwzmlGF\n",
              "A4scxmhTkUd434LKhgev2c7fif049Kx650n2r2k3+6Ko4jgYlfUewcHrD1eN5Goj2U5d1IqWN+p4\n",
              "6/fWAJs6+QP4/3wfzQXhrohUq4Kz/E9JwYdS6J1z201Gu/GwZIADewAAAYIBnyx0Q/8AKwLOqqEz\n",
              "5D9gA1bEwo0/wE6WDSuBwif/4NB9WxOahgjb2g7yD1PEFk4okGKeO5a1BgNf+jfwTawCFtpu8RZe\n",
              "uZEXpjYxJBeQyaHttO0VwFmX08IYLWVCD0KVfZCkA6U3ez44PvvJb1xAfXkE95aHRfF5zP5n62kr\n",
              "B7Jnb6VVHl+0O2A95JQRUKmUDKLTNrcuHO0TGB6bT9/r6/Vtjqk0++RsmaBxek46ZJX+siSKNCD3\n",
              "l1eS48QiPGn/ZMLV16H6Y+bTvoA6ousYXWN1qCNwqjXw/Bc/5BuhiXCmrnRmwbkdzVUT+rugkqx0\n",
              "AIlI18q+gBwA+GktVDjmevec1f2mOjosC1vwd9rwE7Gw5TWfoyab8SG+T/oVXXlGvVnqzGdYvcOf\n",
              "CVU6Bg4LbaipF3nznSE1zW7RGfXQg7ZDxNvj876Vtb/nGcSU57FkPRs+7rxoTjvzaQsyVfG0QES6\n",
              "x3xXecW9xp9vLWkQYU/hmU0fjQGupsXMp0qKi2BWwQAAARABny5qQ/8AKwTb8QnTw0AA0q0qgSfU\n",
              "qyEy8o3mXZZnTLwBJNnMMQqGT4L4AhS+yoSyLz2X+SoC04XDlodwu8GHEOmq6OwTOwLuZ+cX/mnO\n",
              "qWOV8ltAgUfZikqte7TCoosZMVnN4u2kuVqNqXoR0JIg809biUlhZECiu1MFcn6FZ2TpuZuUg1el\n",
              "DZhO0l9A/Fxb1WpkW160xgdivB4CI8W0NH796gWiT56iQRBKcBg0E1Xoj/vG7waGbpTjimfIhC0E\n",
              "+Kv8kefxzQfvw187XoNu2fwqspFuL7tbpilI6rg3QGuTvY/BtKklpNzzg9FeC5ZDu5wEemGRl+/2\n",
              "O46UJnMjl0DS9hvad664TpebowDugQAAAcJBmzNJqEFsmUwIf//+qZYAdz4UOC7q0AGbbALOobzS\n",
              "Vrom2tULkrzftYNutSHZzH1Aw47YROX9RPc/1Y2sSFSwxmtVJLFH/snFhk4PRAAkFHsNL4y6rKbS\n",
              "q7+VaWsx4NSlcvV4p11wIdJ3SPKNrAbpzM/+7wjmuxFgJ7XGFCuyT84xXiTxG5DGt9ewdwJj3A2a\n",
              "oMGVdAjTmLay7BzW2EZ+phlkTEfQbr7qtyLkic8C4qxf/u2xEwnsIt/d+NPnZ4LQI5WnatMni3DH\n",
              "sYJkMWf5Y3CWX1fmFyICtoplrSt+reVptBxZ0LQj5g4fHNjQlRbKTVfITrMsP6CDtj2pryg6Kh7O\n",
              "jqWVVqqOapKxrvhLlavTD9cXT1MPIbGDbL/zF12SZ40ExNM6aP0iXoZTXAdI4D8qsEyUokk0Mk6Z\n",
              "PLaU2XjAdhZSQwz8ZKTkna0ulJPxk3WaEr08+Hg4zL1zRaCjz1ZhdOSEoJ1clOP2w2DVENPxrStq\n",
              "M6OEZ81ueyQeg71HcDzppvGVLIrzpPr3e45mPmM+mEOoH97HEt5DnL6H1t8cBJF1yqKHplm1SIi3\n",
              "UQYRrVe4qZovUgFAifSAq4hlpAYAAAIsQZ9RRRUsEP8AEz9HUlSdQAd0RQdRhXytLWzEJJJbcaXs\n",
              "67p3ICj8leACUK6g1p/REwoNhM2gYNwuqvlxAaV8WOzbrTvzSG4GZz9amSHAo+J4LfqT0pOEgCiE\n",
              "RULBOFnQWPz150p6ibXBdRsP7uqeu6ispHN+hBt77IMDnH+/t8ze4jJwExLfIFWnkIdKqSABzrUA\n",
              "Ug6T3VplT1gkqKlcT0IUv6d0qBE7XcVwwzBjFlcssFVkiqPqkU+WNSi8hrUQXoSccOixAm6m8m3o\n",
              "QI3+MH0+AdVhDy14gFGWKoLGmU23d58MqNq1u6KksjmuDqXe4j9ShmDDCohqYbdxJaZta9HhGLwC\n",
              "BfqLA51jLHueCWhhVLvmRq83QT3H2PNWtB/FMF6Xld2jx7orw1a+eXFQiYNp1227AdVFqGxYGiEi\n",
              "NaKbxFKb9EEJR/ezyg9Jmt6Gtud2UutCrniWEpBGxy4ZAw7je0niEs4dp9blBHpQbzfxObp8QTJe\n",
              "pT1/13LYftIe7Sff/40UEF/PqgeKWEzmXkOy32Drn/efmySu0SKHSsqQ/HK1D1Zi3CWSwZwh5K0u\n",
              "FBfZpQII3+mTQ6vm5IwM9/yekubYTU638Njlq8eoBY35PSNLExn3025h7jrrW7kFdK3MytGHEVe6\n",
              "SNxGbg5lnQ1zSXC0yH6PJaBcs5h4FMb0bFFCvWWAGtkP1lu3tOvHXyAjtasEThb5TMwBJoaIUNZt\n",
              "UnwR2mqpKAAyoAAAAQIBn3B0Q/8AKvM0niDsAGyiy+mF1H5flJGwGUVSXr64Hh09MYdiAgmc/CJQ\n",
              "FbZE8rVmQr6EJDJxAUP8jlRTh+DeJ7XcxSreMlgTdZfe9UBU3qyKxjbqr6YTXpR/LezzNin4YxYJ\n",
              "RgUOTm+QYRfGcQY9wLXN64S3Kza6qcqYjv0zg0aFFWyWxO/huFwyhe1TkjAzZN6FE1cOZA7Ek21M\n",
              "X8mkct/B/DrTixfoU45uMHkUm+KRxfSiykIm8oAzHKVvE9mFwD4nEJ+yfkpXNYgr0iB0mfExJVwE\n",
              "a3m+TuOgnGYXGMj4RgksLtmx4HIW1/31hDlw4MqIOxgGC9COLih9f4AA6YEAAADTAZ9yakP/ACsE\n",
              "3pTCXC9ABDihKrEM2/76i/r1xxtcPsRGIuuJxCmZ19Az6D/74Bo5AE2/hq/DvB8gazOYZ1Xz3O1p\n",
              "szg+s5eKLgMcxkGPtUa6PQH8ILkvkj43frV/8hlyB3IyKJ5WksNVMcNpkNqdV8uCrSCkMdTJKouM\n",
              "ANNO2hAadZP+a7aIjvEYGNg33kyJsJV8OtStOEWy1LNM78Nw8iEHNC6jhIlBLNEUWmDJlMl1xuxG\n",
              "2A5/X2yGxuC91C29R34pDEs6smMUkK7m7fNIwYAH+AAABBdtb292AAAAbG12aGQAAAAAAAAAAAAA\n",
              "AAAAAAPoAAAPoAABAAABAAAAAAAAAAAAAAAAAQAAAAAAAAAAAAAAAAAAAAEAAAAAAAAAAAAAAAAA\n",
              "AEAAAAAAAAAAAAAAAAAAAAAAAAAAAAAAAAAAAAAAAAACAAADQXRyYWsAAABcdGtoZAAAAAMAAAAA\n",
              "AAAAAAAAAAEAAAAAAAAPoAAAAAAAAAAAAAAAAAAAAAAAAQAAAAAAAAAAAAAAAAAAAAEAAAAAAAAA\n",
              "AAAAAAAAAEAAAAAD8AAAAWgAAAAAACRlZHRzAAAAHGVsc3QAAAAAAAAAAQAAD6AAABAAAAEAAAAA\n",
              "ArltZGlhAAAAIG1kaGQAAAAAAAAAAAAAAAAAACgAAACgAFXEAAAAAAAtaGRscgAAAAAAAAAAdmlk\n",
              "ZQAAAAAAAAAAAAAAAFZpZGVvSGFuZGxlcgAAAAJkbWluZgAAABR2bWhkAAAAAQAAAAAAAAAAAAAA\n",
              "JGRpbmYAAAAcZHJlZgAAAAAAAAABAAAADHVybCAAAAABAAACJHN0YmwAAAC0c3RzZAAAAAAAAAAB\n",
              "AAAApGF2YzEAAAAAAAAAAQAAAAAAAAAAAAAAAAAAAAAD8AFoAEgAAABIAAAAAAAAAAEAAAAAAAAA\n",
              "AAAAAAAAAAAAAAAAAAAAAAAAAAAAAAAAAAAY//8AAAAyYXZjQwFkABb/4QAZZ2QAFqzZQPwv+WEA\n",
              "AAMAAQAAAwAKDxYtlgEABmjr48siwAAAABx1dWlka2hA8l8kT8W6OaUbzwMj8wAAAAAAAAAYc3R0\n",
              "cwAAAAAAAAABAAAAFAAACAAAAAAUc3RzcwAAAAAAAAABAAAAAQAAAKhjdHRzAAAAAAAAABMAAAAB\n",
              "AAAQAAAAAAEAACAAAAAAAgAACAAAAAABAAAYAAAAAAEAAAgAAAAAAQAAGAAAAAABAAAIAAAAAAEA\n",
              "ACgAAAAAAQAAEAAAAAABAAAAAAAAAAEAAAgAAAAAAQAAKAAAAAABAAAQAAAAAAEAAAAAAAAAAQAA\n",
              "CAAAAAABAAAoAAAAAAEAABAAAAAAAQAAAAAAAAABAAAIAAAAABxzdHNjAAAAAAAAAAEAAAABAAAA\n",
              "FAAAAAEAAABkc3RzegAAAAAAAAAAAAAAFAAASAIAABZYAAAK3AAACT8AAAqrAAADigAACX8AAAM4\n",
              "AAAIpAAAAu0AAAKYAAACAAAAAp4AAAF6AAABhgAAARQAAAHGAAACMAAAAQYAAADXAAAAFHN0Y28A\n",
              "AAAAAAAAAQAAACwAAABidWR0YQAAAFptZXRhAAAAAAAAACFoZGxyAAAAAAAAAABtZGlyYXBwbAAA\n",
              "AAAAAAAAAAAAAC1pbHN0AAAAJal0b28AAAAdZGF0YQAAAAEAAAAATGF2ZjU3LjgzLjEwMA==\n",
              "\">\n",
              "  Your browser does not support the video tag.\n",
              "</video>"
            ]
          },
          "metadata": {}
        }
      ],
      "source": [
        "# @title Animation (Run Me!)\n",
        "\n",
        "set_seed(seed=SEED)\n",
        "# Create a figure and axes\n",
        "fig = plt.figure(figsize=(14, 5))\n",
        "ax1 = plt.subplot(121)\n",
        "ax2 = plt.subplot(122)\n",
        "# Organizing subplots\n",
        "plot1, = ax1.plot([],[])\n",
        "plot2 = ax2.bar([], [])\n",
        "\n",
        "\n",
        "def frame(i):\n",
        "  \"\"\"\n",
        "  Load animation frame\n",
        "\n",
        "  Args:\n",
        "    i: int\n",
        "      Epoch number\n",
        "\n",
        "  Returns:\n",
        "    plot1: function\n",
        "      Subplot of test-data vs running predictions\n",
        "    plot2: function\n",
        "      Subplot of test-data vs running predictions\n",
        "  \"\"\"\n",
        "  ax1.clear()\n",
        "  title1 = ax1.set_title('')\n",
        "  ax1.set_xlabel(\"Input(x)\")\n",
        "  ax1.set_ylabel(\"Output(y)\")\n",
        "\n",
        "  ax2.clear()\n",
        "  ax2.set_xlabel('Layer names')\n",
        "  ax2.set_ylabel('Frobenius norm')\n",
        "  title2 = ax2.set_title('Weight Measurement: Forbenius Norm')\n",
        "\n",
        "  ax1.scatter(X.numpy(),Y.numpy())\n",
        "  plot1 = ax1.plot(X_test[:,0,:].detach().numpy(),\n",
        "                   running_predictions[:,i])\n",
        "  title1.set_text(f'Epochs: {i * 500}')\n",
        "  plot2 = ax2.bar(label, norm_per_layer[i*500])\n",
        "  plt.axhline(y=model_norm[i*500], linewidth=1,\n",
        "              color='r', ls='--',\n",
        "              label=f'Norm: {model_norm[i*500]:.2f}')\n",
        "  plt.legend()\n",
        "\n",
        "  return plot1, plot2\n",
        "\n",
        "\n",
        "anim = animation.FuncAnimation(fig, frame, frames=range(20),\n",
        "                               blit=False, repeat=False,\n",
        "                               repeat_delay=10000)\n",
        "html_anim = HTML(anim.to_html5_video())\n",
        "plt.close()\n",
        "\n",
        "import IPython\n",
        "IPython.display.display(html_anim)"
      ]
    },
    {
      "cell_type": "code",
      "execution_count": 23,
      "metadata": {
        "cellView": "form",
        "execution": {},
        "id": "Z-tt-wyTCbgw",
        "outputId": "d4ebc4b8-fe79-4d7a-db09-db9e016fbeed",
        "colab": {
          "base_uri": "https://localhost:8080/",
          "height": 430
        }
      },
      "outputs": [
        {
          "output_type": "display_data",
          "data": {
            "text/plain": [
              "<Figure size 576x432 with 1 Axes>"
            ],
            "image/png": "[encoded data removed]"
          },
          "metadata": {
            "image/png": {
              "width": 558,
              "height": 413
            },
            "needs_background": "light"
          }
        }
      ],
      "source": [
        "# @title Plot the train and test losses\n",
        "plt.figure(figsize=(8, 6))\n",
        "plt.plot(train_loss,label='train_loss')\n",
        "plt.plot(test_loss,label='test_loss')\n",
        "plt.ylabel('loss')\n",
        "plt.xlabel('epochs')\n",
        "plt.title('loss vs epoch')\n",
        "plt.legend()\n",
        "plt.show()"
      ]
    },
    {
      "cell_type": "markdown",
      "metadata": {
        "execution": {},
        "id": "EOZ-5hIOCbgx"
      },
      "source": [
        "### Think! 2.1: Interpreting losses\n",
        "\n",
        "Regarding the train and test graph above, discuss among yourselves:\n",
        "\n",
        "*   What trend do you see with respect to train and test losses (Where do you see the minimum of these losses?)\n",
        "*   What does it tell us about the model we trained?"
      ]
    },
    {
      "cell_type": "code",
      "execution_count": null,
      "metadata": {
        "cellView": "form",
        "execution": {},
        "id": "Nj74NtEaCbgx"
      },
      "outputs": [],
      "source": [
        "# @title Student Response\n",
        "from ipywidgets import widgets\n",
        "\n",
        "\n",
        "text=widgets.Textarea(\n",
        "   value='Type your answer here and click on `Submit!`',\n",
        "   placeholder='Type something',\n",
        "   description='',\n",
        "   disabled=False\n",
        ")\n",
        "\n",
        "button = widgets.Button(description=\"Submit!\")\n",
        "\n",
        "display(text,button)\n",
        "\n",
        "def on_button_clicked(b):\n",
        "   atform.add_answer('q1', text.value)\n",
        "   print(\"Submission successful!\")\n",
        "\n",
        "\n",
        "button.on_click(on_button_clicked)"
      ]
    },
    {
      "cell_type": "markdown",
      "metadata": {
        "execution": {},
        "id": "zzDKQpEtCbgy"
      },
      "source": [
        "[*Click for solution*](https://github.com/NeuromatchAcademy/course-content-dl/tree/main//tutorials/W2D1_Regularization/solutions/W2D1_Tutorial1_Solution_d9ff50a5.py)\n",
        "\n"
      ]
    },
    {
      "cell_type": "markdown",
      "metadata": {
        "execution": {},
        "id": "RmHn3Em4Cbgz"
      },
      "source": [
        "Now let's visualize the Frobenious norm of the model as we trained. You should see that the value of weights increases over the epochs."
      ]
    },
    {
      "cell_type": "code",
      "execution_count": 24,
      "metadata": {
        "cellView": "form",
        "execution": {},
        "id": "L3oqesXtCbgz",
        "outputId": "287c8ae2-260b-4866-e8e4-740839b778a9",
        "colab": {
          "base_uri": "https://localhost:8080/",
          "height": 430
        }
      },
      "outputs": [
        {
          "output_type": "display_data",
          "data": {
            "text/plain": [
              "<Figure size 576x432 with 1 Axes>"
            ],
            "image/png": "[encoded data removed]"
          },
          "metadata": {
            "image/png": {
              "width": 558,
              "height": 413
            },
            "needs_background": "light"
          }
        }
      ],
      "source": [
        "# @markdown Frobenious norm of the model\n",
        "plt.figure(figsize=(8, 6))\n",
        "plt.plot(model_norm)\n",
        "plt.ylabel('Norm of the model')\n",
        "plt.xlabel('Epochs')\n",
        "plt.title('Frobenious norm of the model')\n",
        "plt.show()"
      ]
    },
    {
      "cell_type": "markdown",
      "metadata": {
        "execution": {},
        "id": "MBF921v0Cbgz"
      },
      "source": [
        "Finally, you can compare the Frobenius norm per layer in the model, before and after training."
      ]
    },
    {
      "cell_type": "code",
      "execution_count": 25,
      "metadata": {
        "cellView": "form",
        "execution": {},
        "id": "X5m-Tyo4Cbg0",
        "outputId": "64255fc5-99ec-4348-facc-192e39144033",
        "colab": {
          "base_uri": "https://localhost:8080/",
          "height": 843
        }
      },
      "outputs": [
        {
          "output_type": "display_data",
          "data": {
            "text/plain": [
              "<Figure size 576x432 with 1 Axes>"
            ],
            "image/png": "[encoded data removed]"
          },
          "metadata": {
            "image/png": {
              "width": 558,
              "height": 413
            },
            "needs_background": "light"
          }
        },
        {
          "output_type": "display_data",
          "data": {
            "text/plain": [
              "<Figure size 576x432 with 1 Axes>"
            ],
            "image/png": "[encoded data removed]"
          },
          "metadata": {
            "image/png": {
              "width": 558,
              "height": 413
            },
            "needs_background": "light"
          }
        }
      ],
      "source": [
        "# @markdown Frobenius norm per layer before and after training\n",
        "normf, wsf, label = calculate_frobenius_norm(model)\n",
        "\n",
        "plot_weights(float(normi), label, wsi,\n",
        "             title='Weight Size Before Training')\n",
        "plot_weights(float(normf), label, wsf,\n",
        "             title='Weight Size After Training')"
      ]
    },
    {
      "cell_type": "markdown",
      "metadata": {
        "execution": {},
        "id": "EgDfYLIWCbg0"
      },
      "source": [
        "## Section 2.2: Overfitting on Test Dataset\n",
        "\n",
        "In principle, we should not touch our test set until choosing all our hyperparameters. Were we to use the test data in the model selection process, there is a risk that we might overfit the test data, and then we will be in serious trouble. If we overfit our training data, there is always an evaluation using the test data to keep us honest. But if we overfit the test data, how would we ever know?\n",
        "\n",
        "Note that there is another kind of overfitting: you do \"honest\" fitting on one set of images or posts or medical records, but it may not generalize to other images, posts, or medical records."
      ]
    },
    {
      "cell_type": "markdown",
      "metadata": {
        "execution": {},
        "id": "gRq36YRnCbg1"
      },
      "source": [
        "### Validation Dataset\n",
        "\n",
        "A common practice to address this problem is to split our data in three ways, using a validation dataset (or validation set) to tune the hyperparameters. Ideally, we would only touch the test data once, to assess the very best model or to compare a small number of models to each other, real-world test data is seldom discarded after just one use."
      ]
    },
    {
      "cell_type": "markdown",
      "metadata": {
        "execution": {},
        "id": "f6KF6Vk6Cbg1"
      },
      "source": [
        "---\n",
        "# Section 3: Memorization\n",
        "\n",
        "*Time estimate: ~20 mins*\n"
      ]
    },
    {
      "cell_type": "markdown",
      "metadata": {
        "execution": {},
        "id": "YA66mGyECbg2"
      },
      "source": [
        "Given sufficiently large networks and enough training, Neural Networks can achieve almost 100% train accuracy by remembering each training example. However, this is bad because it will mean that the model will fail when presented with new data.\n",
        "\n",
        "In this section, we train three MLPs; one each on:\n",
        "\n",
        "1. Animal Faces Dataset\n",
        "2. A Completely Noisy Dataset (Random shuffling of all labels)\n",
        "3. A partially Noisy Dataset (Random shuffling of 15% labels)"
      ]
    },
    {
      "cell_type": "markdown",
      "metadata": {
        "execution": {},
        "id": "M80sYyhqCbg3"
      },
      "source": [
        "Now, think for a couple of minutes as to what the train and test accuracies of each of these models might be, given that you train for sufficient time and use a powerful network."
      ]
    },
    {
      "cell_type": "markdown",
      "metadata": {
        "execution": {},
        "id": "QgpfV2hzCbg4"
      },
      "source": [
        "First, let's create the required dataloaders for all three datasets. Notice how we split the data. We train on a fraction of the dataset as it will be faster to train and will overfit more clearly."
      ]
    },
    {
      "cell_type": "code",
      "execution_count": 26,
      "metadata": {
        "execution": {},
        "id": "wKnhP3IqCbg4"
      },
      "outputs": [],
      "source": [
        "# Dataloaders for the Dataset\n",
        "batch_size = 128\n",
        "classes = ('cat', 'dog', 'wild')\n",
        "\n",
        "# Defining number of examples for train, val test\n",
        "len_train, len_val, len_test = 100, 100, 14430\n",
        "\n",
        "train_transform = transforms.Compose([\n",
        "     transforms.ToTensor(),\n",
        "     transforms.Normalize((0.5, 0.5, 0.5), (0.5, 0.5, 0.5))\n",
        "     ])\n",
        "data_path = pathlib.Path('.')/'afhq'  # Using pathlib to be compatible with all OS's\n",
        "img_dataset = ImageFolder(data_path/'train', transform=train_transform)"
      ]
    },
    {
      "cell_type": "code",
      "execution_count": 27,
      "metadata": {
        "execution": {},
        "id": "2ehJkIiZCbg5"
      },
      "outputs": [],
      "source": [
        "# Dataloaders for the Original Dataset\n",
        "\n",
        "# For reproducibility\n",
        "g_seed = torch.Generator()\n",
        "g_seed.manual_seed(SEED)\n",
        "\n",
        "img_train_data, img_val_data,_ = torch.utils.data.random_split(img_dataset,\n",
        "                                                               [len_train,\n",
        "                                                                len_val,\n",
        "                                                                len_test])\n",
        "\n",
        "# Creating train_loader and Val_loader\n",
        "train_loader = torch.utils.data.DataLoader(img_train_data,\n",
        "                                           batch_size=batch_size,\n",
        "                                           num_workers=2,\n",
        "                                           worker_init_fn=seed_worker,\n",
        "                                           generator=g_seed)\n",
        "\n",
        "val_loader = torch.utils.data.DataLoader(img_val_data,\n",
        "                                         batch_size=1000,\n",
        "                                         num_workers=2,\n",
        "                                         worker_init_fn=seed_worker,\n",
        "                                         generator=g_seed)"
      ]
    },
    {
      "cell_type": "code",
      "execution_count": 28,
      "metadata": {
        "execution": {},
        "id": "9tEoc7KRCbg6"
      },
      "outputs": [],
      "source": [
        "# Dataloaders for the Random Dataset\n",
        "\n",
        "# For reproducibility\n",
        "g_seed = torch.Generator()\n",
        "g_seed.manual_seed(SEED + 1)\n",
        "\n",
        "# Splitting randomized data into training and validation data\n",
        "data_path = pathlib.Path('.')/'afhq_random_32x32/afhq_random' # Using pathlib to be compatible with all OS's\n",
        "img_dataset = ImageFolder(data_path/'train', transform=train_transform)\n",
        "random_img_train_data, random_img_val_data,_ = torch.utils.data.random_split(img_dataset, [len_train, len_val, len_test])\n",
        "\n",
        "# Randomized train and validation dataloader\n",
        "rand_train_loader = torch.utils.data.DataLoader(random_img_train_data,\n",
        "                                                batch_size=batch_size,\n",
        "                                                num_workers=2,\n",
        "                                                worker_init_fn=seed_worker,\n",
        "                                                generator=g_seed)\n",
        "\n",
        "rand_val_loader = torch.utils.data.DataLoader(random_img_val_data,\n",
        "                                              batch_size=1000,\n",
        "                                              num_workers=2,\n",
        "                                              worker_init_fn=seed_worker,\n",
        "                                              generator=g_seed)"
      ]
    },
    {
      "cell_type": "code",
      "execution_count": 29,
      "metadata": {
        "execution": {},
        "id": "SGT5o0b8Cbg6"
      },
      "outputs": [],
      "source": [
        "# Dataloaders for the Partially Random Dataset\n",
        "\n",
        "# For reproducibility\n",
        "g_seed = torch.Generator()\n",
        "g_seed.manual_seed(SEED + 1)\n",
        "\n",
        "# Splitting data between training and validation dataset for partially randomized data\n",
        "data_path = pathlib.Path('.')/'afhq_10_32x32/afhq_10' # Using pathlib to be compatible with all OS's\n",
        "img_dataset = ImageFolder(data_path/'train', transform=train_transform)\n",
        "partially_random_train_data, partially_random_val_data,_ = torch.utils.data.random_split(img_dataset, [len_train, len_val, len_test])\n",
        "\n",
        "# Training and Validation loader for partially randomized data\n",
        "partial_rand_train_loader = torch.utils.data.DataLoader(partially_random_train_data,\n",
        "                                                        batch_size=batch_size,\n",
        "                                                        num_workers=2,\n",
        "                                                        worker_init_fn=seed_worker,\n",
        "                                                        generator=g_seed)\n",
        "\n",
        "partial_rand_val_loader = torch.utils.data.DataLoader(partially_random_val_data,\n",
        "                                                      batch_size=1000,\n",
        "                                                      num_workers=2,\n",
        "                                                      worker_init_fn=seed_worker,\n",
        "                                                      generator=g_seed)"
      ]
    },
    {
      "cell_type": "markdown",
      "metadata": {
        "execution": {},
        "id": "AxDh2JBuCbg7"
      },
      "source": [
        "Now let's define a model which has many parameters compared to the training dataset size, and train it on these datasets."
      ]
    },
    {
      "cell_type": "code",
      "execution_count": 30,
      "metadata": {
        "execution": {},
        "id": "H8hRTA8RCbg7"
      },
      "outputs": [],
      "source": [
        "class BigAnimalNet(nn.Module):\n",
        "  \"\"\"\n",
        "  Network Class - Animal Faces with following structure:\n",
        "  nn.Linear(3*32*32, 124) + leaky_relu(self.fc1(x)) # First fully connected layer\n",
        "  nn.Linear(124, 64) + leaky_relu(self.fc2(x)) # Second fully connected layer\n",
        "  nn.Linear(64, 3) # Final fully connected layer\n",
        "  \"\"\"\n",
        "\n",
        "  def __init__(self):\n",
        "    \"\"\"\n",
        "    Initialize parameters for BigAnimalNet\n",
        "\n",
        "    Args:\n",
        "      None\n",
        "\n",
        "    Returns:\n",
        "      Nothing\n",
        "    \"\"\"\n",
        "    super(BigAnimalNet, self).__init__()\n",
        "    self.fc1 = nn.Linear(3*32*32, 124)\n",
        "    self.fc2 = nn.Linear(124, 64)\n",
        "    self.fc3 = nn.Linear(64, 3)\n",
        "\n",
        "  def forward(self, x):\n",
        "    \"\"\"\n",
        "    Forward pass of BigAnimalNet\n",
        "\n",
        "    Args:\n",
        "      x: torch.tensor\n",
        "        Input features\n",
        "\n",
        "    Returns:\n",
        "      x: torch.tensor\n",
        "        Output/Predictions\n",
        "    \"\"\"\n",
        "    x = x.view(x.shape[0], -1)\n",
        "    x = F.leaky_relu(self.fc1(x))\n",
        "    x = F.leaky_relu(self.fc2(x))\n",
        "    x = self.fc3(x)\n",
        "    output = F.log_softmax(x, dim=1)\n",
        "    return output"
      ]
    },
    {
      "cell_type": "markdown",
      "metadata": {
        "execution": {},
        "id": "VVFqsva7Cbg8"
      },
      "source": [
        "Before training our `BigAnimalNet()`, calculate the Frobenius norm again."
      ]
    },
    {
      "cell_type": "code",
      "execution_count": 31,
      "metadata": {
        "execution": {},
        "id": "Vj48JSZoCbg9",
        "outputId": "e0698ddd-d11e-4a6c-a5c9-0864d93f693d",
        "colab": {
          "base_uri": "https://localhost:8080/"
        }
      },
      "outputs": [
        {
          "output_type": "stream",
          "name": "stdout",
          "text": [
            "Random seed 2021 has been set.\n"
          ]
        }
      ],
      "source": [
        "set_seed(seed=SEED)\n",
        "normi, wsi, label = calculate_frobenius_norm(BigAnimalNet())"
      ]
    },
    {
      "cell_type": "markdown",
      "metadata": {
        "execution": {},
        "id": "y1sz4f6vCbg-"
      },
      "source": [
        "Now, train our `BigAnimalNet()` model"
      ]
    },
    {
      "cell_type": "code",
      "execution_count": 32,
      "metadata": {
        "execution": {},
        "id": "CMgivQiMCbg-",
        "outputId": "f7a9f70d-0ccb-4945-d0ce-4ba6e788775e",
        "colab": {
          "base_uri": "https://localhost:8080/",
          "height": 499,
          "referenced_widgets": [
            "b26440bfc5c144f39a506d40d946380d",
            "6b680bb6d385488b8445aed35965c69f",
            "3f0d30004ade4cfd916513e5228d1308",
            "7f0539c1cfdc4a00a64386960d74bab7",
            "8ca0cc9b3c5e4d01b83efac0313c9ba4",
            "09246e560bc145b988fe176716998bdd",
            "703da8d810d74f108b5caca089aa663f",
            "0fcbf39ee6a1465cb4d864982222f439",
            "a85acdd52dc542429c9d8dd424e40b88",
            "0144898fbda6428fa651440091ba1d6f",
            "cf7db8864d094e85b64c284001f22d00"
          ]
        }
      },
      "outputs": [
        {
          "output_type": "stream",
          "name": "stdout",
          "text": [
            "Random seed 2021 has been set.\n"
          ]
        },
        {
          "output_type": "display_data",
          "data": {
            "text/plain": [
              "  0%|          | 0/200 [00:00<?, ?it/s]"
            ],
            "application/vnd.jupyter.widget-view+json": {
              "version_major": 2,
              "version_minor": 0,
              "model_id": "b26440bfc5c144f39a506d40d946380d"
            }
          },
          "metadata": {}
        },
        {
          "output_type": "stream",
          "name": "stdout",
          "text": [
            "Time to memorize the dataset: 69.05178546905518\n"
          ]
        },
        {
          "output_type": "display_data",
          "data": {
            "text/plain": [
              "<Figure size 576x432 with 1 Axes>"
            ],
            "image/png": "[encoded data removed]"
          },
          "metadata": {
            "image/png": {
              "width": 558,
              "height": 413
            },
            "needs_background": "light"
          }
        }
      ],
      "source": [
        "# Here we have 100 true train data.\n",
        "\n",
        "# Set the arguments\n",
        "args = {\n",
        "    'epochs': 200,\n",
        "    'lr': 5e-3,\n",
        "    'momentum': 0.9,\n",
        "    'device': DEVICE\n",
        "}\n",
        "\n",
        "\n",
        "# Initialize the network\n",
        "set_seed(seed=SEED)\n",
        "model = BigAnimalNet()\n",
        "\n",
        "start_time = time.time()\n",
        "\n",
        "# Train the network\n",
        "val_acc_pure, train_acc_pure, _, model = main(args=args,\n",
        "                                              model=model,\n",
        "                                              train_loader=train_loader,\n",
        "                                              val_loader=val_loader)\n",
        "end_time = time.time()\n",
        "\n",
        "print(f\"Time to memorize the dataset: {end_time - start_time}\")\n",
        "\n",
        "# Train and Test accuracy plot\n",
        "plt.figure(figsize=(8, 6))\n",
        "plt.plot(val_acc_pure, label='Val Accuracy Pure', c='red', ls='dashed')\n",
        "plt.plot(train_acc_pure, label='Train Accuracy Pure', c='red', ls='solid')\n",
        "plt.axhline(y=max(val_acc_pure), c='green', ls='dashed',\n",
        "            label='max Val accuracy pure')\n",
        "plt.title('Memorization')\n",
        "plt.ylabel('Accuracy (%)')\n",
        "plt.xlabel('Epoch')\n",
        "plt.legend()\n",
        "plt.show()"
      ]
    },
    {
      "cell_type": "code",
      "execution_count": 33,
      "metadata": {
        "cellView": "form",
        "execution": {},
        "id": "gUw964c8Cbg-",
        "outputId": "871b9d69-68d5-4dd8-db54-5136937080ea",
        "colab": {
          "base_uri": "https://localhost:8080/",
          "height": 843
        }
      },
      "outputs": [
        {
          "output_type": "display_data",
          "data": {
            "text/plain": [
              "<Figure size 576x432 with 1 Axes>"
            ],
            "image/png": "[encoded data removed]"
          },
          "metadata": {
            "image/png": {
              "width": 558,
              "height": 413
            },
            "needs_background": "light"
          }
        },
        {
          "output_type": "display_data",
          "data": {
            "text/plain": [
              "<Figure size 576x432 with 1 Axes>"
            ],
            "image/png": "[encoded data removed]"
          },
          "metadata": {
            "image/png": {
              "width": 558,
              "height": 413
            },
            "needs_background": "light"
          }
        }
      ],
      "source": [
        "# @markdown #### Frobenius norm for AnimalNet before and after training\n",
        "normf, wsf, label = calculate_frobenius_norm(model)\n",
        "\n",
        "plot_weights(float(normi), label, wsi, title='Weight Size Before Training')\n",
        "plot_weights(float(normf), label, wsf, title='Weight Size After Training')"
      ]
    },
    {
      "cell_type": "markdown",
      "metadata": {
        "execution": {},
        "id": "reWGMN_OCbg-"
      },
      "source": [
        "## Data Visualizer\n",
        "\n",
        "Before we train the model on data with random labels, let's visualize and verify for ourselves that the data is random. Here, we have:\n",
        "```python\n",
        "classes = (\"cat\", \"dog\", \"wild\")\n",
        "``` \n",
        "We use the `.permute()` method. `plt.imshow()` expects the input to be in NumPy format and in the format $(P_x, P_y, 3)$, where $P_x$ and $P_y$ are the number of pixels along $x$ and $y$ axis, respectively."
      ]
    },
    {
      "cell_type": "code",
      "execution_count": 34,
      "metadata": {
        "execution": {},
        "id": "CPdeZAB7Cbg_",
        "outputId": "79c2a0c4-281d-4a53-872c-fb5b18d38f51",
        "colab": {
          "base_uri": "https://localhost:8080/",
          "height": 448
        }
      },
      "outputs": [
        {
          "output_type": "stream",
          "name": "stdout",
          "text": [
            "The image belongs to : cat\n"
          ]
        },
        {
          "output_type": "display_data",
          "data": {
            "text/plain": [
              "<Figure size 576x432 with 1 Axes>"
            ],
            "image/png": "[encoded data removed]"
          },
          "metadata": {
            "image/png": {
              "width": 413,
              "height": 413
            },
            "needs_background": "light"
          }
        }
      ],
      "source": [
        "def visualize_data(dataloader):\n",
        "  \"\"\"\n",
        "  Helper function to visualize data\n",
        "\n",
        "  Args:\n",
        "    dataloader: torch.tensor\n",
        "      Dataloader to visualize\n",
        "\n",
        "  Returns:\n",
        "    Nothing\n",
        "  \"\"\"\n",
        "\n",
        "  for idx, (data, label) in enumerate(dataloader):\n",
        "    plt.figure(idx)\n",
        "\n",
        "    # Choose the datapoint you would like to visualize\n",
        "    index = 22\n",
        "\n",
        "    # Choose that datapoint using index and permute the dimensions\n",
        "    # and bring the pixel values between [0, 1]\n",
        "    data = data[index].permute(1, 2, 0) * \\\n",
        "           torch.tensor([0.5, 0.5, 0.5]) + \\\n",
        "           torch.tensor([0.5, 0.5, 0.5])\n",
        "\n",
        "    # Convert the torch tensor into numpy\n",
        "    data = data.numpy()\n",
        "\n",
        "    plt.imshow(data)\n",
        "    plt.axis(False)\n",
        "    image_class = classes[label[index].item()]\n",
        "    print(f'The image belongs to : {image_class}')\n",
        "\n",
        "  plt.show()\n",
        "\n",
        "\n",
        "# Call the function\n",
        "visualize_data(rand_train_loader)"
      ]
    },
    {
      "cell_type": "markdown",
      "metadata": {
        "execution": {},
        "id": "1t8F3sk4CbhC"
      },
      "source": [
        " Now let's train the network on the shuffled data and see if it memorizes."
      ]
    },
    {
      "cell_type": "code",
      "execution_count": 35,
      "metadata": {
        "execution": {},
        "id": "YcPkAN3VCbhD",
        "outputId": "3e03e691-a47c-4c1e-8713-963ad89406f2",
        "colab": {
          "base_uri": "https://localhost:8080/",
          "height": 480,
          "referenced_widgets": [
            "b9b501f3c0544fb289e8e8d181419cc6",
            "03f50ee7b6a84720af374332ea029d5f",
            "36d719a4e2a74aeaaa29e513923e2ec0",
            "e2134bede0bc475aaca0b6be95ca9bec",
            "a41ea01a1c764e42ae5ae0e4a849cd65",
            "ac3d17f9b7a64213bf1713d0c860ee78",
            "e969845658004be48a1ad67802035456",
            "d9a9524483be43768ff433b8ae616825",
            "a33922edb4fd494b9b935a96fc9fa19c",
            "3ee6fc78333841bebdd909d425139fc4",
            "4968f09808d84d9894ec2d8453f0eb77"
          ]
        }
      },
      "outputs": [
        {
          "output_type": "stream",
          "name": "stdout",
          "text": [
            "Random seed 2021 has been set.\n"
          ]
        },
        {
          "output_type": "display_data",
          "data": {
            "text/plain": [
              "  0%|          | 0/200 [00:00<?, ?it/s]"
            ],
            "application/vnd.jupyter.widget-view+json": {
              "version_major": 2,
              "version_minor": 0,
              "model_id": "b9b501f3c0544fb289e8e8d181419cc6"
            }
          },
          "metadata": {}
        },
        {
          "output_type": "display_data",
          "data": {
            "text/plain": [
              "<Figure size 576x432 with 1 Axes>"
            ],
            "image/png": "[encoded data removed]"
          },
          "metadata": {
            "image/png": {
              "width": 558,
              "height": 413
            },
            "needs_background": "light"
          }
        }
      ],
      "source": [
        "# Here we have 100 completely shuffled train data.\n",
        "\n",
        "# Set the arguments\n",
        "args = {\n",
        "    'epochs': 200,\n",
        "    'lr': 5e-3,\n",
        "    'momentum': 0.9,\n",
        "    'device': DEVICE\n",
        "}\n",
        "\n",
        "# Initialize the model\n",
        "set_seed(seed=SEED)\n",
        "model = BigAnimalNet()\n",
        "\n",
        "# Train the model\n",
        "val_acc_random, train_acc_random, _, model = main(args,\n",
        "                                                  model,\n",
        "                                                  rand_train_loader,\n",
        "                                                  val_loader)\n",
        "\n",
        "# Train and Test accuracy plot\n",
        "plt.figure(figsize=(8, 6))\n",
        "plt.plot(val_acc_pure,label='Val - Pure',c='red',ls = 'dashed')\n",
        "plt.plot(train_acc_pure,label='Train - Pure',c='red',ls = 'solid')\n",
        "plt.plot(val_acc_random,label='Val - Random',c='blue',ls = 'dashed')\n",
        "plt.plot(train_acc_random,label='Train - Random',c='blue',ls = 'solid')\n",
        "\n",
        "plt.title('Memorization')\n",
        "plt.ylabel('Accuracy (%)')\n",
        "plt.xlabel('Epoch')\n",
        "plt.legend()\n",
        "plt.show()"
      ]
    },
    {
      "cell_type": "markdown",
      "metadata": {
        "execution": {},
        "id": "A643yV3WCbhD"
      },
      "source": [
        "Isn't it surprising to see that the ANN was able to achieve 100% training accuracy on randomly shuffled labels? This is one of the reasons why training accuracy is not a good indicator of model performance."
      ]
    },
    {
      "cell_type": "markdown",
      "metadata": {
        "execution": {},
        "id": "j9mQjo_lCbhD"
      },
      "source": [
        "---\n",
        "# Section 4: Early Stopping\n",
        "\n",
        "*Time estimate: ~20 mins*"
      ]
    },
    {
      "cell_type": "code",
      "execution_count": 36,
      "metadata": {
        "cellView": "form",
        "execution": {},
        "id": "65SM_ukMCbhE",
        "outputId": "76d49b16-3c57-4cea-8e2b-3df8b356fc3f",
        "colab": {
          "base_uri": "https://localhost:8080/",
          "height": 583,
          "referenced_widgets": [
            "a8c397187d1440c5b0f86e987f6360a4",
            "ba8690a3d81844809acbdfb0a16606ba",
            "5b8c9c3eeef14cc5b555241cc57f77f5",
            "6abcb918f8574fc0b3328bc86a09c54f",
            "0db369f9a41c4ebca50d87f52debbeec",
            "908417a2a30f4b359c6b10d68c0e775f"
          ]
        }
      },
      "outputs": [
        {
          "output_type": "display_data",
          "data": {
            "text/plain": [
              "Tab(children=(Output(), Output()), _titles={'0': 'Youtube', '1': 'Bilibili'})"
            ],
            "application/vnd.jupyter.widget-view+json": {
              "version_major": 2,
              "version_minor": 0,
              "model_id": "a8c397187d1440c5b0f86e987f6360a4"
            }
          },
          "metadata": {}
        }
      ],
      "source": [
        "# @title Video 4: Early Stopping\n",
        "from ipywidgets import widgets\n",
        "\n",
        "out2 = widgets.Output()\n",
        "with out2:\n",
        "  from IPython.display import IFrame\n",
        "  class BiliVideo(IFrame):\n",
        "      def __init__(self, id, page=1, width=400, height=300, **kwargs):\n",
        "          self.id=id\n",
        "          src = \"https://player.bilibili.com/player.html?bvid={0}&page={1}\".format(id, page)\n",
        "          super(BiliVideo, self).__init__(src, width, height, **kwargs)\n",
        "\n",
        "  video = BiliVideo(id=f\"BV1cB4y1K777\", width=854, height=480, fs=1)\n",
        "  print(\"Video available at https://www.bilibili.com/video/{0}\".format(video.id))\n",
        "  display(video)\n",
        "\n",
        "out1 = widgets.Output()\n",
        "with out1:\n",
        "  from IPython.display import YouTubeVideo\n",
        "  video = YouTubeVideo(id=f\"72IG2bX5l30\", width=854, height=480, fs=1, rel=0)\n",
        "  print(\"Video available at https://youtube.com/watch?v=\" + video.id)\n",
        "  display(video)\n",
        "\n",
        "out = widgets.Tab([out1, out2])\n",
        "out.set_title(0, 'Youtube')\n",
        "out.set_title(1, 'Bilibili')\n",
        "\n",
        "# Add event to airtable\n",
        "atform.add_event('Video 4: Early Stopping')\n",
        "\n",
        "display(out)"
      ]
    },
    {
      "cell_type": "markdown",
      "metadata": {
        "execution": {},
        "id": "PcYPGKDQCbhF"
      },
      "source": [
        "Now that we have established that the validation accuracy reaches the peak well before the model overfits, we want to stop the training somehow early. You should have also observed from the above plots that the train/test loss on real data is not very smooth, and hence you might guess that the choice of the epoch can play a crucial role in the validation/test accuracy. \n",
        "\n",
        "Early stopping stops training when the validation accuracies stop increasing.\n",
        "\n",
        "<br>\n",
        "\n",
        "<center><img src=\"https://raw.githubusercontent.com/NeuromatchAcademy/course-content-dl/main/tutorials/static/early-stopping-machine-learning-5422207.jpg\" alt=\"Overfitting\" width=\"600\"/></center>"
      ]
    },
    {
      "cell_type": "markdown",
      "metadata": {
        "execution": {},
        "id": "Wwwo1jh9CbhF"
      },
      "source": [
        "## Coding Exercise 4: Early Stopping\n",
        "\n",
        "Reimplement the main function to include early stopping as described above. Then run the code below to validate your implementation."
      ]
    },
    {
      "cell_type": "code",
      "execution_count": 37,
      "metadata": {
        "execution": {},
        "id": "AKSo8kTLCbhH",
        "outputId": "d022a4f1-b9cd-4c25-d074-286c725ce990",
        "colab": {
          "base_uri": "https://localhost:8080/",
          "height": 517,
          "referenced_widgets": [
            "aec84dbe49ea4be590d4971e0806ca32",
            "57980522f8d94c30aa30b90a3ed4238c",
            "e53cb18e7e9147d39b14ded1e562ec7b",
            "810967daa4794ceb8b717bbb879f205c",
            "e8b7c1241b044be391c62d0ec30baead",
            "a855a05b5b5a45dc81689729699d8af7",
            "803c1006b8704d5682b51e2780e69279",
            "e19fc72d3c87471a825175daceb071f1",
            "6c6e864af1504c5eb9c0901ce113205a",
            "6de48f2464ff47b0bde1e95b8678d109",
            "18809ef3b48e4ff7865b77a1584f6316"
          ]
        }
      },
      "outputs": [
        {
          "output_type": "stream",
          "name": "stdout",
          "text": [
            "Random seed 2021 has been set.\n"
          ]
        },
        {
          "output_type": "display_data",
          "data": {
            "text/plain": [
              "  0%|          | 0/200 [00:00<?, ?it/s]"
            ],
            "application/vnd.jupyter.widget-view+json": {
              "version_major": 2,
              "version_minor": 0,
              "model_id": "aec84dbe49ea4be590d4971e0806ca32"
            }
          },
          "metadata": {}
        },
        {
          "output_type": "stream",
          "name": "stdout",
          "text": [
            "Early stopped on epoch: 66\n",
            "Maximum Validation Accuracy is reached at epoch: 45\n"
          ]
        },
        {
          "output_type": "display_data",
          "data": {
            "text/plain": [
              "<Figure size 576x432 with 1 Axes>"
            ],
            "image/png": "[encoded data removed]"
          },
          "metadata": {
            "image/png": {
              "width": 558,
              "height": 413
            },
            "needs_background": "light"
          }
        }
      ],
      "source": [
        "def early_stopping_main(args, model, train_loader, val_loader):\n",
        "  \"\"\"\n",
        "  Function to simulate early stopping\n",
        "\n",
        "  Args:\n",
        "    args: dictionary\n",
        "      Dictionary with epochs: 200, lr: 5e-3, momentum: 0.9, device: DEVICE\n",
        "    model: nn.module\n",
        "      Neural network instance\n",
        "    train_loader: torch.loader\n",
        "      Train dataset\n",
        "    val_loader: torch.loader\n",
        "      Validation set\n",
        "\n",
        "  Returns:\n",
        "    val_acc_list: list\n",
        "      Val accuracy log until early stop point\n",
        "    train_acc_list: list\n",
        "      Training accuracy log until early stop point\n",
        "    best_model: nn.module\n",
        "      Model performing best with early stopping\n",
        "    best_epoch: int\n",
        "      Epoch at which early stopping occurs\n",
        "  \"\"\"\n",
        "\n",
        "  ####################################################################\n",
        "  # Fill in all missing code below (...),\n",
        "  # then remove or comment the line below to test your function\n",
        "  # raise NotImplementedError(\"Complete the early_stopping_main function\")\n",
        "  ####################################################################\n",
        "  device = args['device']\n",
        "  model = model.to(device)\n",
        "  optimizer = optim.SGD(model.parameters(),\n",
        "                        lr=args['lr'],\n",
        "                        momentum=args['momentum'])\n",
        "\n",
        "  best_acc = 0.0\n",
        "  best_epoch = 0\n",
        "\n",
        "  # Number of successive epochs that you want to wait before stopping training process\n",
        "  patience = 20\n",
        "\n",
        "  # Keeps track of number of epochs during which the val_acc was less than best_acc\n",
        "  wait = 0\n",
        "\n",
        "  val_acc_list, train_acc_list = [], []\n",
        "  for epoch in tqdm(range(args['epochs'])):\n",
        "\n",
        "    # Train the model\n",
        "    trained_model = train(args, model, train_loader, optimizer)\n",
        "\n",
        "    # Calculate training accuracy\n",
        "    train_acc = test(trained_model, train_loader, device=device)\n",
        "\n",
        "    # Calculate validation accuracy\n",
        "    val_acc = test(trained_model, val_loader, device=device)\n",
        "\n",
        "    if (val_acc > best_acc):\n",
        "      best_acc = val_acc\n",
        "      best_epoch = epoch\n",
        "      best_model = copy.deepcopy(trained_model)\n",
        "      wait = 0\n",
        "    else:\n",
        "      wait += 1\n",
        "\n",
        "    if (wait > patience):\n",
        "      print(f'Early stopped on epoch: {epoch}')\n",
        "      break\n",
        "\n",
        "    train_acc_list.append(train_acc)\n",
        "    val_acc_list.append(val_acc)\n",
        "\n",
        "  return val_acc_list, train_acc_list, best_model, best_epoch\n",
        "\n",
        "\n",
        "# Add event to airtable\n",
        "atform.add_event('Coding Exercise 4: Early Stopping')\n",
        "\n",
        "# Set the arguments\n",
        "args = {\n",
        "    'epochs': 200,\n",
        "    'lr': 5e-4,\n",
        "    'momentum': 0.99,\n",
        "    'device': DEVICE\n",
        "}\n",
        "\n",
        "# Initialize the model\n",
        "set_seed(seed=SEED)\n",
        "model = AnimalNet()\n",
        "\n",
        "# Uncomment to test\n",
        "val_acc_earlystop, train_acc_earlystop, best_model, best_epoch = early_stopping_main(args, model, train_loader, val_loader)\n",
        "print(f'Maximum Validation Accuracy is reached at epoch: {best_epoch:2d}')\n",
        "early_stop_plot(train_acc_earlystop, val_acc_earlystop, best_epoch)"
      ]
    },
    {
      "cell_type": "markdown",
      "metadata": {
        "execution": {},
        "id": "UPv80rGBCbhI"
      },
      "source": [
        "[*Click for solution*](https://github.com/NeuromatchAcademy/course-content-dl/tree/main//tutorials/W2D1_Regularization/solutions/W2D1_Tutorial1_Solution_284ce9c0.py)\n",
        "\n",
        "*Example output:*\n",
        "\n",
        "<img alt='Solution hint' align='left' width=1120.0 height=832.0 src=https://raw.githubusercontent.com/NeuromatchAcademy/course-content-dl/main/tutorials/W2D1_Regularization/static/W2D1_Tutorial1_Solution_284ce9c0_3.png>\n",
        "\n"
      ]
    },
    {
      "cell_type": "markdown",
      "metadata": {
        "execution": {},
        "id": "yZUactBCCbhK"
      },
      "source": [
        "## Think! 4: Early Stopping\n",
        "\n",
        "Discuss among your pod why or why not:\n",
        "* Do you think early stopping can be harmful to training your network?"
      ]
    },
    {
      "cell_type": "code",
      "execution_count": null,
      "metadata": {
        "cellView": "form",
        "execution": {},
        "id": "5IReBOssCbhL"
      },
      "outputs": [],
      "source": [
        "# @title Student Response\n",
        "from ipywidgets import widgets\n",
        "\n",
        "\n",
        "text=widgets.Textarea(\n",
        "   value='Type your answer here and click on `Submit!`',\n",
        "   placeholder='Type something',\n",
        "   description='',\n",
        "   disabled=False\n",
        ")\n",
        "\n",
        "button = widgets.Button(description=\"Submit!\")\n",
        "\n",
        "display(text,button)\n",
        "\n",
        "def on_button_clicked(b):\n",
        "   atform.add_answer('q2', text.value)\n",
        "   print(\"Submission successful!\")\n",
        "\n",
        "\n",
        "button.on_click(on_button_clicked)"
      ]
    },
    {
      "cell_type": "markdown",
      "metadata": {
        "execution": {},
        "id": "2Zu5XFlDCbhN"
      },
      "source": [
        "[*Click for solution*](https://github.com/NeuromatchAcademy/course-content-dl/tree/main//tutorials/W2D1_Regularization/solutions/W2D1_Tutorial1_Solution_1329e07b.py)\n",
        "\n"
      ]
    },
    {
      "cell_type": "markdown",
      "metadata": {
        "execution": {},
        "id": "vYQG44h2CbhO"
      },
      "source": [
        "---\n",
        "# Summary\n",
        "\n",
        "In this tutorial, you have been introduced to the regularization technique, described as shrinkage. We have learned about overfitting, one of the worst caveats in deep learning, and finally, we have learned a method of reducing overfitting in our models called early-stopping.\n",
        "\n",
        "If you have time left, you can learn how a model behaves when is trained with randomized labels."
      ]
    },
    {
      "cell_type": "code",
      "execution_count": 38,
      "metadata": {
        "cellView": "form",
        "execution": {},
        "id": "aueUrWkSCbhO",
        "outputId": "c68d8abb-b9f1-42a0-e4e9-9ee7e9fdb763",
        "colab": {
          "base_uri": "https://localhost:8080/",
          "height": 159
        }
      },
      "outputs": [
        {
          "output_type": "execute_result",
          "data": {
            "text/plain": [
              "<IPython.core.display.HTML object>"
            ],
            "text/html": [
              "\n",
              " <div>\n",
              "   <a href= \"https://portal.neuromatchacademy.org/api/redirect/to/9c55f6cb-cdf9-4429-ac1c-ec44fe64c303?data=eyJmb3JtX2lkIjogImFwcG43VmRQUnNlU29NWEVHIiwgInRhYmxlX25hbWUiOiAiVzJEMV9UMSIsICJhbnN3ZXJzIjoge30sICJldmVudHMiOiBbeyJldmVudCI6ICJpbml0IiwgInRzIjogMTY1ODE0MzI4MS40MjY4MX0sIHsiZXZlbnQiOiAiVmlkZW8gMTogSW50cm9kdWN0aW9uIHRvIFJlZ3VsYXJpemF0aW9uIiwgInRzIjogMTY1ODE0Mzk1MS42NDQ0ODM2fSwgeyJldmVudCI6ICJWaWRlbyAyOiBSZWd1bGFyaXphdGlvbiBhcyBTaHJpbmthZ2UiLCAidHMiOiAxNjU4MTQ0OTIxLjAxNDI2Mn0sIHsiZXZlbnQiOiAiQ29kaW5nIEV4ZXJjaXNlIDE6IEZyb2Jlbml1cyBOb3JtIiwgInRzIjogMTY1ODE0NTI1My40MzM0NzI5fSwgeyJldmVudCI6ICJWaWRlbyAzOiBPdmVycGFyYW1ldGVyaXphdGlvbiBhbmQgT3ZlcmZpdHRpbmciLCAidHMiOiAxNjU4MTQ1MzkyLjg1MTA1MX0sIHsiZXZlbnQiOiAiVmlkZW8gNDogRWFybHkgU3RvcHBpbmciLCAidHMiOiAxNjU4MTQ2MDY3LjMxNjMwNzV9LCB7ImV2ZW50IjogIkNvZGluZyBFeGVyY2lzZSA0OiBFYXJseSBTdG9wcGluZyIsICJ0cyI6IDE2NTgxNDYxMzUuOTY1MjkzNn0sIHsiZXZlbnQiOiAidXJsIGdlbmVyYXRlZCIsICJ0cyI6IDE2NTgxNDYxODMuODI0NjcxNX1dfQ%3D%3D\" target=\"_blank\">\n",
              "   <img src=\"https://github.com/NeuromatchAcademy/course-content-dl/blob/main/tutorials/static/AirtableSubmissionButton.png?raw=1\"\n",
              " alt=\"button link to Airtable\" style=\"width:410px\"></a>\n",
              "   </div>"
            ]
          },
          "metadata": {},
          "execution_count": 38
        }
      ],
      "source": [
        "# @title Airtable Submission Link\n",
        "from IPython import display as IPydisplay\n",
        "IPydisplay.HTML(\n",
        "   f\"\"\"\n",
        " <div>\n",
        "   <a href= \"{atform.url()}\" target=\"_blank\">\n",
        "   <img src=\"https://github.com/NeuromatchAcademy/course-content-dl/blob/main/tutorials/static/AirtableSubmissionButton.png?raw=1\"\n",
        " alt=\"button link to Airtable\" style=\"width:410px\"></a>\n",
        "   </div>\"\"\" )"
      ]
    },
    {
      "cell_type": "markdown",
      "metadata": {
        "execution": {},
        "id": "A8lVCE4qCbhO"
      },
      "source": [
        "---\n",
        "# Bonus: Train with randomized labels"
      ]
    },
    {
      "cell_type": "markdown",
      "metadata": {
        "execution": {},
        "id": "2XjZZzjKCbhP"
      },
      "source": [
        "In this part, let's train on a partially shuffled dataset where 15% of the labels are noisy."
      ]
    },
    {
      "cell_type": "code",
      "execution_count": null,
      "metadata": {
        "execution": {},
        "id": "t3j-yi3yCbhP"
      },
      "outputs": [],
      "source": [
        "# Here we have 15% partially shuffled train data.\n",
        "\n",
        "# Set the arguments\n",
        "args = {\n",
        "    'epochs': 200,\n",
        "    'lr': 5e-3,\n",
        "    'momentum': 0.9,\n",
        "    'device': DEVICE\n",
        "}\n",
        "\n",
        "# Intialize the model\n",
        "set_seed(seed=SEED)\n",
        "model = BigAnimalNet()\n",
        "\n",
        "# Train the model\n",
        "val_acc_shuffle, train_acc_shuffle, _, _, = main(args,\n",
        "                                                 model,\n",
        "                                                 partial_rand_train_loader,\n",
        "                                                 val_loader)\n",
        "\n",
        "# Train and test acc plot\n",
        "plt.figure(figsize=(8, 6))\n",
        "plt.plot(val_acc_shuffle, label='Val Accuracy shuffle', c='red', ls='dashed')\n",
        "plt.plot(train_acc_shuffle, label='Train Accuracy shuffle', c='red', ls='solid')\n",
        "plt.axhline(y=max(val_acc_shuffle), c='green', ls='dashed',\n",
        "            label='Max Val Accuracy shuffle')\n",
        "plt.title('Memorization')\n",
        "plt.ylabel('Accuracy (%)')\n",
        "plt.xlabel('Epoch')\n",
        "plt.legend()\n",
        "plt.show()"
      ]
    },
    {
      "cell_type": "code",
      "execution_count": null,
      "metadata": {
        "cellView": "form",
        "execution": {},
        "id": "Vz06nY85CbhQ"
      },
      "outputs": [],
      "source": [
        "#@markdown #### Plotting them all together (Run Me!)\n",
        "plt.figure(figsize=(8, 6))\n",
        "plt.plot(val_acc_pure,label='Val - Pure',c='red',ls = 'dashed')\n",
        "plt.plot(train_acc_pure,label='Train - Pure',c='red',ls = 'solid')\n",
        "plt.plot(val_acc_random,label='Val - Random',c='blue',ls = 'dashed')\n",
        "plt.plot(train_acc_random,label='Train - Random',c='blue',ls = 'solid')\n",
        "plt.plot(val_acc_shuffle, label='Val - shuffle', c='y', ls='dashed')\n",
        "plt.plot(train_acc_shuffle, label='Train - shuffle', c='y', ls='solid')\n",
        "\n",
        "plt.title('Memorization')\n",
        "plt.ylabel('Accuracy (%)')\n",
        "plt.xlabel('Epoch')\n",
        "plt.legend()\n",
        "plt.show()"
      ]
    },
    {
      "cell_type": "markdown",
      "metadata": {
        "execution": {},
        "id": "EVKB76XJCbhS"
      },
      "source": [
        "## Think! Bonus: Does it Generalize?\n",
        "\n",
        "Given that the Neural Network fit/memorize the training data perfectly:\n",
        "\n",
        "* Do you think it generalizes well?\n",
        "* What makes you think it does or doesn't?"
      ]
    },
    {
      "cell_type": "markdown",
      "metadata": {
        "execution": {},
        "id": "PNNNKHAbCbhT"
      },
      "source": [
        "[*Click for solution*](https://github.com/NeuromatchAcademy/course-content-dl/tree/main//tutorials/W2D1_Regularization/solutions/W2D1_Tutorial1_Solution_566afa93.py)\n",
        "\n"
      ]
    },
    {
      "cell_type": "markdown",
      "metadata": {
        "execution": {},
        "id": "nfppI8vPCbhU"
      },
      "source": [
        "Also, it is interesting to note that sometimes the model trained on slightly shuffled data does slightly better than the one trained on pure data. Shuffling some of the data is a form of regularization, i.e., one of many ways of adding noise to the training data."
      ]
    }
  ],
  "metadata": {
    "accelerator": "GPU",
    "colab": {
      "collapsed_sections": [
        "-PhV30moDGBj",
        "-ERb6jj0DGBj",
        "ZbHrMPJgDGBl",
        "ZK-TtZj2DGBy"
      ],
      "name": "W2D1_Tutorial1",
      "provenance": [],
      "toc_visible": true,
      "include_colab_link": true
    },
    "kernel": {
      "display_name": "Python 3",
      "language": "python",
      "name": "python3"
    },
    "kernelspec": {
      "display_name": "Python 3",
      "name": "python3"
    },
    "language_info": {
      "codemirror_mode": {
        "name": "ipython",
        "version": 3
      },
      "file_extension": ".py",
      "mimetype": "text/x-python",
      "name": "python",
      "nbconvert_exporter": "python",
      "pygments_lexer": "ipython3",
      "version": "3.7.11"
    },
    "widgets": {
      "application/vnd.jupyter.widget-state+json": {
        "0f442f1d30e64a6c9fb95ddb14b9f5ef": {
          "model_module": "@jupyter-widgets/controls",
          "model_name": "TabModel",
          "model_module_version": "1.5.0",
          "state": {
            "_dom_classes": [],
            "_model_module": "@jupyter-widgets/controls",
            "_model_module_version": "1.5.0",
            "_model_name": "TabModel",
            "_titles": {
              "0": "Youtube",
              "1": "Bilibili"
            },
            "_view_count": null,
            "_view_module": "@jupyter-widgets/controls",
            "_view_module_version": "1.5.0",
            "_view_name": "TabView",
            "box_style": "",
            "children": [
              "IPY_MODEL_45045c3da9e54a2faecfbed33adde9ea",
              "IPY_MODEL_9c9b0fec4a7a4f9499b443865a11c8cf"
            ],
            "layout": "IPY_MODEL_2b2c737ba9e34590ad3998eafd31a628",
            "selected_index": 0
          }
        },
        "45045c3da9e54a2faecfbed33adde9ea": {
          "model_module": "@jupyter-widgets/output",
          "model_name": "OutputModel",
          "model_module_version": "1.0.0",
          "state": {
            "_dom_classes": [],
            "_model_module": "@jupyter-widgets/output",
            "_model_module_version": "1.0.0",
            "_model_name": "OutputModel",
            "_view_count": null,
            "_view_module": "@jupyter-widgets/output",
            "_view_module_version": "1.0.0",
            "_view_name": "OutputView",
            "layout": "IPY_MODEL_3ca1768e5585409b8e848ce92a92973e",
            "msg_id": "",
            "outputs": [
              {
                "output_type": "stream",
                "name": "stdout",
                "text": [
                  "Video available at https://youtube.com/watch?v=jhQAnIHTR6A\n"
                ]
              },
              {
                "output_type": "display_data",
                "data": {
                  "text/plain": "<IPython.lib.display.YouTubeVideo at 0x7fe2f49f5a10>",
                  "text/html": "\n        <iframe\n            width=\"854\"\n            height=\"480\"\n            src=\"https://www.youtube.com/embed/jhQAnIHTR6A?fs=1&rel=0\"\n            frameborder=\"0\"\n            allowfullscreen\n        ></iframe>\n        ",
                  "image/jpeg": "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\n"
                },
                "metadata": {}
              }
            ]
          }
        },
        "9c9b0fec4a7a4f9499b443865a11c8cf": {
          "model_module": "@jupyter-widgets/output",
          "model_name": "OutputModel",
          "model_module_version": "1.0.0",
          "state": {
            "_dom_classes": [],
            "_model_module": "@jupyter-widgets/output",
            "_model_module_version": "1.0.0",
            "_model_name": "OutputModel",
            "_view_count": null,
            "_view_module": "@jupyter-widgets/output",
            "_view_module_version": "1.0.0",
            "_view_name": "OutputView",
            "layout": "IPY_MODEL_4c6ca76ffd1a4a6e9e5f0c66cb89af0c",
            "msg_id": "",
            "outputs": [
              {
                "output_type": "stream",
                "name": "stdout",
                "text": [
                  "Video available at https://www.bilibili.com/video/BV1mo4y1X76E\n"
                ]
              },
              {
                "output_type": "display_data",
                "data": {
                  "text/plain": "<__main__.BiliVideo at 0x7fe2f49f5910>",
                  "text/html": "\n        <iframe\n            width=\"854\"\n            height=\"480\"\n            src=\"https://player.bilibili.com/player.html?bvid=BV1mo4y1X76E&page=1?fs=1\"\n            frameborder=\"0\"\n            allowfullscreen\n        ></iframe>\n        "
                },
                "metadata": {}
              }
            ]
          }
        },
        "2b2c737ba9e34590ad3998eafd31a628": {
          "model_module": "@jupyter-widgets/base",
          "model_name": "LayoutModel",
          "model_module_version": "1.2.0",
          "state": {
            "_model_module": "@jupyter-widgets/base",
            "_model_module_version": "1.2.0",
            "_model_name": "LayoutModel",
            "_view_count": null,
            "_view_module": "@jupyter-widgets/base",
            "_view_module_version": "1.2.0",
            "_view_name": "LayoutView",
            "align_content": null,
            "align_items": null,
            "align_self": null,
            "border": null,
            "bottom": null,
            "display": null,
            "flex": null,
            "flex_flow": null,
            "grid_area": null,
            "grid_auto_columns": null,
            "grid_auto_flow": null,
            "grid_auto_rows": null,
            "grid_column": null,
            "grid_gap": null,
            "grid_row": null,
            "grid_template_areas": null,
            "grid_template_columns": null,
            "grid_template_rows": null,
            "height": null,
            "justify_content": null,
            "justify_items": null,
            "left": null,
            "margin": null,
            "max_height": null,
            "max_width": null,
            "min_height": null,
            "min_width": null,
            "object_fit": null,
            "object_position": null,
            "order": null,
            "overflow": null,
            "overflow_x": null,
            "overflow_y": null,
            "padding": null,
            "right": null,
            "top": null,
            "visibility": null,
            "width": null
          }
        },
        "3ca1768e5585409b8e848ce92a92973e": {
          "model_module": "@jupyter-widgets/base",
          "model_name": "LayoutModel",
          "model_module_version": "1.2.0",
          "state": {
            "_model_module": "@jupyter-widgets/base",
            "_model_module_version": "1.2.0",
            "_model_name": "LayoutModel",
            "_view_count": null,
            "_view_module": "@jupyter-widgets/base",
            "_view_module_version": "1.2.0",
            "_view_name": "LayoutView",
            "align_content": null,
            "align_items": null,
            "align_self": null,
            "border": null,
            "bottom": null,
            "display": null,
            "flex": null,
            "flex_flow": null,
            "grid_area": null,
            "grid_auto_columns": null,
            "grid_auto_flow": null,
            "grid_auto_rows": null,
            "grid_column": null,
            "grid_gap": null,
            "grid_row": null,
            "grid_template_areas": null,
            "grid_template_columns": null,
            "grid_template_rows": null,
            "height": null,
            "justify_content": null,
            "justify_items": null,
            "left": null,
            "margin": null,
            "max_height": null,
            "max_width": null,
            "min_height": null,
            "min_width": null,
            "object_fit": null,
            "object_position": null,
            "order": null,
            "overflow": null,
            "overflow_x": null,
            "overflow_y": null,
            "padding": null,
            "right": null,
            "top": null,
            "visibility": null,
            "width": null
          }
        },
        "4c6ca76ffd1a4a6e9e5f0c66cb89af0c": {
          "model_module": "@jupyter-widgets/base",
          "model_name": "LayoutModel",
          "model_module_version": "1.2.0",
          "state": {
            "_model_module": "@jupyter-widgets/base",
            "_model_module_version": "1.2.0",
            "_model_name": "LayoutModel",
            "_view_count": null,
            "_view_module": "@jupyter-widgets/base",
            "_view_module_version": "1.2.0",
            "_view_name": "LayoutView",
            "align_content": null,
            "align_items": null,
            "align_self": null,
            "border": null,
            "bottom": null,
            "display": null,
            "flex": null,
            "flex_flow": null,
            "grid_area": null,
            "grid_auto_columns": null,
            "grid_auto_flow": null,
            "grid_auto_rows": null,
            "grid_column": null,
            "grid_gap": null,
            "grid_row": null,
            "grid_template_areas": null,
            "grid_template_columns": null,
            "grid_template_rows": null,
            "height": null,
            "justify_content": null,
            "justify_items": null,
            "left": null,
            "margin": null,
            "max_height": null,
            "max_width": null,
            "min_height": null,
            "min_width": null,
            "object_fit": null,
            "object_position": null,
            "order": null,
            "overflow": null,
            "overflow_x": null,
            "overflow_y": null,
            "padding": null,
            "right": null,
            "top": null,
            "visibility": null,
            "width": null
          }
        },
        "4368d6e2789c4a57923656bc7d9a98d9": {
          "model_module": "@jupyter-widgets/controls",
          "model_name": "TabModel",
          "model_module_version": "1.5.0",
          "state": {
            "_dom_classes": [],
            "_model_module": "@jupyter-widgets/controls",
            "_model_module_version": "1.5.0",
            "_model_name": "TabModel",
            "_titles": {
              "0": "Youtube",
              "1": "Bilibili"
            },
            "_view_count": null,
            "_view_module": "@jupyter-widgets/controls",
            "_view_module_version": "1.5.0",
            "_view_name": "TabView",
            "box_style": "",
            "children": [
              "IPY_MODEL_03e5fe202f6644a1a96f6413a7e40bec",
              "IPY_MODEL_8f707fe9e3e647c08553dbe73d3b254f"
            ],
            "layout": "IPY_MODEL_8054f2305b9844879dbbef92a222cb53",
            "selected_index": 0
          }
        },
        "03e5fe202f6644a1a96f6413a7e40bec": {
          "model_module": "@jupyter-widgets/output",
          "model_name": "OutputModel",
          "model_module_version": "1.0.0",
          "state": {
            "_dom_classes": [],
            "_model_module": "@jupyter-widgets/output",
            "_model_module_version": "1.0.0",
            "_model_name": "OutputModel",
            "_view_count": null,
            "_view_module": "@jupyter-widgets/output",
            "_view_module_version": "1.0.0",
            "_view_name": "OutputView",
            "layout": "IPY_MODEL_619db400710043c8997e0168e591e02d",
            "msg_id": "",
            "outputs": [
              {
                "output_type": "stream",
                "name": "stdout",
                "text": [
                  "Video available at https://youtube.com/watch?v=mhVbJ74upnQ\n"
                ]
              },
              {
                "output_type": "display_data",
                "data": {
                  "text/plain": "<IPython.lib.display.YouTubeVideo at 0x7fe2f55707d0>",
                  "text/html": "\n        <iframe\n            width=\"854\"\n            height=\"480\"\n            src=\"https://www.youtube.com/embed/mhVbJ74upnQ?fs=1&rel=0\"\n            frameborder=\"0\"\n            allowfullscreen\n        ></iframe>\n        ",
                  "image/jpeg": "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\n"
                },
                "metadata": {}
              }
            ]
          }
        },
        "8f707fe9e3e647c08553dbe73d3b254f": {
          "model_module": "@jupyter-widgets/output",
          "model_name": "OutputModel",
          "model_module_version": "1.0.0",
          "state": {
            "_dom_classes": [],
            "_model_module": "@jupyter-widgets/output",
            "_model_module_version": "1.0.0",
            "_model_name": "OutputModel",
            "_view_count": null,
            "_view_module": "@jupyter-widgets/output",
            "_view_module_version": "1.0.0",
            "_view_name": "OutputView",
            "layout": "IPY_MODEL_079b19b0e8164783960e22cb8a85e7d2",
            "msg_id": "",
            "outputs": [
              {
                "output_type": "stream",
                "name": "stdout",
                "text": [
                  "Video available at https://www.bilibili.com/video/BV1YL411H7Dv\n"
                ]
              },
              {
                "output_type": "display_data",
                "data": {
                  "text/plain": "<__main__.BiliVideo at 0x7fe2f55709d0>",
                  "text/html": "\n        <iframe\n            width=\"854\"\n            height=\"480\"\n            src=\"https://player.bilibili.com/player.html?bvid=BV1YL411H7Dv&page=1?fs=1\"\n            frameborder=\"0\"\n            allowfullscreen\n        ></iframe>\n        "
                },
                "metadata": {}
              }
            ]
          }
        },
        "8054f2305b9844879dbbef92a222cb53": {
          "model_module": "@jupyter-widgets/base",
          "model_name": "LayoutModel",
          "model_module_version": "1.2.0",
          "state": {
            "_model_module": "@jupyter-widgets/base",
            "_model_module_version": "1.2.0",
            "_model_name": "LayoutModel",
            "_view_count": null,
            "_view_module": "@jupyter-widgets/base",
            "_view_module_version": "1.2.0",
            "_view_name": "LayoutView",
            "align_content": null,
            "align_items": null,
            "align_self": null,
            "border": null,
            "bottom": null,
            "display": null,
            "flex": null,
            "flex_flow": null,
            "grid_area": null,
            "grid_auto_columns": null,
            "grid_auto_flow": null,
            "grid_auto_rows": null,
            "grid_column": null,
            "grid_gap": null,
            "grid_row": null,
            "grid_template_areas": null,
            "grid_template_columns": null,
            "grid_template_rows": null,
            "height": null,
            "justify_content": null,
            "justify_items": null,
            "left": null,
            "margin": null,
            "max_height": null,
            "max_width": null,
            "min_height": null,
            "min_width": null,
            "object_fit": null,
            "object_position": null,
            "order": null,
            "overflow": null,
            "overflow_x": null,
            "overflow_y": null,
            "padding": null,
            "right": null,
            "top": null,
            "visibility": null,
            "width": null
          }
        },
        "619db400710043c8997e0168e591e02d": {
          "model_module": "@jupyter-widgets/base",
          "model_name": "LayoutModel",
          "model_module_version": "1.2.0",
          "state": {
            "_model_module": "@jupyter-widgets/base",
            "_model_module_version": "1.2.0",
            "_model_name": "LayoutModel",
            "_view_count": null,
            "_view_module": "@jupyter-widgets/base",
            "_view_module_version": "1.2.0",
            "_view_name": "LayoutView",
            "align_content": null,
            "align_items": null,
            "align_self": null,
            "border": null,
            "bottom": null,
            "display": null,
            "flex": null,
            "flex_flow": null,
            "grid_area": null,
            "grid_auto_columns": null,
            "grid_auto_flow": null,
            "grid_auto_rows": null,
            "grid_column": null,
            "grid_gap": null,
            "grid_row": null,
            "grid_template_areas": null,
            "grid_template_columns": null,
            "grid_template_rows": null,
            "height": null,
            "justify_content": null,
            "justify_items": null,
            "left": null,
            "margin": null,
            "max_height": null,
            "max_width": null,
            "min_height": null,
            "min_width": null,
            "object_fit": null,
            "object_position": null,
            "order": null,
            "overflow": null,
            "overflow_x": null,
            "overflow_y": null,
            "padding": null,
            "right": null,
            "top": null,
            "visibility": null,
            "width": null
          }
        },
        "079b19b0e8164783960e22cb8a85e7d2": {
          "model_module": "@jupyter-widgets/base",
          "model_name": "LayoutModel",
          "model_module_version": "1.2.0",
          "state": {
            "_model_module": "@jupyter-widgets/base",
            "_model_module_version": "1.2.0",
            "_model_name": "LayoutModel",
            "_view_count": null,
            "_view_module": "@jupyter-widgets/base",
            "_view_module_version": "1.2.0",
            "_view_name": "LayoutView",
            "align_content": null,
            "align_items": null,
            "align_self": null,
            "border": null,
            "bottom": null,
            "display": null,
            "flex": null,
            "flex_flow": null,
            "grid_area": null,
            "grid_auto_columns": null,
            "grid_auto_flow": null,
            "grid_auto_rows": null,
            "grid_column": null,
            "grid_gap": null,
            "grid_row": null,
            "grid_template_areas": null,
            "grid_template_columns": null,
            "grid_template_rows": null,
            "height": null,
            "justify_content": null,
            "justify_items": null,
            "left": null,
            "margin": null,
            "max_height": null,
            "max_width": null,
            "min_height": null,
            "min_width": null,
            "object_fit": null,
            "object_position": null,
            "order": null,
            "overflow": null,
            "overflow_x": null,
            "overflow_y": null,
            "padding": null,
            "right": null,
            "top": null,
            "visibility": null,
            "width": null
          }
        },
        "0f55fe20cc7747e5ae0feb11221c0e31": {
          "model_module": "@jupyter-widgets/controls",
          "model_name": "TabModel",
          "model_module_version": "1.5.0",
          "state": {
            "_dom_classes": [],
            "_model_module": "@jupyter-widgets/controls",
            "_model_module_version": "1.5.0",
            "_model_name": "TabModel",
            "_titles": {
              "0": "Youtube",
              "1": "Bilibili"
            },
            "_view_count": null,
            "_view_module": "@jupyter-widgets/controls",
            "_view_module_version": "1.5.0",
            "_view_name": "TabView",
            "box_style": "",
            "children": [
              "IPY_MODEL_fc989b7456b648d8a31880515a838128",
              "IPY_MODEL_112f312265be45419a51d0627444a92b"
            ],
            "layout": "IPY_MODEL_0ebd1ba3814644eeb4588d940f6cc4a5",
            "selected_index": 0
          }
        },
        "fc989b7456b648d8a31880515a838128": {
          "model_module": "@jupyter-widgets/output",
          "model_name": "OutputModel",
          "model_module_version": "1.0.0",
          "state": {
            "_dom_classes": [],
            "_model_module": "@jupyter-widgets/output",
            "_model_module_version": "1.0.0",
            "_model_name": "OutputModel",
            "_view_count": null,
            "_view_module": "@jupyter-widgets/output",
            "_view_module_version": "1.0.0",
            "_view_name": "OutputView",
            "layout": "IPY_MODEL_b71a49beebc64da69cff57935fa1d2fb",
            "msg_id": "",
            "outputs": [
              {
                "output_type": "stream",
                "name": "stdout",
                "text": [
                  "Video available at https://youtube.com/watch?v=-HJ_9HxY38g\n"
                ]
              },
              {
                "output_type": "display_data",
                "data": {
                  "text/plain": "<IPython.lib.display.YouTubeVideo at 0x7fe2f5218d10>",
                  "text/html": "\n        <iframe\n            width=\"854\"\n            height=\"480\"\n            src=\"https://www.youtube.com/embed/-HJ_9HxY38g?fs=1&rel=0\"\n            frameborder=\"0\"\n            allowfullscreen\n        ></iframe>\n        ",
                  "image/jpeg": "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\n"
                },
                "metadata": {}
              }
            ]
          }
        },
        "112f312265be45419a51d0627444a92b": {
          "model_module": "@jupyter-widgets/output",
          "model_name": "OutputModel",
          "model_module_version": "1.0.0",
          "state": {
            "_dom_classes": [],
            "_model_module": "@jupyter-widgets/output",
            "_model_module_version": "1.0.0",
            "_model_name": "OutputModel",
            "_view_count": null,
            "_view_module": "@jupyter-widgets/output",
            "_view_module_version": "1.0.0",
            "_view_name": "OutputView",
            "layout": "IPY_MODEL_44e07c48e3fb475a8b8a324fae4a85c7",
            "msg_id": "",
            "outputs": [
              {
                "output_type": "stream",
                "name": "stdout",
                "text": [
                  "Video available at https://www.bilibili.com/video/BV1NX4y1A73i\n"
                ]
              },
              {
                "output_type": "display_data",
                "data": {
                  "text/plain": "<__main__.BiliVideo at 0x7fe2f520fa90>",
                  "text/html": "\n        <iframe\n            width=\"854\"\n            height=\"480\"\n            src=\"https://player.bilibili.com/player.html?bvid=BV1NX4y1A73i&page=1?fs=1\"\n            frameborder=\"0\"\n            allowfullscreen\n        ></iframe>\n        "
                },
                "metadata": {}
              }
            ]
          }
        },
        "0ebd1ba3814644eeb4588d940f6cc4a5": {
          "model_module": "@jupyter-widgets/base",
          "model_name": "LayoutModel",
          "model_module_version": "1.2.0",
          "state": {
            "_model_module": "@jupyter-widgets/base",
            "_model_module_version": "1.2.0",
            "_model_name": "LayoutModel",
            "_view_count": null,
            "_view_module": "@jupyter-widgets/base",
            "_view_module_version": "1.2.0",
            "_view_name": "LayoutView",
            "align_content": null,
            "align_items": null,
            "align_self": null,
            "border": null,
            "bottom": null,
            "display": null,
            "flex": null,
            "flex_flow": null,
            "grid_area": null,
            "grid_auto_columns": null,
            "grid_auto_flow": null,
            "grid_auto_rows": null,
            "grid_column": null,
            "grid_gap": null,
            "grid_row": null,
            "grid_template_areas": null,
            "grid_template_columns": null,
            "grid_template_rows": null,
            "height": null,
            "justify_content": null,
            "justify_items": null,
            "left": null,
            "margin": null,
            "max_height": null,
            "max_width": null,
            "min_height": null,
            "min_width": null,
            "object_fit": null,
            "object_position": null,
            "order": null,
            "overflow": null,
            "overflow_x": null,
            "overflow_y": null,
            "padding": null,
            "right": null,
            "top": null,
            "visibility": null,
            "width": null
          }
        },
        "b71a49beebc64da69cff57935fa1d2fb": {
          "model_module": "@jupyter-widgets/base",
          "model_name": "LayoutModel",
          "model_module_version": "1.2.0",
          "state": {
            "_model_module": "@jupyter-widgets/base",
            "_model_module_version": "1.2.0",
            "_model_name": "LayoutModel",
            "_view_count": null,
            "_view_module": "@jupyter-widgets/base",
            "_view_module_version": "1.2.0",
            "_view_name": "LayoutView",
            "align_content": null,
            "align_items": null,
            "align_self": null,
            "border": null,
            "bottom": null,
            "display": null,
            "flex": null,
            "flex_flow": null,
            "grid_area": null,
            "grid_auto_columns": null,
            "grid_auto_flow": null,
            "grid_auto_rows": null,
            "grid_column": null,
            "grid_gap": null,
            "grid_row": null,
            "grid_template_areas": null,
            "grid_template_columns": null,
            "grid_template_rows": null,
            "height": null,
            "justify_content": null,
            "justify_items": null,
            "left": null,
            "margin": null,
            "max_height": null,
            "max_width": null,
            "min_height": null,
            "min_width": null,
            "object_fit": null,
            "object_position": null,
            "order": null,
            "overflow": null,
            "overflow_x": null,
            "overflow_y": null,
            "padding": null,
            "right": null,
            "top": null,
            "visibility": null,
            "width": null
          }
        },
        "44e07c48e3fb475a8b8a324fae4a85c7": {
          "model_module": "@jupyter-widgets/base",
          "model_name": "LayoutModel",
          "model_module_version": "1.2.0",
          "state": {
            "_model_module": "@jupyter-widgets/base",
            "_model_module_version": "1.2.0",
            "_model_name": "LayoutModel",
            "_view_count": null,
            "_view_module": "@jupyter-widgets/base",
            "_view_module_version": "1.2.0",
            "_view_name": "LayoutView",
            "align_content": null,
            "align_items": null,
            "align_self": null,
            "border": null,
            "bottom": null,
            "display": null,
            "flex": null,
            "flex_flow": null,
            "grid_area": null,
            "grid_auto_columns": null,
            "grid_auto_flow": null,
            "grid_auto_rows": null,
            "grid_column": null,
            "grid_gap": null,
            "grid_row": null,
            "grid_template_areas": null,
            "grid_template_columns": null,
            "grid_template_rows": null,
            "height": null,
            "justify_content": null,
            "justify_items": null,
            "left": null,
            "margin": null,
            "max_height": null,
            "max_width": null,
            "min_height": null,
            "min_width": null,
            "object_fit": null,
            "object_position": null,
            "order": null,
            "overflow": null,
            "overflow_x": null,
            "overflow_y": null,
            "padding": null,
            "right": null,
            "top": null,
            "visibility": null,
            "width": null
          }
        },
        "683e39526abd45c2a96d18cd9cd2d9f4": {
          "model_module": "@jupyter-widgets/controls",
          "model_name": "HBoxModel",
          "model_module_version": "1.5.0",
          "state": {
            "_dom_classes": [],
            "_model_module": "@jupyter-widgets/controls",
            "_model_module_version": "1.5.0",
            "_model_name": "HBoxModel",
            "_view_count": null,
            "_view_module": "@jupyter-widgets/controls",
            "_view_module_version": "1.5.0",
            "_view_name": "HBoxView",
            "box_style": "",
            "children": [
              "IPY_MODEL_c3a5b4168fcc4019877a4a51aee18594",
              "IPY_MODEL_a32f664257764ae3a32801d75e355cab",
              "IPY_MODEL_2d1b7185c1464afba0a67caba45103bf"
            ],
            "layout": "IPY_MODEL_6ad44cc7ddeb450889832cc5ebacf6b1"
          }
        },
        "c3a5b4168fcc4019877a4a51aee18594": {
          "model_module": "@jupyter-widgets/controls",
          "model_name": "HTMLModel",
          "model_module_version": "1.5.0",
          "state": {
            "_dom_classes": [],
            "_model_module": "@jupyter-widgets/controls",
            "_model_module_version": "1.5.0",
            "_model_name": "HTMLModel",
            "_view_count": null,
            "_view_module": "@jupyter-widgets/controls",
            "_view_module_version": "1.5.0",
            "_view_name": "HTMLView",
            "description": "",
            "description_tooltip": null,
            "layout": "IPY_MODEL_bdb595538c37467f9ffad4c47c1e5fb1",
            "placeholder": "​",
            "style": "IPY_MODEL_2cc773a8f8d64284bd80dcf7f4e2133f",
            "value": "100%"
          }
        },
        "a32f664257764ae3a32801d75e355cab": {
          "model_module": "@jupyter-widgets/controls",
          "model_name": "FloatProgressModel",
          "model_module_version": "1.5.0",
          "state": {
            "_dom_classes": [],
            "_model_module": "@jupyter-widgets/controls",
            "_model_module_version": "1.5.0",
            "_model_name": "FloatProgressModel",
            "_view_count": null,
            "_view_module": "@jupyter-widgets/controls",
            "_view_module_version": "1.5.0",
            "_view_name": "ProgressView",
            "bar_style": "success",
            "description": "",
            "description_tooltip": null,
            "layout": "IPY_MODEL_2d218dd7c5d3417bb9e301bd7dac1e11",
            "max": 10000,
            "min": 0,
            "orientation": "horizontal",
            "style": "IPY_MODEL_0e40cad112ec49a7bd19fa68d2472b26",
            "value": 10000
          }
        },
        "2d1b7185c1464afba0a67caba45103bf": {
          "model_module": "@jupyter-widgets/controls",
          "model_name": "HTMLModel",
          "model_module_version": "1.5.0",
          "state": {
            "_dom_classes": [],
            "_model_module": "@jupyter-widgets/controls",
            "_model_module_version": "1.5.0",
            "_model_name": "HTMLModel",
            "_view_count": null,
            "_view_module": "@jupyter-widgets/controls",
            "_view_module_version": "1.5.0",
            "_view_name": "HTMLView",
            "description": "",
            "description_tooltip": null,
            "layout": "IPY_MODEL_2542e19775c44226b462bde780f472a6",
            "placeholder": "​",
            "style": "IPY_MODEL_e0fa9061972f48ae931a5c44328b4784",
            "value": " 10000/10000 [00:31&lt;00:00, 308.05it/s]"
          }
        },
        "6ad44cc7ddeb450889832cc5ebacf6b1": {
          "model_module": "@jupyter-widgets/base",
          "model_name": "LayoutModel",
          "model_module_version": "1.2.0",
          "state": {
            "_model_module": "@jupyter-widgets/base",
            "_model_module_version": "1.2.0",
            "_model_name": "LayoutModel",
            "_view_count": null,
            "_view_module": "@jupyter-widgets/base",
            "_view_module_version": "1.2.0",
            "_view_name": "LayoutView",
            "align_content": null,
            "align_items": null,
            "align_self": null,
            "border": null,
            "bottom": null,
            "display": null,
            "flex": null,
            "flex_flow": null,
            "grid_area": null,
            "grid_auto_columns": null,
            "grid_auto_flow": null,
            "grid_auto_rows": null,
            "grid_column": null,
            "grid_gap": null,
            "grid_row": null,
            "grid_template_areas": null,
            "grid_template_columns": null,
            "grid_template_rows": null,
            "height": null,
            "justify_content": null,
            "justify_items": null,
            "left": null,
            "margin": null,
            "max_height": null,
            "max_width": null,
            "min_height": null,
            "min_width": null,
            "object_fit": null,
            "object_position": null,
            "order": null,
            "overflow": null,
            "overflow_x": null,
            "overflow_y": null,
            "padding": null,
            "right": null,
            "top": null,
            "visibility": null,
            "width": null
          }
        },
        "bdb595538c37467f9ffad4c47c1e5fb1": {
          "model_module": "@jupyter-widgets/base",
          "model_name": "LayoutModel",
          "model_module_version": "1.2.0",
          "state": {
            "_model_module": "@jupyter-widgets/base",
            "_model_module_version": "1.2.0",
            "_model_name": "LayoutModel",
            "_view_count": null,
            "_view_module": "@jupyter-widgets/base",
            "_view_module_version": "1.2.0",
            "_view_name": "LayoutView",
            "align_content": null,
            "align_items": null,
            "align_self": null,
            "border": null,
            "bottom": null,
            "display": null,
            "flex": null,
            "flex_flow": null,
            "grid_area": null,
            "grid_auto_columns": null,
            "grid_auto_flow": null,
            "grid_auto_rows": null,
            "grid_column": null,
            "grid_gap": null,
            "grid_row": null,
            "grid_template_areas": null,
            "grid_template_columns": null,
            "grid_template_rows": null,
            "height": null,
            "justify_content": null,
            "justify_items": null,
            "left": null,
            "margin": null,
            "max_height": null,
            "max_width": null,
            "min_height": null,
            "min_width": null,
            "object_fit": null,
            "object_position": null,
            "order": null,
            "overflow": null,
            "overflow_x": null,
            "overflow_y": null,
            "padding": null,
            "right": null,
            "top": null,
            "visibility": null,
            "width": null
          }
        },
        "2cc773a8f8d64284bd80dcf7f4e2133f": {
          "model_module": "@jupyter-widgets/controls",
          "model_name": "DescriptionStyleModel",
          "model_module_version": "1.5.0",
          "state": {
            "_model_module": "@jupyter-widgets/controls",
            "_model_module_version": "1.5.0",
            "_model_name": "DescriptionStyleModel",
            "_view_count": null,
            "_view_module": "@jupyter-widgets/base",
            "_view_module_version": "1.2.0",
            "_view_name": "StyleView",
            "description_width": ""
          }
        },
        "2d218dd7c5d3417bb9e301bd7dac1e11": {
          "model_module": "@jupyter-widgets/base",
          "model_name": "LayoutModel",
          "model_module_version": "1.2.0",
          "state": {
            "_model_module": "@jupyter-widgets/base",
            "_model_module_version": "1.2.0",
            "_model_name": "LayoutModel",
            "_view_count": null,
            "_view_module": "@jupyter-widgets/base",
            "_view_module_version": "1.2.0",
            "_view_name": "LayoutView",
            "align_content": null,
            "align_items": null,
            "align_self": null,
            "border": null,
            "bottom": null,
            "display": null,
            "flex": null,
            "flex_flow": null,
            "grid_area": null,
            "grid_auto_columns": null,
            "grid_auto_flow": null,
            "grid_auto_rows": null,
            "grid_column": null,
            "grid_gap": null,
            "grid_row": null,
            "grid_template_areas": null,
            "grid_template_columns": null,
            "grid_template_rows": null,
            "height": null,
            "justify_content": null,
            "justify_items": null,
            "left": null,
            "margin": null,
            "max_height": null,
            "max_width": null,
            "min_height": null,
            "min_width": null,
            "object_fit": null,
            "object_position": null,
            "order": null,
            "overflow": null,
            "overflow_x": null,
            "overflow_y": null,
            "padding": null,
            "right": null,
            "top": null,
            "visibility": null,
            "width": null
          }
        },
        "0e40cad112ec49a7bd19fa68d2472b26": {
          "model_module": "@jupyter-widgets/controls",
          "model_name": "ProgressStyleModel",
          "model_module_version": "1.5.0",
          "state": {
            "_model_module": "@jupyter-widgets/controls",
            "_model_module_version": "1.5.0",
            "_model_name": "ProgressStyleModel",
            "_view_count": null,
            "_view_module": "@jupyter-widgets/base",
            "_view_module_version": "1.2.0",
            "_view_name": "StyleView",
            "bar_color": null,
            "description_width": ""
          }
        },
        "2542e19775c44226b462bde780f472a6": {
          "model_module": "@jupyter-widgets/base",
          "model_name": "LayoutModel",
          "model_module_version": "1.2.0",
          "state": {
            "_model_module": "@jupyter-widgets/base",
            "_model_module_version": "1.2.0",
            "_model_name": "LayoutModel",
            "_view_count": null,
            "_view_module": "@jupyter-widgets/base",
            "_view_module_version": "1.2.0",
            "_view_name": "LayoutView",
            "align_content": null,
            "align_items": null,
            "align_self": null,
            "border": null,
            "bottom": null,
            "display": null,
            "flex": null,
            "flex_flow": null,
            "grid_area": null,
            "grid_auto_columns": null,
            "grid_auto_flow": null,
            "grid_auto_rows": null,
            "grid_column": null,
            "grid_gap": null,
            "grid_row": null,
            "grid_template_areas": null,
            "grid_template_columns": null,
            "grid_template_rows": null,
            "height": null,
            "justify_content": null,
            "justify_items": null,
            "left": null,
            "margin": null,
            "max_height": null,
            "max_width": null,
            "min_height": null,
            "min_width": null,
            "object_fit": null,
            "object_position": null,
            "order": null,
            "overflow": null,
            "overflow_x": null,
            "overflow_y": null,
            "padding": null,
            "right": null,
            "top": null,
            "visibility": null,
            "width": null
          }
        },
        "e0fa9061972f48ae931a5c44328b4784": {
          "model_module": "@jupyter-widgets/controls",
          "model_name": "DescriptionStyleModel",
          "model_module_version": "1.5.0",
          "state": {
            "_model_module": "@jupyter-widgets/controls",
            "_model_module_version": "1.5.0",
            "_model_name": "DescriptionStyleModel",
            "_view_count": null,
            "_view_module": "@jupyter-widgets/base",
            "_view_module_version": "1.2.0",
            "_view_name": "StyleView",
            "description_width": ""
          }
        },
        "b26440bfc5c144f39a506d40d946380d": {
          "model_module": "@jupyter-widgets/controls",
          "model_name": "HBoxModel",
          "model_module_version": "1.5.0",
          "state": {
            "_dom_classes": [],
            "_model_module": "@jupyter-widgets/controls",
            "_model_module_version": "1.5.0",
            "_model_name": "HBoxModel",
            "_view_count": null,
            "_view_module": "@jupyter-widgets/controls",
            "_view_module_version": "1.5.0",
            "_view_name": "HBoxView",
            "box_style": "",
            "children": [
              "IPY_MODEL_6b680bb6d385488b8445aed35965c69f",
              "IPY_MODEL_3f0d30004ade4cfd916513e5228d1308",
              "IPY_MODEL_7f0539c1cfdc4a00a64386960d74bab7"
            ],
            "layout": "IPY_MODEL_8ca0cc9b3c5e4d01b83efac0313c9ba4"
          }
        },
        "6b680bb6d385488b8445aed35965c69f": {
          "model_module": "@jupyter-widgets/controls",
          "model_name": "HTMLModel",
          "model_module_version": "1.5.0",
          "state": {
            "_dom_classes": [],
            "_model_module": "@jupyter-widgets/controls",
            "_model_module_version": "1.5.0",
            "_model_name": "HTMLModel",
            "_view_count": null,
            "_view_module": "@jupyter-widgets/controls",
            "_view_module_version": "1.5.0",
            "_view_name": "HTMLView",
            "description": "",
            "description_tooltip": null,
            "layout": "IPY_MODEL_09246e560bc145b988fe176716998bdd",
            "placeholder": "​",
            "style": "IPY_MODEL_703da8d810d74f108b5caca089aa663f",
            "value": "100%"
          }
        },
        "3f0d30004ade4cfd916513e5228d1308": {
          "model_module": "@jupyter-widgets/controls",
          "model_name": "FloatProgressModel",
          "model_module_version": "1.5.0",
          "state": {
            "_dom_classes": [],
            "_model_module": "@jupyter-widgets/controls",
            "_model_module_version": "1.5.0",
            "_model_name": "FloatProgressModel",
            "_view_count": null,
            "_view_module": "@jupyter-widgets/controls",
            "_view_module_version": "1.5.0",
            "_view_name": "ProgressView",
            "bar_style": "success",
            "description": "",
            "description_tooltip": null,
            "layout": "IPY_MODEL_0fcbf39ee6a1465cb4d864982222f439",
            "max": 200,
            "min": 0,
            "orientation": "horizontal",
            "style": "IPY_MODEL_a85acdd52dc542429c9d8dd424e40b88",
            "value": 200
          }
        },
        "7f0539c1cfdc4a00a64386960d74bab7": {
          "model_module": "@jupyter-widgets/controls",
          "model_name": "HTMLModel",
          "model_module_version": "1.5.0",
          "state": {
            "_dom_classes": [],
            "_model_module": "@jupyter-widgets/controls",
            "_model_module_version": "1.5.0",
            "_model_name": "HTMLModel",
            "_view_count": null,
            "_view_module": "@jupyter-widgets/controls",
            "_view_module_version": "1.5.0",
            "_view_name": "HTMLView",
            "description": "",
            "description_tooltip": null,
            "layout": "IPY_MODEL_0144898fbda6428fa651440091ba1d6f",
            "placeholder": "​",
            "style": "IPY_MODEL_cf7db8864d094e85b64c284001f22d00",
            "value": " 200/200 [01:09&lt;00:00,  2.85it/s]"
          }
        },
        "8ca0cc9b3c5e4d01b83efac0313c9ba4": {
          "model_module": "@jupyter-widgets/base",
          "model_name": "LayoutModel",
          "model_module_version": "1.2.0",
          "state": {
            "_model_module": "@jupyter-widgets/base",
            "_model_module_version": "1.2.0",
            "_model_name": "LayoutModel",
            "_view_count": null,
            "_view_module": "@jupyter-widgets/base",
            "_view_module_version": "1.2.0",
            "_view_name": "LayoutView",
            "align_content": null,
            "align_items": null,
            "align_self": null,
            "border": null,
            "bottom": null,
            "display": null,
            "flex": null,
            "flex_flow": null,
            "grid_area": null,
            "grid_auto_columns": null,
            "grid_auto_flow": null,
            "grid_auto_rows": null,
            "grid_column": null,
            "grid_gap": null,
            "grid_row": null,
            "grid_template_areas": null,
            "grid_template_columns": null,
            "grid_template_rows": null,
            "height": null,
            "justify_content": null,
            "justify_items": null,
            "left": null,
            "margin": null,
            "max_height": null,
            "max_width": null,
            "min_height": null,
            "min_width": null,
            "object_fit": null,
            "object_position": null,
            "order": null,
            "overflow": null,
            "overflow_x": null,
            "overflow_y": null,
            "padding": null,
            "right": null,
            "top": null,
            "visibility": null,
            "width": null
          }
        },
        "09246e560bc145b988fe176716998bdd": {
          "model_module": "@jupyter-widgets/base",
          "model_name": "LayoutModel",
          "model_module_version": "1.2.0",
          "state": {
            "_model_module": "@jupyter-widgets/base",
            "_model_module_version": "1.2.0",
            "_model_name": "LayoutModel",
            "_view_count": null,
            "_view_module": "@jupyter-widgets/base",
            "_view_module_version": "1.2.0",
            "_view_name": "LayoutView",
            "align_content": null,
            "align_items": null,
            "align_self": null,
            "border": null,
            "bottom": null,
            "display": null,
            "flex": null,
            "flex_flow": null,
            "grid_area": null,
            "grid_auto_columns": null,
            "grid_auto_flow": null,
            "grid_auto_rows": null,
            "grid_column": null,
            "grid_gap": null,
            "grid_row": null,
            "grid_template_areas": null,
            "grid_template_columns": null,
            "grid_template_rows": null,
            "height": null,
            "justify_content": null,
            "justify_items": null,
            "left": null,
            "margin": null,
            "max_height": null,
            "max_width": null,
            "min_height": null,
            "min_width": null,
            "object_fit": null,
            "object_position": null,
            "order": null,
            "overflow": null,
            "overflow_x": null,
            "overflow_y": null,
            "padding": null,
            "right": null,
            "top": null,
            "visibility": null,
            "width": null
          }
        },
        "703da8d810d74f108b5caca089aa663f": {
          "model_module": "@jupyter-widgets/controls",
          "model_name": "DescriptionStyleModel",
          "model_module_version": "1.5.0",
          "state": {
            "_model_module": "@jupyter-widgets/controls",
            "_model_module_version": "1.5.0",
            "_model_name": "DescriptionStyleModel",
            "_view_count": null,
            "_view_module": "@jupyter-widgets/base",
            "_view_module_version": "1.2.0",
            "_view_name": "StyleView",
            "description_width": ""
          }
        },
        "0fcbf39ee6a1465cb4d864982222f439": {
          "model_module": "@jupyter-widgets/base",
          "model_name": "LayoutModel",
          "model_module_version": "1.2.0",
          "state": {
            "_model_module": "@jupyter-widgets/base",
            "_model_module_version": "1.2.0",
            "_model_name": "LayoutModel",
            "_view_count": null,
            "_view_module": "@jupyter-widgets/base",
            "_view_module_version": "1.2.0",
            "_view_name": "LayoutView",
            "align_content": null,
            "align_items": null,
            "align_self": null,
            "border": null,
            "bottom": null,
            "display": null,
            "flex": null,
            "flex_flow": null,
            "grid_area": null,
            "grid_auto_columns": null,
            "grid_auto_flow": null,
            "grid_auto_rows": null,
            "grid_column": null,
            "grid_gap": null,
            "grid_row": null,
            "grid_template_areas": null,
            "grid_template_columns": null,
            "grid_template_rows": null,
            "height": null,
            "justify_content": null,
            "justify_items": null,
            "left": null,
            "margin": null,
            "max_height": null,
            "max_width": null,
            "min_height": null,
            "min_width": null,
            "object_fit": null,
            "object_position": null,
            "order": null,
            "overflow": null,
            "overflow_x": null,
            "overflow_y": null,
            "padding": null,
            "right": null,
            "top": null,
            "visibility": null,
            "width": null
          }
        },
        "a85acdd52dc542429c9d8dd424e40b88": {
          "model_module": "@jupyter-widgets/controls",
          "model_name": "ProgressStyleModel",
          "model_module_version": "1.5.0",
          "state": {
            "_model_module": "@jupyter-widgets/controls",
            "_model_module_version": "1.5.0",
            "_model_name": "ProgressStyleModel",
            "_view_count": null,
            "_view_module": "@jupyter-widgets/base",
            "_view_module_version": "1.2.0",
            "_view_name": "StyleView",
            "bar_color": null,
            "description_width": ""
          }
        },
        "0144898fbda6428fa651440091ba1d6f": {
          "model_module": "@jupyter-widgets/base",
          "model_name": "LayoutModel",
          "model_module_version": "1.2.0",
          "state": {
            "_model_module": "@jupyter-widgets/base",
            "_model_module_version": "1.2.0",
            "_model_name": "LayoutModel",
            "_view_count": null,
            "_view_module": "@jupyter-widgets/base",
            "_view_module_version": "1.2.0",
            "_view_name": "LayoutView",
            "align_content": null,
            "align_items": null,
            "align_self": null,
            "border": null,
            "bottom": null,
            "display": null,
            "flex": null,
            "flex_flow": null,
            "grid_area": null,
            "grid_auto_columns": null,
            "grid_auto_flow": null,
            "grid_auto_rows": null,
            "grid_column": null,
            "grid_gap": null,
            "grid_row": null,
            "grid_template_areas": null,
            "grid_template_columns": null,
            "grid_template_rows": null,
            "height": null,
            "justify_content": null,
            "justify_items": null,
            "left": null,
            "margin": null,
            "max_height": null,
            "max_width": null,
            "min_height": null,
            "min_width": null,
            "object_fit": null,
            "object_position": null,
            "order": null,
            "overflow": null,
            "overflow_x": null,
            "overflow_y": null,
            "padding": null,
            "right": null,
            "top": null,
            "visibility": null,
            "width": null
          }
        },
        "cf7db8864d094e85b64c284001f22d00": {
          "model_module": "@jupyter-widgets/controls",
          "model_name": "DescriptionStyleModel",
          "model_module_version": "1.5.0",
          "state": {
            "_model_module": "@jupyter-widgets/controls",
            "_model_module_version": "1.5.0",
            "_model_name": "DescriptionStyleModel",
            "_view_count": null,
            "_view_module": "@jupyter-widgets/base",
            "_view_module_version": "1.2.0",
            "_view_name": "StyleView",
            "description_width": ""
          }
        },
        "b9b501f3c0544fb289e8e8d181419cc6": {
          "model_module": "@jupyter-widgets/controls",
          "model_name": "HBoxModel",
          "model_module_version": "1.5.0",
          "state": {
            "_dom_classes": [],
            "_model_module": "@jupyter-widgets/controls",
            "_model_module_version": "1.5.0",
            "_model_name": "HBoxModel",
            "_view_count": null,
            "_view_module": "@jupyter-widgets/controls",
            "_view_module_version": "1.5.0",
            "_view_name": "HBoxView",
            "box_style": "",
            "children": [
              "IPY_MODEL_03f50ee7b6a84720af374332ea029d5f",
              "IPY_MODEL_36d719a4e2a74aeaaa29e513923e2ec0",
              "IPY_MODEL_e2134bede0bc475aaca0b6be95ca9bec"
            ],
            "layout": "IPY_MODEL_a41ea01a1c764e42ae5ae0e4a849cd65"
          }
        },
        "03f50ee7b6a84720af374332ea029d5f": {
          "model_module": "@jupyter-widgets/controls",
          "model_name": "HTMLModel",
          "model_module_version": "1.5.0",
          "state": {
            "_dom_classes": [],
            "_model_module": "@jupyter-widgets/controls",
            "_model_module_version": "1.5.0",
            "_model_name": "HTMLModel",
            "_view_count": null,
            "_view_module": "@jupyter-widgets/controls",
            "_view_module_version": "1.5.0",
            "_view_name": "HTMLView",
            "description": "",
            "description_tooltip": null,
            "layout": "IPY_MODEL_ac3d17f9b7a64213bf1713d0c860ee78",
            "placeholder": "​",
            "style": "IPY_MODEL_e969845658004be48a1ad67802035456",
            "value": "100%"
          }
        },
        "36d719a4e2a74aeaaa29e513923e2ec0": {
          "model_module": "@jupyter-widgets/controls",
          "model_name": "FloatProgressModel",
          "model_module_version": "1.5.0",
          "state": {
            "_dom_classes": [],
            "_model_module": "@jupyter-widgets/controls",
            "_model_module_version": "1.5.0",
            "_model_name": "FloatProgressModel",
            "_view_count": null,
            "_view_module": "@jupyter-widgets/controls",
            "_view_module_version": "1.5.0",
            "_view_name": "ProgressView",
            "bar_style": "success",
            "description": "",
            "description_tooltip": null,
            "layout": "IPY_MODEL_d9a9524483be43768ff433b8ae616825",
            "max": 200,
            "min": 0,
            "orientation": "horizontal",
            "style": "IPY_MODEL_a33922edb4fd494b9b935a96fc9fa19c",
            "value": 200
          }
        },
        "e2134bede0bc475aaca0b6be95ca9bec": {
          "model_module": "@jupyter-widgets/controls",
          "model_name": "HTMLModel",
          "model_module_version": "1.5.0",
          "state": {
            "_dom_classes": [],
            "_model_module": "@jupyter-widgets/controls",
            "_model_module_version": "1.5.0",
            "_model_name": "HTMLModel",
            "_view_count": null,
            "_view_module": "@jupyter-widgets/controls",
            "_view_module_version": "1.5.0",
            "_view_name": "HTMLView",
            "description": "",
            "description_tooltip": null,
            "layout": "IPY_MODEL_3ee6fc78333841bebdd909d425139fc4",
            "placeholder": "​",
            "style": "IPY_MODEL_4968f09808d84d9894ec2d8453f0eb77",
            "value": " 200/200 [01:16&lt;00:00,  2.62it/s]"
          }
        },
        "a41ea01a1c764e42ae5ae0e4a849cd65": {
          "model_module": "@jupyter-widgets/base",
          "model_name": "LayoutModel",
          "model_module_version": "1.2.0",
          "state": {
            "_model_module": "@jupyter-widgets/base",
            "_model_module_version": "1.2.0",
            "_model_name": "LayoutModel",
            "_view_count": null,
            "_view_module": "@jupyter-widgets/base",
            "_view_module_version": "1.2.0",
            "_view_name": "LayoutView",
            "align_content": null,
            "align_items": null,
            "align_self": null,
            "border": null,
            "bottom": null,
            "display": null,
            "flex": null,
            "flex_flow": null,
            "grid_area": null,
            "grid_auto_columns": null,
            "grid_auto_flow": null,
            "grid_auto_rows": null,
            "grid_column": null,
            "grid_gap": null,
            "grid_row": null,
            "grid_template_areas": null,
            "grid_template_columns": null,
            "grid_template_rows": null,
            "height": null,
            "justify_content": null,
            "justify_items": null,
            "left": null,
            "margin": null,
            "max_height": null,
            "max_width": null,
            "min_height": null,
            "min_width": null,
            "object_fit": null,
            "object_position": null,
            "order": null,
            "overflow": null,
            "overflow_x": null,
            "overflow_y": null,
            "padding": null,
            "right": null,
            "top": null,
            "visibility": null,
            "width": null
          }
        },
        "ac3d17f9b7a64213bf1713d0c860ee78": {
          "model_module": "@jupyter-widgets/base",
          "model_name": "LayoutModel",
          "model_module_version": "1.2.0",
          "state": {
            "_model_module": "@jupyter-widgets/base",
            "_model_module_version": "1.2.0",
            "_model_name": "LayoutModel",
            "_view_count": null,
            "_view_module": "@jupyter-widgets/base",
            "_view_module_version": "1.2.0",
            "_view_name": "LayoutView",
            "align_content": null,
            "align_items": null,
            "align_self": null,
            "border": null,
            "bottom": null,
            "display": null,
            "flex": null,
            "flex_flow": null,
            "grid_area": null,
            "grid_auto_columns": null,
            "grid_auto_flow": null,
            "grid_auto_rows": null,
            "grid_column": null,
            "grid_gap": null,
            "grid_row": null,
            "grid_template_areas": null,
            "grid_template_columns": null,
            "grid_template_rows": null,
            "height": null,
            "justify_content": null,
            "justify_items": null,
            "left": null,
            "margin": null,
            "max_height": null,
            "max_width": null,
            "min_height": null,
            "min_width": null,
            "object_fit": null,
            "object_position": null,
            "order": null,
            "overflow": null,
            "overflow_x": null,
            "overflow_y": null,
            "padding": null,
            "right": null,
            "top": null,
            "visibility": null,
            "width": null
          }
        },
        "e969845658004be48a1ad67802035456": {
          "model_module": "@jupyter-widgets/controls",
          "model_name": "DescriptionStyleModel",
          "model_module_version": "1.5.0",
          "state": {
            "_model_module": "@jupyter-widgets/controls",
            "_model_module_version": "1.5.0",
            "_model_name": "DescriptionStyleModel",
            "_view_count": null,
            "_view_module": "@jupyter-widgets/base",
            "_view_module_version": "1.2.0",
            "_view_name": "StyleView",
            "description_width": ""
          }
        },
        "d9a9524483be43768ff433b8ae616825": {
          "model_module": "@jupyter-widgets/base",
          "model_name": "LayoutModel",
          "model_module_version": "1.2.0",
          "state": {
            "_model_module": "@jupyter-widgets/base",
            "_model_module_version": "1.2.0",
            "_model_name": "LayoutModel",
            "_view_count": null,
            "_view_module": "@jupyter-widgets/base",
            "_view_module_version": "1.2.0",
            "_view_name": "LayoutView",
            "align_content": null,
            "align_items": null,
            "align_self": null,
            "border": null,
            "bottom": null,
            "display": null,
            "flex": null,
            "flex_flow": null,
            "grid_area": null,
            "grid_auto_columns": null,
            "grid_auto_flow": null,
            "grid_auto_rows": null,
            "grid_column": null,
            "grid_gap": null,
            "grid_row": null,
            "grid_template_areas": null,
            "grid_template_columns": null,
            "grid_template_rows": null,
            "height": null,
            "justify_content": null,
            "justify_items": null,
            "left": null,
            "margin": null,
            "max_height": null,
            "max_width": null,
            "min_height": null,
            "min_width": null,
            "object_fit": null,
            "object_position": null,
            "order": null,
            "overflow": null,
            "overflow_x": null,
            "overflow_y": null,
            "padding": null,
            "right": null,
            "top": null,
            "visibility": null,
            "width": null
          }
        },
        "a33922edb4fd494b9b935a96fc9fa19c": {
          "model_module": "@jupyter-widgets/controls",
          "model_name": "ProgressStyleModel",
          "model_module_version": "1.5.0",
          "state": {
            "_model_module": "@jupyter-widgets/controls",
            "_model_module_version": "1.5.0",
            "_model_name": "ProgressStyleModel",
            "_view_count": null,
            "_view_module": "@jupyter-widgets/base",
            "_view_module_version": "1.2.0",
            "_view_name": "StyleView",
            "bar_color": null,
            "description_width": ""
          }
        },
        "3ee6fc78333841bebdd909d425139fc4": {
          "model_module": "@jupyter-widgets/base",
          "model_name": "LayoutModel",
          "model_module_version": "1.2.0",
          "state": {
            "_model_module": "@jupyter-widgets/base",
            "_model_module_version": "1.2.0",
            "_model_name": "LayoutModel",
            "_view_count": null,
            "_view_module": "@jupyter-widgets/base",
            "_view_module_version": "1.2.0",
            "_view_name": "LayoutView",
            "align_content": null,
            "align_items": null,
            "align_self": null,
            "border": null,
            "bottom": null,
            "display": null,
            "flex": null,
            "flex_flow": null,
            "grid_area": null,
            "grid_auto_columns": null,
            "grid_auto_flow": null,
            "grid_auto_rows": null,
            "grid_column": null,
            "grid_gap": null,
            "grid_row": null,
            "grid_template_areas": null,
            "grid_template_columns": null,
            "grid_template_rows": null,
            "height": null,
            "justify_content": null,
            "justify_items": null,
            "left": null,
            "margin": null,
            "max_height": null,
            "max_width": null,
            "min_height": null,
            "min_width": null,
            "object_fit": null,
            "object_position": null,
            "order": null,
            "overflow": null,
            "overflow_x": null,
            "overflow_y": null,
            "padding": null,
            "right": null,
            "top": null,
            "visibility": null,
            "width": null
          }
        },
        "4968f09808d84d9894ec2d8453f0eb77": {
          "model_module": "@jupyter-widgets/controls",
          "model_name": "DescriptionStyleModel",
          "model_module_version": "1.5.0",
          "state": {
            "_model_module": "@jupyter-widgets/controls",
            "_model_module_version": "1.5.0",
            "_model_name": "DescriptionStyleModel",
            "_view_count": null,
            "_view_module": "@jupyter-widgets/base",
            "_view_module_version": "1.2.0",
            "_view_name": "StyleView",
            "description_width": ""
          }
        },
        "a8c397187d1440c5b0f86e987f6360a4": {
          "model_module": "@jupyter-widgets/controls",
          "model_name": "TabModel",
          "model_module_version": "1.5.0",
          "state": {
            "_dom_classes": [],
            "_model_module": "@jupyter-widgets/controls",
            "_model_module_version": "1.5.0",
            "_model_name": "TabModel",
            "_titles": {
              "0": "Youtube",
              "1": "Bilibili"
            },
            "_view_count": null,
            "_view_module": "@jupyter-widgets/controls",
            "_view_module_version": "1.5.0",
            "_view_name": "TabView",
            "box_style": "",
            "children": [
              "IPY_MODEL_ba8690a3d81844809acbdfb0a16606ba",
              "IPY_MODEL_5b8c9c3eeef14cc5b555241cc57f77f5"
            ],
            "layout": "IPY_MODEL_6abcb918f8574fc0b3328bc86a09c54f",
            "selected_index": 0
          }
        },
        "ba8690a3d81844809acbdfb0a16606ba": {
          "model_module": "@jupyter-widgets/output",
          "model_name": "OutputModel",
          "model_module_version": "1.0.0",
          "state": {
            "_dom_classes": [],
            "_model_module": "@jupyter-widgets/output",
            "_model_module_version": "1.0.0",
            "_model_name": "OutputModel",
            "_view_count": null,
            "_view_module": "@jupyter-widgets/output",
            "_view_module_version": "1.0.0",
            "_view_name": "OutputView",
            "layout": "IPY_MODEL_0db369f9a41c4ebca50d87f52debbeec",
            "msg_id": "",
            "outputs": [
              {
                "output_type": "stream",
                "name": "stdout",
                "text": [
                  "Video available at https://youtube.com/watch?v=72IG2bX5l30\n"
                ]
              },
              {
                "output_type": "display_data",
                "data": {
                  "text/plain": "<IPython.lib.display.YouTubeVideo at 0x7fe2ef65f7d0>",
                  "text/html": "\n        <iframe\n            width=\"854\"\n            height=\"480\"\n            src=\"https://www.youtube.com/embed/72IG2bX5l30?fs=1&rel=0\"\n            frameborder=\"0\"\n            allowfullscreen\n        ></iframe>\n        ",
                  "image/jpeg": "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\n"
                },
                "metadata": {}
              }
            ]
          }
        },
        "5b8c9c3eeef14cc5b555241cc57f77f5": {
          "model_module": "@jupyter-widgets/output",
          "model_name": "OutputModel",
          "model_module_version": "1.0.0",
          "state": {
            "_dom_classes": [],
            "_model_module": "@jupyter-widgets/output",
            "_model_module_version": "1.0.0",
            "_model_name": "OutputModel",
            "_view_count": null,
            "_view_module": "@jupyter-widgets/output",
            "_view_module_version": "1.0.0",
            "_view_name": "OutputView",
            "layout": "IPY_MODEL_908417a2a30f4b359c6b10d68c0e775f",
            "msg_id": "",
            "outputs": [
              {
                "output_type": "stream",
                "name": "stdout",
                "text": [
                  "Video available at https://www.bilibili.com/video/BV1cB4y1K777\n"
                ]
              },
              {
                "output_type": "display_data",
                "data": {
                  "text/plain": "<__main__.BiliVideo at 0x7fe2ef5f4110>",
                  "text/html": "\n        <iframe\n            width=\"854\"\n            height=\"480\"\n            src=\"https://player.bilibili.com/player.html?bvid=BV1cB4y1K777&page=1?fs=1\"\n            frameborder=\"0\"\n            allowfullscreen\n        ></iframe>\n        "
                },
                "metadata": {}
              }
            ]
          }
        },
        "6abcb918f8574fc0b3328bc86a09c54f": {
          "model_module": "@jupyter-widgets/base",
          "model_name": "LayoutModel",
          "model_module_version": "1.2.0",
          "state": {
            "_model_module": "@jupyter-widgets/base",
            "_model_module_version": "1.2.0",
            "_model_name": "LayoutModel",
            "_view_count": null,
            "_view_module": "@jupyter-widgets/base",
            "_view_module_version": "1.2.0",
            "_view_name": "LayoutView",
            "align_content": null,
            "align_items": null,
            "align_self": null,
            "border": null,
            "bottom": null,
            "display": null,
            "flex": null,
            "flex_flow": null,
            "grid_area": null,
            "grid_auto_columns": null,
            "grid_auto_flow": null,
            "grid_auto_rows": null,
            "grid_column": null,
            "grid_gap": null,
            "grid_row": null,
            "grid_template_areas": null,
            "grid_template_columns": null,
            "grid_template_rows": null,
            "height": null,
            "justify_content": null,
            "justify_items": null,
            "left": null,
            "margin": null,
            "max_height": null,
            "max_width": null,
            "min_height": null,
            "min_width": null,
            "object_fit": null,
            "object_position": null,
            "order": null,
            "overflow": null,
            "overflow_x": null,
            "overflow_y": null,
            "padding": null,
            "right": null,
            "top": null,
            "visibility": null,
            "width": null
          }
        },
        "0db369f9a41c4ebca50d87f52debbeec": {
          "model_module": "@jupyter-widgets/base",
          "model_name": "LayoutModel",
          "model_module_version": "1.2.0",
          "state": {
            "_model_module": "@jupyter-widgets/base",
            "_model_module_version": "1.2.0",
            "_model_name": "LayoutModel",
            "_view_count": null,
            "_view_module": "@jupyter-widgets/base",
            "_view_module_version": "1.2.0",
            "_view_name": "LayoutView",
            "align_content": null,
            "align_items": null,
            "align_self": null,
            "border": null,
            "bottom": null,
            "display": null,
            "flex": null,
            "flex_flow": null,
            "grid_area": null,
            "grid_auto_columns": null,
            "grid_auto_flow": null,
            "grid_auto_rows": null,
            "grid_column": null,
            "grid_gap": null,
            "grid_row": null,
            "grid_template_areas": null,
            "grid_template_columns": null,
            "grid_template_rows": null,
            "height": null,
            "justify_content": null,
            "justify_items": null,
            "left": null,
            "margin": null,
            "max_height": null,
            "max_width": null,
            "min_height": null,
            "min_width": null,
            "object_fit": null,
            "object_position": null,
            "order": null,
            "overflow": null,
            "overflow_x": null,
            "overflow_y": null,
            "padding": null,
            "right": null,
            "top": null,
            "visibility": null,
            "width": null
          }
        },
        "908417a2a30f4b359c6b10d68c0e775f": {
          "model_module": "@jupyter-widgets/base",
          "model_name": "LayoutModel",
          "model_module_version": "1.2.0",
          "state": {
            "_model_module": "@jupyter-widgets/base",
            "_model_module_version": "1.2.0",
            "_model_name": "LayoutModel",
            "_view_count": null,
            "_view_module": "@jupyter-widgets/base",
            "_view_module_version": "1.2.0",
            "_view_name": "LayoutView",
            "align_content": null,
            "align_items": null,
            "align_self": null,
            "border": null,
            "bottom": null,
            "display": null,
            "flex": null,
            "flex_flow": null,
            "grid_area": null,
            "grid_auto_columns": null,
            "grid_auto_flow": null,
            "grid_auto_rows": null,
            "grid_column": null,
            "grid_gap": null,
            "grid_row": null,
            "grid_template_areas": null,
            "grid_template_columns": null,
            "grid_template_rows": null,
            "height": null,
            "justify_content": null,
            "justify_items": null,
            "left": null,
            "margin": null,
            "max_height": null,
            "max_width": null,
            "min_height": null,
            "min_width": null,
            "object_fit": null,
            "object_position": null,
            "order": null,
            "overflow": null,
            "overflow_x": null,
            "overflow_y": null,
            "padding": null,
            "right": null,
            "top": null,
            "visibility": null,
            "width": null
          }
        },
        "aec84dbe49ea4be590d4971e0806ca32": {
          "model_module": "@jupyter-widgets/controls",
          "model_name": "HBoxModel",
          "model_module_version": "1.5.0",
          "state": {
            "_dom_classes": [],
            "_model_module": "@jupyter-widgets/controls",
            "_model_module_version": "1.5.0",
            "_model_name": "HBoxModel",
            "_view_count": null,
            "_view_module": "@jupyter-widgets/controls",
            "_view_module_version": "1.5.0",
            "_view_name": "HBoxView",
            "box_style": "",
            "children": [
              "IPY_MODEL_57980522f8d94c30aa30b90a3ed4238c",
              "IPY_MODEL_e53cb18e7e9147d39b14ded1e562ec7b",
              "IPY_MODEL_810967daa4794ceb8b717bbb879f205c"
            ],
            "layout": "IPY_MODEL_e8b7c1241b044be391c62d0ec30baead"
          }
        },
        "57980522f8d94c30aa30b90a3ed4238c": {
          "model_module": "@jupyter-widgets/controls",
          "model_name": "HTMLModel",
          "model_module_version": "1.5.0",
          "state": {
            "_dom_classes": [],
            "_model_module": "@jupyter-widgets/controls",
            "_model_module_version": "1.5.0",
            "_model_name": "HTMLModel",
            "_view_count": null,
            "_view_module": "@jupyter-widgets/controls",
            "_view_module_version": "1.5.0",
            "_view_name": "HTMLView",
            "description": "",
            "description_tooltip": null,
            "layout": "IPY_MODEL_a855a05b5b5a45dc81689729699d8af7",
            "placeholder": "​",
            "style": "IPY_MODEL_803c1006b8704d5682b51e2780e69279",
            "value": " 33%"
          }
        },
        "e53cb18e7e9147d39b14ded1e562ec7b": {
          "model_module": "@jupyter-widgets/controls",
          "model_name": "FloatProgressModel",
          "model_module_version": "1.5.0",
          "state": {
            "_dom_classes": [],
            "_model_module": "@jupyter-widgets/controls",
            "_model_module_version": "1.5.0",
            "_model_name": "FloatProgressModel",
            "_view_count": null,
            "_view_module": "@jupyter-widgets/controls",
            "_view_module_version": "1.5.0",
            "_view_name": "ProgressView",
            "bar_style": "danger",
            "description": "",
            "description_tooltip": null,
            "layout": "IPY_MODEL_e19fc72d3c87471a825175daceb071f1",
            "max": 200,
            "min": 0,
            "orientation": "horizontal",
            "style": "IPY_MODEL_6c6e864af1504c5eb9c0901ce113205a",
            "value": 66
          }
        },
        "810967daa4794ceb8b717bbb879f205c": {
          "model_module": "@jupyter-widgets/controls",
          "model_name": "HTMLModel",
          "model_module_version": "1.5.0",
          "state": {
            "_dom_classes": [],
            "_model_module": "@jupyter-widgets/controls",
            "_model_module_version": "1.5.0",
            "_model_name": "HTMLModel",
            "_view_count": null,
            "_view_module": "@jupyter-widgets/controls",
            "_view_module_version": "1.5.0",
            "_view_name": "HTMLView",
            "description": "",
            "description_tooltip": null,
            "layout": "IPY_MODEL_6de48f2464ff47b0bde1e95b8678d109",
            "placeholder": "​",
            "style": "IPY_MODEL_18809ef3b48e4ff7865b77a1584f6316",
            "value": " 66/200 [00:26&lt;00:49,  2.68it/s]"
          }
        },
        "e8b7c1241b044be391c62d0ec30baead": {
          "model_module": "@jupyter-widgets/base",
          "model_name": "LayoutModel",
          "model_module_version": "1.2.0",
          "state": {
            "_model_module": "@jupyter-widgets/base",
            "_model_module_version": "1.2.0",
            "_model_name": "LayoutModel",
            "_view_count": null,
            "_view_module": "@jupyter-widgets/base",
            "_view_module_version": "1.2.0",
            "_view_name": "LayoutView",
            "align_content": null,
            "align_items": null,
            "align_self": null,
            "border": null,
            "bottom": null,
            "display": null,
            "flex": null,
            "flex_flow": null,
            "grid_area": null,
            "grid_auto_columns": null,
            "grid_auto_flow": null,
            "grid_auto_rows": null,
            "grid_column": null,
            "grid_gap": null,
            "grid_row": null,
            "grid_template_areas": null,
            "grid_template_columns": null,
            "grid_template_rows": null,
            "height": null,
            "justify_content": null,
            "justify_items": null,
            "left": null,
            "margin": null,
            "max_height": null,
            "max_width": null,
            "min_height": null,
            "min_width": null,
            "object_fit": null,
            "object_position": null,
            "order": null,
            "overflow": null,
            "overflow_x": null,
            "overflow_y": null,
            "padding": null,
            "right": null,
            "top": null,
            "visibility": null,
            "width": null
          }
        },
        "a855a05b5b5a45dc81689729699d8af7": {
          "model_module": "@jupyter-widgets/base",
          "model_name": "LayoutModel",
          "model_module_version": "1.2.0",
          "state": {
            "_model_module": "@jupyter-widgets/base",
            "_model_module_version": "1.2.0",
            "_model_name": "LayoutModel",
            "_view_count": null,
            "_view_module": "@jupyter-widgets/base",
            "_view_module_version": "1.2.0",
            "_view_name": "LayoutView",
            "align_content": null,
            "align_items": null,
            "align_self": null,
            "border": null,
            "bottom": null,
            "display": null,
            "flex": null,
            "flex_flow": null,
            "grid_area": null,
            "grid_auto_columns": null,
            "grid_auto_flow": null,
            "grid_auto_rows": null,
            "grid_column": null,
            "grid_gap": null,
            "grid_row": null,
            "grid_template_areas": null,
            "grid_template_columns": null,
            "grid_template_rows": null,
            "height": null,
            "justify_content": null,
            "justify_items": null,
            "left": null,
            "margin": null,
            "max_height": null,
            "max_width": null,
            "min_height": null,
            "min_width": null,
            "object_fit": null,
            "object_position": null,
            "order": null,
            "overflow": null,
            "overflow_x": null,
            "overflow_y": null,
            "padding": null,
            "right": null,
            "top": null,
            "visibility": null,
            "width": null
          }
        },
        "803c1006b8704d5682b51e2780e69279": {
          "model_module": "@jupyter-widgets/controls",
          "model_name": "DescriptionStyleModel",
          "model_module_version": "1.5.0",
          "state": {
            "_model_module": "@jupyter-widgets/controls",
            "_model_module_version": "1.5.0",
            "_model_name": "DescriptionStyleModel",
            "_view_count": null,
            "_view_module": "@jupyter-widgets/base",
            "_view_module_version": "1.2.0",
            "_view_name": "StyleView",
            "description_width": ""
          }
        },
        "e19fc72d3c87471a825175daceb071f1": {
          "model_module": "@jupyter-widgets/base",
          "model_name": "LayoutModel",
          "model_module_version": "1.2.0",
          "state": {
            "_model_module": "@jupyter-widgets/base",
            "_model_module_version": "1.2.0",
            "_model_name": "LayoutModel",
            "_view_count": null,
            "_view_module": "@jupyter-widgets/base",
            "_view_module_version": "1.2.0",
            "_view_name": "LayoutView",
            "align_content": null,
            "align_items": null,
            "align_self": null,
            "border": null,
            "bottom": null,
            "display": null,
            "flex": null,
            "flex_flow": null,
            "grid_area": null,
            "grid_auto_columns": null,
            "grid_auto_flow": null,
            "grid_auto_rows": null,
            "grid_column": null,
            "grid_gap": null,
            "grid_row": null,
            "grid_template_areas": null,
            "grid_template_columns": null,
            "grid_template_rows": null,
            "height": null,
            "justify_content": null,
            "justify_items": null,
            "left": null,
            "margin": null,
            "max_height": null,
            "max_width": null,
            "min_height": null,
            "min_width": null,
            "object_fit": null,
            "object_position": null,
            "order": null,
            "overflow": null,
            "overflow_x": null,
            "overflow_y": null,
            "padding": null,
            "right": null,
            "top": null,
            "visibility": null,
            "width": null
          }
        },
        "6c6e864af1504c5eb9c0901ce113205a": {
          "model_module": "@jupyter-widgets/controls",
          "model_name": "ProgressStyleModel",
          "model_module_version": "1.5.0",
          "state": {
            "_model_module": "@jupyter-widgets/controls",
            "_model_module_version": "1.5.0",
            "_model_name": "ProgressStyleModel",
            "_view_count": null,
            "_view_module": "@jupyter-widgets/base",
            "_view_module_version": "1.2.0",
            "_view_name": "StyleView",
            "bar_color": null,
            "description_width": ""
          }
        },
        "6de48f2464ff47b0bde1e95b8678d109": {
          "model_module": "@jupyter-widgets/base",
          "model_name": "LayoutModel",
          "model_module_version": "1.2.0",
          "state": {
            "_model_module": "@jupyter-widgets/base",
            "_model_module_version": "1.2.0",
            "_model_name": "LayoutModel",
            "_view_count": null,
            "_view_module": "@jupyter-widgets/base",
            "_view_module_version": "1.2.0",
            "_view_name": "LayoutView",
            "align_content": null,
            "align_items": null,
            "align_self": null,
            "border": null,
            "bottom": null,
            "display": null,
            "flex": null,
            "flex_flow": null,
            "grid_area": null,
            "grid_auto_columns": null,
            "grid_auto_flow": null,
            "grid_auto_rows": null,
            "grid_column": null,
            "grid_gap": null,
            "grid_row": null,
            "grid_template_areas": null,
            "grid_template_columns": null,
            "grid_template_rows": null,
            "height": null,
            "justify_content": null,
            "justify_items": null,
            "left": null,
            "margin": null,
            "max_height": null,
            "max_width": null,
            "min_height": null,
            "min_width": null,
            "object_fit": null,
            "object_position": null,
            "order": null,
            "overflow": null,
            "overflow_x": null,
            "overflow_y": null,
            "padding": null,
            "right": null,
            "top": null,
            "visibility": null,
            "width": null
          }
        },
        "18809ef3b48e4ff7865b77a1584f6316": {
          "model_module": "@jupyter-widgets/controls",
          "model_name": "DescriptionStyleModel",
          "model_module_version": "1.5.0",
          "state": {
            "_model_module": "@jupyter-widgets/controls",
            "_model_module_version": "1.5.0",
            "_model_name": "DescriptionStyleModel",
            "_view_count": null,
            "_view_module": "@jupyter-widgets/base",
            "_view_module_version": "1.2.0",
            "_view_name": "StyleView",
            "description_width": ""
          }
        }
      }
    }
  },
  "nbformat": 4,
  "nbformat_minor": 0
}